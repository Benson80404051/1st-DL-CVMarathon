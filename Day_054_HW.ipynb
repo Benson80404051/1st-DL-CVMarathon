{
 "cells": [
  {
   "cell_type": "markdown",
   "metadata": {},
   "source": [
    "# 作業\n",
    "* 試著想想看, 非監督學習是否有可能使用評價函數 (Metric) 來鑑別好壞呢?  \n",
    "(Hint : 可以分為 \"有目標值\" 與 \"無目標值\" 兩個方向思考)"
   ]
  },
  {
   "cell_type": "markdown",
   "metadata": {
    "collapsed": true
   },
   "source": [
    "不行;<br>\n",
    "監督式學習主要藉由兩種方法來評估模型好壞<br>\n",
    "1. 回歸問題藉由計算殘差(sum of square), MSE..等\n",
    "2. 分類問題主要藉由計算accuracy, ROC, AUC..等\n",
    "不論是哪種評估方式, 都需要有相對應的label(ground truth)<br>\n",
    "監督式學習沒有label, 故不適合使用評價函數 (Metric)來評估模型好壞\n"
   ]
  }
 ],
 "metadata": {
  "kernelspec": {
   "display_name": "Python 3",
   "language": "python",
   "name": "python3"
  },
  "language_info": {
   "codemirror_mode": {
    "name": "ipython",
    "version": 3
   },
   "file_extension": ".py",
   "mimetype": "text/x-python",
   "name": "python",
   "nbconvert_exporter": "python",
   "pygments_lexer": "ipython3",
   "version": "3.7.6"
  }
 },
 "nbformat": 4,
 "nbformat_minor": 1
}
