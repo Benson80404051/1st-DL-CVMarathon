{
  "nbformat": 4,
  "nbformat_minor": 0,
  "metadata": {
    "kernelspec": {
      "display_name": "Python 3",
      "language": "python",
      "name": "python3"
    },
    "language_info": {
      "codemirror_mode": {
        "name": "ipython",
        "version": 3
      },
      "file_extension": ".py",
      "mimetype": "text/x-python",
      "name": "python",
      "nbconvert_exporter": "python",
      "pygments_lexer": "ipython3",
      "version": "3.7.6"
    },
    "colab": {
      "name": "Day_HW_096_Keras_CNN_layers.ipynb",
      "provenance": [],
      "collapsed_sections": []
    }
  },
  "cells": [
    {
      "cell_type": "code",
      "metadata": {
        "id": "fPATbu13VWtx"
      },
      "source": [
        "from keras.layers import Conv2D, SeparableConv2D, Input\n",
        "from keras.models import Model"
      ],
      "execution_count": 6,
      "outputs": []
    },
    {
      "cell_type": "code",
      "metadata": {
        "id": "_V1Q9xf2VWt2"
      },
      "source": [
        "input_image = Input((224, 224, 3))\n",
        "feature_maps = Conv2D(filters=32, kernel_size=(3,3))(input_image)\n",
        "feature_maps2 = Conv2D(filters=64, kernel_size=(3,3))(feature_maps)\n",
        "model = Model(inputs=input_image, outputs=feature_maps2)"
      ],
      "execution_count": 7,
      "outputs": []
    },
    {
      "cell_type": "code",
      "metadata": {
        "colab": {
          "base_uri": "https://localhost:8080/"
        },
        "id": "gYy65mRPVWt2",
        "outputId": "f3292a93-b247-4d00-db22-b2d7ab6df03f"
      },
      "source": [
        "model.summary()"
      ],
      "execution_count": 8,
      "outputs": [
        {
          "output_type": "stream",
          "text": [
            "Model: \"model_2\"\n",
            "_________________________________________________________________\n",
            "Layer (type)                 Output Shape              Param #   \n",
            "=================================================================\n",
            "input_3 (InputLayer)         [(None, 224, 224, 3)]     0         \n",
            "_________________________________________________________________\n",
            "conv2d_2 (Conv2D)            (None, 222, 222, 32)      896       \n",
            "_________________________________________________________________\n",
            "conv2d_3 (Conv2D)            (None, 220, 220, 64)      18496     \n",
            "=================================================================\n",
            "Total params: 19,392\n",
            "Trainable params: 19,392\n",
            "Non-trainable params: 0\n",
            "_________________________________________________________________\n"
          ],
          "name": "stdout"
        }
      ]
    },
    {
      "cell_type": "markdown",
      "metadata": {
        "id": "qZWM9-b5VWt3"
      },
      "source": [
        "## 可以看到經過兩次 Conv2D，如果沒有設定 padding=\"SAME\"，圖就會越來越小，同時特徵圖的 channel 數與 filters 的數量一致"
      ]
    },
    {
      "cell_type": "code",
      "metadata": {
        "id": "kwMjL7rAVWt3"
      },
      "source": [
        "input_image = Input((224, 224, 3))\n",
        "feature_maps = SeparableConv2D(filters=32, kernel_size=(3,3))(input_image)\n",
        "feature_maps2 = SeparableConv2D(filters=64, kernel_size=(3,3))(feature_maps)\n",
        "model = Model(inputs=input_image, outputs=feature_maps2)"
      ],
      "execution_count": 9,
      "outputs": []
    },
    {
      "cell_type": "code",
      "metadata": {
        "colab": {
          "base_uri": "https://localhost:8080/"
        },
        "id": "l0nESqhNVWt3",
        "outputId": "6a721eab-0001-4e9f-f8a3-300370d832ae"
      },
      "source": [
        "model.summary()"
      ],
      "execution_count": 10,
      "outputs": [
        {
          "output_type": "stream",
          "text": [
            "Model: \"model_3\"\n",
            "_________________________________________________________________\n",
            "Layer (type)                 Output Shape              Param #   \n",
            "=================================================================\n",
            "input_4 (InputLayer)         [(None, 224, 224, 3)]     0         \n",
            "_________________________________________________________________\n",
            "separable_conv2d_2 (Separabl (None, 222, 222, 32)      155       \n",
            "_________________________________________________________________\n",
            "separable_conv2d_3 (Separabl (None, 220, 220, 64)      2400      \n",
            "=================================================================\n",
            "Total params: 2,555\n",
            "Trainable params: 2,555\n",
            "Non-trainable params: 0\n",
            "_________________________________________________________________\n"
          ],
          "name": "stdout"
        }
      ]
    },
    {
      "cell_type": "markdown",
      "metadata": {
        "id": "EUwhVgzwVWt3"
      },
      "source": [
        "## 可以看到使用 Seperable Conv2D，即使模型設置都一模一樣，但是參數量明顯減少非常多！"
      ]
    },
    {
      "cell_type": "markdown",
      "metadata": {
        "id": "deOko8AWVWt4"
      },
      "source": [
        "## 作業"
      ]
    },
    {
      "cell_type": "markdown",
      "metadata": {
        "id": "WA_ZCm3TVWt4"
      },
      "source": [
        "請閱讀 Keras 官方範例 [mnist_cnn.py](https://github.com/keras-team/keras/blob/master/examples/mnist_cnn.py)  \n",
        "\n",
        "並回答下列問題。僅有 70 行程式碼，請確保每一行的程式碼你都能夠理解目的\n",
        "\n",
        "1. 是否有對資料做標準化 (normalization)? 如果有，在哪幾行?\n",
        "> 有, line 35, 36；將資料範圍從0-255轉換為0-1\n",
        "2. 使用的優化器 Optimizer 為何?\n",
        "> Adadelta\n",
        "3. 模型總共疊了幾層卷積層?\n",
        "> 兩層; 分別在line 46, 49\n",
        "4. 模型的參數量是多少?\n",
        "> 1st Conv2D 3*3*32+32 = 320 <br>\n",
        "> 2nd Conv2D 3*3*64*32+64=18496 <br>\n",
        "> 1st Dense 12*12*64*128+128=1179776 <br>\n",
        "> 2nd Dense 128*10+10=1290 <br>\n",
        "> `Total: 320+18496+1179776+1290=1,199,882 parameters` <br>"
      ]
    },
    {
      "cell_type": "code",
      "metadata": {
        "id": "aBm0jgHMVjZj"
      },
      "source": [
        ""
      ],
      "execution_count": 10,
      "outputs": []
    }
  ]
}