{
  "nbformat": 4,
  "nbformat_minor": 0,
  "metadata": {
    "accelerator": "GPU",
    "colab": {
      "name": "Day70-Keras_Mnist_MLP_HW.ipynb",
      "provenance": [],
      "collapsed_sections": []
    },
    "kernelspec": {
      "display_name": "Python 3",
      "language": "python",
      "name": "python3"
    },
    "language_info": {
      "codemirror_mode": {
        "name": "ipython",
        "version": 3
      },
      "file_extension": ".py",
      "mimetype": "text/x-python",
      "name": "python",
      "nbconvert_exporter": "python",
      "pygments_lexer": "ipython3",
      "version": "3.7.0"
    }
  },
  "cells": [
    {
      "cell_type": "markdown",
      "metadata": {
        "id": "Y0fZ3wYwH6oE"
      },
      "source": [
        "# 作業目標:¶\n",
        "利用手寫辨識資料說明MLP 中, 神經網路層的多寡跟預測結果的差異"
      ]
    },
    {
      "cell_type": "markdown",
      "metadata": {
        "id": "UYGK5s-zH6oG"
      },
      "source": [
        "# 作業重點:\n",
        "[練習]請嘗試新增一層或兩層看看最後預測結果是否有差異\n",
        "model.add(Dense(units=256, input_dim=784, kernel_initializer='normal', activation='relu'))\n",
        "\n",
        "> [原結果]  loss: 0.0080 - accuracy: 0.9979 - val_loss: 0.1013 - val_accuracy: 0.9755<br>\n",
        "> [加一層Dense] loss: 0.0108 - accuracy: 0.9965 - val_loss: 0.1163 - val_accuracy: 0.9770<br>\n",
        "> 新的模型在train/val loss 些許變大, 且train/val acc 些許變小<br>\n",
        "> 最後的模型準確度(model.evaluate)測試結果, 分數也是些許下降(0.9795 -> 0.9787)<br>\n",
        "> <每次訓練結果可能會不太一樣, 僅針對本次訓練結果進行總結>\n"
      ]
    },
    {
      "cell_type": "markdown",
      "metadata": {
        "id": "zfI5zCjRPlnc"
      },
      "source": [
        "# 資料預處理"
      ]
    },
    {
      "cell_type": "code",
      "metadata": {
        "id": "GyIQ7tpGPlnf"
      },
      "source": [
        "from keras.utils import np_utils\n",
        "import numpy as np\n",
        "np.random.seed(10)"
      ],
      "execution_count": 1,
      "outputs": []
    },
    {
      "cell_type": "code",
      "metadata": {
        "id": "OLzoKlJRPlno"
      },
      "source": [
        "#載入手寫辨識的資料集\n",
        "from keras.datasets import mnist\n",
        "(x_train_image,y_train_label),\\\n",
        "(x_test_image,y_test_label)= mnist.load_data()"
      ],
      "execution_count": 2,
      "outputs": []
    },
    {
      "cell_type": "code",
      "metadata": {
        "id": "QEuQwa4nPlnu"
      },
      "source": [
        "#指定測試集與訓練資料集\n",
        "x_Train =x_train_image.reshape(60000, 784).astype('float32')\n",
        "x_Test = x_test_image.reshape(10000, 784).astype('float32')"
      ],
      "execution_count": 3,
      "outputs": []
    },
    {
      "cell_type": "code",
      "metadata": {
        "id": "YisRq-SxPln0"
      },
      "source": [
        "# normalize inputs from 0-255 to 0-1\n",
        "x_Train_normalize = x_Train / 255\n",
        "x_Test_normalize = x_Test / 255"
      ],
      "execution_count": 4,
      "outputs": []
    },
    {
      "cell_type": "code",
      "metadata": {
        "id": "AHtfmzpfPln4"
      },
      "source": [
        "#把LABEL轉成NUMERICAL Categorical \n",
        "y_Train_OneHot = np_utils.to_categorical(y_train_label)\n",
        "y_Test_OneHot = np_utils.to_categorical(y_test_label)"
      ],
      "execution_count": 5,
      "outputs": []
    },
    {
      "cell_type": "markdown",
      "metadata": {
        "id": "0s8PjvqJPln7"
      },
      "source": [
        "# 建立模型"
      ]
    },
    {
      "cell_type": "code",
      "metadata": {
        "id": "N10v1eX2Pln8"
      },
      "source": [
        "from keras.models import Sequential\n",
        "from keras.layers import Dense"
      ],
      "execution_count": 6,
      "outputs": []
    },
    {
      "cell_type": "code",
      "metadata": {
        "id": "jmaxrsXwPln-"
      },
      "source": [
        "#建立模型\r\n",
        "model = Sequential()"
      ],
      "execution_count": 7,
      "outputs": []
    },
    {
      "cell_type": "code",
      "metadata": {
        "id": "p7dIZOqyH6oJ"
      },
      "source": [
        "#建構輸入層\r\n",
        "model.add(Dense(units=256,input_dim=784,kernel_initializer='normal',activation='relu'))"
      ],
      "execution_count": 8,
      "outputs": []
    },
    {
      "cell_type": "code",
      "metadata": {
        "id": "HljsFw7fJ5Xk"
      },
      "source": [
        "#多增加一層全連階層\r\n",
        "model.add(Dense(units=256, input_dim=784, kernel_initializer='normal', activation='relu'))"
      ],
      "execution_count": 9,
      "outputs": []
    },
    {
      "cell_type": "code",
      "metadata": {
        "id": "zUA6xr7kJ4q0"
      },
      "source": [
        "#建構輸出層\r\n",
        "model.add(Dense(units=10, \r\n",
        "                kernel_initializer='normal', \r\n",
        "                activation='softmax'))"
      ],
      "execution_count": 10,
      "outputs": []
    },
    {
      "cell_type": "markdown",
      "metadata": {
        "id": "jdoAZgv1PloK"
      },
      "source": [
        "# 訓練模型"
      ]
    },
    {
      "cell_type": "code",
      "metadata": {
        "id": "5d5wrEL3PloK"
      },
      "source": [
        "model.compile(loss='categorical_crossentropy', \n",
        "              optimizer='adam', metrics=['accuracy'])"
      ],
      "execution_count": 11,
      "outputs": []
    },
    {
      "cell_type": "code",
      "metadata": {
        "colab": {
          "base_uri": "https://localhost:8080/"
        },
        "id": "VlpjoqQ9PloM",
        "outputId": "96eb7770-d285-420c-9ec1-02fd1ceb4217"
      },
      "source": [
        "train_history =model.fit(x=x_Train_normalize,\n",
        "                         y=y_Train_OneHot,validation_split=0.2, \n",
        "                         epochs=10, batch_size=32,verbose=1)"
      ],
      "execution_count": 12,
      "outputs": [
        {
          "output_type": "stream",
          "text": [
            "Epoch 1/10\n",
            "1500/1500 [==============================] - 4s 2ms/step - loss: 0.4237 - accuracy: 0.8780 - val_loss: 0.1418 - val_accuracy: 0.9557\n",
            "Epoch 2/10\n",
            "1500/1500 [==============================] - 3s 2ms/step - loss: 0.0956 - accuracy: 0.9695 - val_loss: 0.1107 - val_accuracy: 0.9664\n",
            "Epoch 3/10\n",
            "1500/1500 [==============================] - 4s 2ms/step - loss: 0.0598 - accuracy: 0.9810 - val_loss: 0.0806 - val_accuracy: 0.9741\n",
            "Epoch 4/10\n",
            "1500/1500 [==============================] - 3s 2ms/step - loss: 0.0410 - accuracy: 0.9870 - val_loss: 0.0972 - val_accuracy: 0.9737\n",
            "Epoch 5/10\n",
            "1500/1500 [==============================] - 4s 2ms/step - loss: 0.0303 - accuracy: 0.9898 - val_loss: 0.0934 - val_accuracy: 0.9747\n",
            "Epoch 6/10\n",
            "1500/1500 [==============================] - 4s 2ms/step - loss: 0.0242 - accuracy: 0.9920 - val_loss: 0.1002 - val_accuracy: 0.9753\n",
            "Epoch 7/10\n",
            "1500/1500 [==============================] - 4s 2ms/step - loss: 0.0189 - accuracy: 0.9936 - val_loss: 0.1027 - val_accuracy: 0.9764\n",
            "Epoch 8/10\n",
            "1500/1500 [==============================] - 4s 3ms/step - loss: 0.0195 - accuracy: 0.9929 - val_loss: 0.1031 - val_accuracy: 0.9795\n",
            "Epoch 9/10\n",
            "1500/1500 [==============================] - 4s 2ms/step - loss: 0.0186 - accuracy: 0.9942 - val_loss: 0.0938 - val_accuracy: 0.9776\n",
            "Epoch 10/10\n",
            "1500/1500 [==============================] - 3s 2ms/step - loss: 0.0108 - accuracy: 0.9965 - val_loss: 0.1163 - val_accuracy: 0.9770\n"
          ],
          "name": "stdout"
        }
      ]
    },
    {
      "cell_type": "markdown",
      "metadata": {
        "id": "pV1Ftdb0PloP"
      },
      "source": [
        "# 以圖形顯示訓練過程"
      ]
    },
    {
      "cell_type": "code",
      "metadata": {
        "colab": {
          "base_uri": "https://localhost:8080/"
        },
        "id": "HC2Cj6HxKP9E",
        "outputId": "d773a602-8005-4227-e2ee-e1cbed37f5f6"
      },
      "source": [
        "train_history.history"
      ],
      "execution_count": 13,
      "outputs": [
        {
          "output_type": "execute_result",
          "data": {
            "text/plain": [
              "{'accuracy': [0.9306041598320007,\n",
              "  0.9707291722297668,\n",
              "  0.979770839214325,\n",
              "  0.9863125085830688,\n",
              "  0.9878541827201843,\n",
              "  0.9904999732971191,\n",
              "  0.9927291870117188,\n",
              "  0.9927291870117188,\n",
              "  0.9935416579246521,\n",
              "  0.995312511920929],\n",
              " 'loss': [0.23526711761951447,\n",
              "  0.09251910448074341,\n",
              "  0.06282521784305573,\n",
              "  0.04332408681511879,\n",
              "  0.03572224825620651,\n",
              "  0.028784070163965225,\n",
              "  0.02245684526860714,\n",
              "  0.02147109992802143,\n",
              "  0.021158387884497643,\n",
              "  0.0149394441395998],\n",
              " 'val_accuracy': [0.9556666612625122,\n",
              "  0.9664166569709778,\n",
              "  0.9740833044052124,\n",
              "  0.9736666679382324,\n",
              "  0.9746666550636292,\n",
              "  0.9753333330154419,\n",
              "  0.9764166474342346,\n",
              "  0.9794999957084656,\n",
              "  0.9775833487510681,\n",
              "  0.9769999980926514],\n",
              " 'val_loss': [0.14176303148269653,\n",
              "  0.11069745570421219,\n",
              "  0.08064348250627518,\n",
              "  0.09715772420167923,\n",
              "  0.09337387979030609,\n",
              "  0.10019169002771378,\n",
              "  0.10265369713306427,\n",
              "  0.10308142006397247,\n",
              "  0.09377636760473251,\n",
              "  0.11633621156215668]}"
            ]
          },
          "metadata": {
            "tags": []
          },
          "execution_count": 13
        }
      ]
    },
    {
      "cell_type": "code",
      "metadata": {
        "id": "EEmuoa1dPloQ"
      },
      "source": [
        "import matplotlib.pyplot as plt\n",
        "def show_train_history(train_history,train,validation):\n",
        "    plt.plot(train_history.history[train])\n",
        "    plt.plot(train_history.history[validation])\n",
        "    plt.title('Train History')\n",
        "    plt.ylabel(train)\n",
        "    plt.xlabel('Epoch')\n",
        "    plt.legend(['train', 'validation'], loc='upper left')\n",
        "    plt.show()"
      ],
      "execution_count": 14,
      "outputs": []
    },
    {
      "cell_type": "code",
      "metadata": {
        "colab": {
          "base_uri": "https://localhost:8080/",
          "height": 295
        },
        "id": "fvE2WsejPloT",
        "outputId": "4fc33582-f575-41a9-b7da-7282d6f29bac"
      },
      "source": [
        "show_train_history(train_history,'accuracy','val_accuracy')"
      ],
      "execution_count": 15,
      "outputs": [
        {
          "output_type": "display_data",
          "data": {
            "image/png": "[encoded data removed]",
            "text/plain": [
              "<Figure size 432x288 with 1 Axes>"
            ]
          },
          "metadata": {
            "tags": [],
            "needs_background": "light"
          }
        }
      ]
    },
    {
      "cell_type": "code",
      "metadata": {
        "colab": {
          "base_uri": "https://localhost:8080/",
          "height": 295
        },
        "id": "zIYyrnFWPloW",
        "outputId": "f6329332-4800-443b-a3b0-ca9df37cf20c"
      },
      "source": [
        "show_train_history(train_history,'loss','val_loss')"
      ],
      "execution_count": 16,
      "outputs": [
        {
          "output_type": "display_data",
          "data": {
            "image/png": "[encoded data removed]",
            "text/plain": [
              "<Figure size 432x288 with 1 Axes>"
            ]
          },
          "metadata": {
            "tags": [],
            "needs_background": "light"
          }
        }
      ]
    },
    {
      "cell_type": "markdown",
      "metadata": {
        "id": "h1z2y0g-PloZ"
      },
      "source": [
        "# 評估模型準確率"
      ]
    },
    {
      "cell_type": "code",
      "metadata": {
        "colab": {
          "base_uri": "https://localhost:8080/"
        },
        "id": "vMawurJqPloZ",
        "outputId": "f6b1ac7d-f1c9-4c28-d7bf-c14cb26473f5"
      },
      "source": [
        "scores = model.evaluate(x_Test_normalize, y_Test_OneHot)\n",
        "print()\n",
        "print('accuracy=',scores[1])"
      ],
      "execution_count": 17,
      "outputs": [
        {
          "output_type": "stream",
          "text": [
            "313/313 [==============================] - 1s 2ms/step - loss: 0.1041 - accuracy: 0.9787\n",
            "\n",
            "accuracy= 0.9786999821662903\n"
          ],
          "name": "stdout"
        }
      ]
    }
  ]
}