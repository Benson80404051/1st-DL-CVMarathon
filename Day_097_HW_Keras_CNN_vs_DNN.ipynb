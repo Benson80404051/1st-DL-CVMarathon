{
  "nbformat": 4,
  "nbformat_minor": 0,
  "metadata": {
    "kernelspec": {
      "display_name": "Python 3",
      "language": "python",
      "name": "python3"
    },
    "language_info": {
      "codemirror_mode": {
        "name": "ipython",
        "version": 3
      },
      "file_extension": ".py",
      "mimetype": "text/x-python",
      "name": "python",
      "nbconvert_exporter": "python",
      "pygments_lexer": "ipython3",
      "version": "3.7.6"
    },
    "colab": {
      "name": "Day_097_HW_Keras_CNN_vs_DNN.ipynb",
      "provenance": [],
      "collapsed_sections": []
    },
    "accelerator": "GPU"
  },
  "cells": [
    {
      "cell_type": "code",
      "metadata": {
        "id": "9uN2QV-o85Zl"
      },
      "source": [
        "import keras\n",
        "from keras.datasets import cifar10\n",
        "from keras.preprocessing.image import ImageDataGenerator\n",
        "from keras.models import Sequential\n",
        "from keras.layers import Dense, Dropout, Activation, Flatten\n",
        "from keras.layers import Conv2D, MaxPooling2D, SeparableConv2D\n",
        "from keras.optimizers import RMSprop, Adam\n",
        "import os"
      ],
      "execution_count": 1,
      "outputs": []
    },
    {
      "cell_type": "code",
      "metadata": {
        "colab": {
          "base_uri": "https://localhost:8080/"
        },
        "id": "YlkFM9Ov85Zp",
        "outputId": "c150d3da-9af8-4d96-f908-91c426d76b00"
      },
      "source": [
        "batch_size = 128 # batch 的大小，如果出現 OOM error，請降低這個值\n",
        "num_classes = 10 # 類別的數量，Cifar 10 共有 10 個類別\n",
        "epochs = 10 # 訓練的 epochs 數量\n",
        "\n",
        "# 讀取資料並檢視\n",
        "(x_train, y_train), (x_test, y_test) = cifar10.load_data()\n",
        "print('x_train shape:', x_train.shape)\n",
        "print(x_train.shape[0], 'train samples')\n",
        "print(x_test.shape[0], 'test samples')\n",
        "\n",
        "# 對 label 進行 one-hot encoding (y_trian 原本是純數字)\n",
        "y_train = keras.utils.to_categorical(y_train, num_classes)\n",
        "y_test = keras.utils.to_categorical(y_test, num_classes)"
      ],
      "execution_count": 2,
      "outputs": [
        {
          "output_type": "stream",
          "text": [
            "x_train shape: (50000, 32, 32, 3)\n",
            "50000 train samples\n",
            "10000 test samples\n"
          ],
          "name": "stdout"
        }
      ]
    },
    {
      "cell_type": "markdown",
      "metadata": {
        "id": "S4GNt5BV85Zq"
      },
      "source": [
        "## 首先我們使用一般的 DNN (MLP) 來訓練\n",
        "由於 DNN 只能輸入一維的資料，我們要先將影像進行攤平，若 (50000, 32, 32, 3) 的影像，攤平後會變成 (50000, 32*32*3) = (50000, 3072)"
      ]
    },
    {
      "cell_type": "code",
      "metadata": {
        "colab": {
          "base_uri": "https://localhost:8080/"
        },
        "id": "fAxSm-qK85Zr",
        "outputId": "e73b36f4-b4ff-4d10-f08e-b5a69dabcf09"
      },
      "source": [
        "# 將資料攤平成一維資料\n",
        "x_train = x_train.reshape(50000, 3072) \n",
        "x_test = x_test.reshape(10000, 3072)\n",
        "\n",
        "# 將資料變為 float32 並標準化\n",
        "x_train = x_train.astype('float32')\n",
        "x_test = x_test.astype('float32')\n",
        "x_train /= 255\n",
        "x_test /= 255\n",
        "print(x_train.shape[0], 'train samples')\n",
        "print(x_test.shape[0], 'test samples')"
      ],
      "execution_count": 3,
      "outputs": [
        {
          "output_type": "stream",
          "text": [
            "50000 train samples\n",
            "10000 test samples\n"
          ],
          "name": "stdout"
        }
      ]
    },
    {
      "cell_type": "code",
      "metadata": {
        "colab": {
          "base_uri": "https://localhost:8080/"
        },
        "id": "wYXzVfz085Zr",
        "outputId": "c1e9cd86-cb3b-4cd0-82de-1e48f0958ccb"
      },
      "source": [
        "model = Sequential()\n",
        "model.add(Dense(512, activation='relu', input_shape=(3072,)))\n",
        "model.add(Dropout(0.2))\n",
        "model.add(Dense(512, activation='relu'))\n",
        "model.add(Dropout(0.2))\n",
        "model.add(Dense(num_classes, activation='softmax'))\n",
        "\n",
        "model.summary()\n",
        "\n",
        "model.compile(loss='categorical_crossentropy',\n",
        "              optimizer=RMSprop(),\n",
        "              metrics=['accuracy'])\n",
        "\n",
        "history = model.fit(x_train, y_train,\n",
        "                    batch_size=batch_size,\n",
        "                    epochs=epochs,\n",
        "                    verbose=1,\n",
        "                    validation_data=(x_test, y_test))\n",
        "score = model.evaluate(x_test, y_test, verbose=0)\n",
        "print('Test loss:', score[0])\n",
        "print('Test accuracy:', score[1])"
      ],
      "execution_count": 4,
      "outputs": [
        {
          "output_type": "stream",
          "text": [
            "Model: \"sequential\"\n",
            "_________________________________________________________________\n",
            "Layer (type)                 Output Shape              Param #   \n",
            "=================================================================\n",
            "dense (Dense)                (None, 512)               1573376   \n",
            "_________________________________________________________________\n",
            "dropout (Dropout)            (None, 512)               0         \n",
            "_________________________________________________________________\n",
            "dense_1 (Dense)              (None, 512)               262656    \n",
            "_________________________________________________________________\n",
            "dropout_1 (Dropout)          (None, 512)               0         \n",
            "_________________________________________________________________\n",
            "dense_2 (Dense)              (None, 10)                5130      \n",
            "=================================================================\n",
            "Total params: 1,841,162\n",
            "Trainable params: 1,841,162\n",
            "Non-trainable params: 0\n",
            "_________________________________________________________________\n",
            "Epoch 1/10\n",
            "391/391 [==============================] - 3s 5ms/step - loss: 2.5994 - accuracy: 0.2016 - val_loss: 1.8873 - val_accuracy: 0.3131\n",
            "Epoch 2/10\n",
            "391/391 [==============================] - 1s 4ms/step - loss: 1.8752 - accuracy: 0.3198 - val_loss: 1.7209 - val_accuracy: 0.3928\n",
            "Epoch 3/10\n",
            "391/391 [==============================] - 1s 4ms/step - loss: 1.7946 - accuracy: 0.3544 - val_loss: 1.7315 - val_accuracy: 0.3744\n",
            "Epoch 4/10\n",
            "391/391 [==============================] - 1s 4ms/step - loss: 1.7499 - accuracy: 0.3734 - val_loss: 1.6675 - val_accuracy: 0.4144\n",
            "Epoch 5/10\n",
            "391/391 [==============================] - 1s 4ms/step - loss: 1.7132 - accuracy: 0.3869 - val_loss: 1.6758 - val_accuracy: 0.3976\n",
            "Epoch 6/10\n",
            "391/391 [==============================] - 1s 4ms/step - loss: 1.6905 - accuracy: 0.3914 - val_loss: 1.6279 - val_accuracy: 0.4206\n",
            "Epoch 7/10\n",
            "391/391 [==============================] - 1s 4ms/step - loss: 1.6702 - accuracy: 0.4000 - val_loss: 1.5990 - val_accuracy: 0.4333\n",
            "Epoch 8/10\n",
            "391/391 [==============================] - 1s 4ms/step - loss: 1.6463 - accuracy: 0.4079 - val_loss: 1.5817 - val_accuracy: 0.4510\n",
            "Epoch 9/10\n",
            "391/391 [==============================] - 1s 4ms/step - loss: 1.6324 - accuracy: 0.4120 - val_loss: 1.5720 - val_accuracy: 0.4419\n",
            "Epoch 10/10\n",
            "391/391 [==============================] - 1s 4ms/step - loss: 1.6251 - accuracy: 0.4173 - val_loss: 1.5603 - val_accuracy: 0.4550\n",
            "Test loss: 1.5602848529815674\n",
            "Test accuracy: 0.45500001311302185\n"
          ],
          "name": "stdout"
        }
      ]
    },
    {
      "cell_type": "markdown",
      "metadata": {
        "id": "cWbIS05b85Zs"
      },
      "source": [
        "## 接下來我們使用 CNN 來訓練神經網路\n",
        "CNN 的原理非常適合處理影像類的資料，就讓我們來看看，同樣的訓練條件，CNN 是否顯著優於 DNN 呢?"
      ]
    },
    {
      "cell_type": "code",
      "metadata": {
        "colab": {
          "base_uri": "https://localhost:8080/"
        },
        "id": "dCQe9lxp85Zs",
        "outputId": "8f5b9e75-de40-4b58-ae45-4433b70bee44"
      },
      "source": [
        "(x_train, y_train), (x_test, y_test) = cifar10.load_data()\n",
        "print('x_train shape:', x_train.shape)\n",
        "print(x_train.shape[0], 'train samples')\n",
        "print(x_test.shape[0], 'test samples')\n",
        "x_train = x_train.astype('float32')\n",
        "x_test = x_test.astype('float32')\n",
        "x_train /= 255\n",
        "x_test /= 255\n",
        "\n",
        "# Convert class vectors to binary class matrices.\n",
        "y_train = keras.utils.to_categorical(y_train, num_classes)\n",
        "y_test = keras.utils.to_categorical(y_test, num_classes)"
      ],
      "execution_count": 5,
      "outputs": [
        {
          "output_type": "stream",
          "text": [
            "x_train shape: (50000, 32, 32, 3)\n",
            "50000 train samples\n",
            "10000 test samples\n"
          ],
          "name": "stdout"
        }
      ]
    },
    {
      "cell_type": "code",
      "metadata": {
        "colab": {
          "base_uri": "https://localhost:8080/"
        },
        "id": "6EeOZ9pb85Zs",
        "outputId": "ef34098c-c338-46bc-f2a1-75601b5dbc3a"
      },
      "source": [
        "model = Sequential()\n",
        "model.add(Conv2D(32, (3, 3), padding='same',\n",
        "                 input_shape=x_train.shape[1:]))\n",
        "model.add(Activation('relu'))\n",
        "model.add(Conv2D(32, (3, 3)))\n",
        "model.add(Activation('relu'))\n",
        "model.add(MaxPooling2D(pool_size=(2, 2)))\n",
        "model.add(Dropout(0.25))\n",
        "\n",
        "model.add(Conv2D(64, (3, 3), padding='same'))\n",
        "model.add(Activation('relu'))\n",
        "model.add(Conv2D(64, (3, 3)))\n",
        "model.add(Activation('relu'))\n",
        "model.add(MaxPooling2D(pool_size=(2, 2)))\n",
        "model.add(Dropout(0.25))\n",
        "\n",
        "model.add(Flatten())\n",
        "model.add(Dense(512))\n",
        "model.add(Activation('relu'))\n",
        "model.add(Dropout(0.5))\n",
        "model.add(Dense(num_classes))\n",
        "model.add(Activation('softmax'))\n",
        "model.summary()\n",
        "\n",
        "model.compile(loss='categorical_crossentropy',\n",
        "              optimizer=RMSprop(),\n",
        "              metrics=['accuracy'])\n",
        "\n",
        "history = model.fit(x_train, y_train,\n",
        "                    batch_size=batch_size,\n",
        "                    epochs=epochs,\n",
        "                    verbose=1,\n",
        "                    validation_data=(x_test, y_test))\n",
        "score = model.evaluate(x_test, y_test, verbose=0)\n",
        "print('Test loss:', score[0])\n",
        "print('Test accuracy:', score[1])"
      ],
      "execution_count": 6,
      "outputs": [
        {
          "output_type": "stream",
          "text": [
            "Model: \"sequential_1\"\n",
            "_________________________________________________________________\n",
            "Layer (type)                 Output Shape              Param #   \n",
            "=================================================================\n",
            "conv2d (Conv2D)              (None, 32, 32, 32)        896       \n",
            "_________________________________________________________________\n",
            "activation (Activation)      (None, 32, 32, 32)        0         \n",
            "_________________________________________________________________\n",
            "conv2d_1 (Conv2D)            (None, 30, 30, 32)        9248      \n",
            "_________________________________________________________________\n",
            "activation_1 (Activation)    (None, 30, 30, 32)        0         \n",
            "_________________________________________________________________\n",
            "max_pooling2d (MaxPooling2D) (None, 15, 15, 32)        0         \n",
            "_________________________________________________________________\n",
            "dropout_2 (Dropout)          (None, 15, 15, 32)        0         \n",
            "_________________________________________________________________\n",
            "conv2d_2 (Conv2D)            (None, 15, 15, 64)        18496     \n",
            "_________________________________________________________________\n",
            "activation_2 (Activation)    (None, 15, 15, 64)        0         \n",
            "_________________________________________________________________\n",
            "conv2d_3 (Conv2D)            (None, 13, 13, 64)        36928     \n",
            "_________________________________________________________________\n",
            "activation_3 (Activation)    (None, 13, 13, 64)        0         \n",
            "_________________________________________________________________\n",
            "max_pooling2d_1 (MaxPooling2 (None, 6, 6, 64)          0         \n",
            "_________________________________________________________________\n",
            "dropout_3 (Dropout)          (None, 6, 6, 64)          0         \n",
            "_________________________________________________________________\n",
            "flatten (Flatten)            (None, 2304)              0         \n",
            "_________________________________________________________________\n",
            "dense_3 (Dense)              (None, 512)               1180160   \n",
            "_________________________________________________________________\n",
            "activation_4 (Activation)    (None, 512)               0         \n",
            "_________________________________________________________________\n",
            "dropout_4 (Dropout)          (None, 512)               0         \n",
            "_________________________________________________________________\n",
            "dense_4 (Dense)              (None, 10)                5130      \n",
            "_________________________________________________________________\n",
            "activation_5 (Activation)    (None, 10)                0         \n",
            "=================================================================\n",
            "Total params: 1,250,858\n",
            "Trainable params: 1,250,858\n",
            "Non-trainable params: 0\n",
            "_________________________________________________________________\n",
            "Epoch 1/10\n",
            "391/391 [==============================] - 6s 11ms/step - loss: 1.9709 - accuracy: 0.2771 - val_loss: 1.3091 - val_accuracy: 0.5294\n",
            "Epoch 2/10\n",
            "391/391 [==============================] - 4s 10ms/step - loss: 1.3705 - accuracy: 0.5144 - val_loss: 1.1887 - val_accuracy: 0.5829\n",
            "Epoch 3/10\n",
            "391/391 [==============================] - 4s 11ms/step - loss: 1.1323 - accuracy: 0.6025 - val_loss: 1.0737 - val_accuracy: 0.6270\n",
            "Epoch 4/10\n",
            "391/391 [==============================] - 4s 10ms/step - loss: 1.0024 - accuracy: 0.6493 - val_loss: 0.8848 - val_accuracy: 0.6896\n",
            "Epoch 5/10\n",
            "391/391 [==============================] - 4s 11ms/step - loss: 0.8979 - accuracy: 0.6891 - val_loss: 0.8200 - val_accuracy: 0.7147\n",
            "Epoch 6/10\n",
            "391/391 [==============================] - 4s 10ms/step - loss: 0.8288 - accuracy: 0.7085 - val_loss: 0.7607 - val_accuracy: 0.7402\n",
            "Epoch 7/10\n",
            "391/391 [==============================] - 4s 10ms/step - loss: 0.7588 - accuracy: 0.7343 - val_loss: 0.7447 - val_accuracy: 0.7429\n",
            "Epoch 8/10\n",
            "391/391 [==============================] - 4s 11ms/step - loss: 0.7240 - accuracy: 0.7500 - val_loss: 0.7172 - val_accuracy: 0.7554\n",
            "Epoch 9/10\n",
            "391/391 [==============================] - 4s 11ms/step - loss: 0.6800 - accuracy: 0.7613 - val_loss: 0.8027 - val_accuracy: 0.7268\n",
            "Epoch 10/10\n",
            "391/391 [==============================] - 4s 11ms/step - loss: 0.6567 - accuracy: 0.7719 - val_loss: 0.6864 - val_accuracy: 0.7677\n",
            "Test loss: 0.6864020228385925\n",
            "Test accuracy: 0.7677000164985657\n"
          ],
          "name": "stdout"
        }
      ]
    },
    {
      "cell_type": "markdown",
      "metadata": {
        "id": "Vhw0IaWc85Zs"
      },
      "source": [
        "## 同樣運算 10 個 epochs，但 CNN 在 test data 的準確率顯著優於 DNN!"
      ]
    },
    {
      "cell_type": "markdown",
      "metadata": {
        "id": "rVk8ReyN85Zt"
      },
      "source": [
        "## 作業\n",
        "1. 請試著調整各個超參數，並說明那些超參數對於結果有明顯的影響?\n",
        "> 見下方程式區塊說明\n",
        "2. CNN 與 DNN 哪個模型的參數數量比較多? 造成參數的數量不同的原因在哪?\n",
        "> 就本次範例程式中, DNN模型的總參數數量較多;<br>\n",
        "> 實際上影響模型參數數量的原因有很多, DNN中的Dense層數及neuron數目, CNN中的層數, kernel size, filter number等,..都會影響最終模型的總參數數量"
      ]
    },
    {
      "cell_type": "markdown",
      "metadata": {
        "id": "sjdZMXntA-Fj"
      },
      "source": [
        "## 超參數調整如下:\r\n",
        "1. 更換優化器為Adam\r\n",
        "2. Dense layer的 neuron數量增加 (至1024)\r\n",
        "3. 增加epoch 數量 (至20)\r\n",
        "\r\n"
      ]
    },
    {
      "cell_type": "code",
      "metadata": {
        "id": "4us4VYup85Zt"
      },
      "source": [
        "batch_size = 128\r\n",
        "\r\n",
        "epochs = 20"
      ],
      "execution_count": 7,
      "outputs": []
    },
    {
      "cell_type": "code",
      "metadata": {
        "colab": {
          "base_uri": "https://localhost:8080/"
        },
        "id": "S9gRsRzy85Zt",
        "outputId": "a7e60266-ace1-4354-ec12-dd7d7b716f65"
      },
      "source": [
        "model = Sequential()\r\n",
        "model.add(Conv2D(32, (3, 3), padding='same',\r\n",
        "                 input_shape=x_train.shape[1:]))\r\n",
        "model.add(Activation('relu'))\r\n",
        "model.add(Conv2D(32, (3, 3)))\r\n",
        "model.add(Activation('relu'))\r\n",
        "model.add(MaxPooling2D(pool_size=(2, 2)))\r\n",
        "model.add(Dropout(0.25))\r\n",
        "\r\n",
        "model.add(Conv2D(64, (3, 3), padding='same'))\r\n",
        "model.add(Activation('relu'))\r\n",
        "model.add(Conv2D(64, (3, 3)))\r\n",
        "model.add(Activation('relu'))\r\n",
        "model.add(MaxPooling2D(pool_size=(2, 2)))\r\n",
        "model.add(Dropout(0.25))\r\n",
        "\r\n",
        "model.add(Flatten())\r\n",
        "model.add(Dense(1024))\r\n",
        "model.add(Activation('relu'))\r\n",
        "model.add(Dropout(0.5))\r\n",
        "model.add(Dense(num_classes))\r\n",
        "model.add(Activation('softmax'))\r\n",
        "model.summary()\r\n",
        "\r\n",
        "model.compile(loss='categorical_crossentropy',\r\n",
        "              optimizer=Adam(),\r\n",
        "              metrics=['accuracy'])\r\n",
        "\r\n",
        "history = model.fit(x_train, y_train,\r\n",
        "                    batch_size=batch_size,\r\n",
        "                    epochs=epochs,\r\n",
        "                    verbose=1,\r\n",
        "                    validation_data=(x_test, y_test))\r\n",
        "score = model.evaluate(x_test, y_test, verbose=0)\r\n",
        "print('Test loss:', score[0])\r\n",
        "print('Test accuracy:', score[1])"
      ],
      "execution_count": 8,
      "outputs": [
        {
          "output_type": "stream",
          "text": [
            "Model: \"sequential_2\"\n",
            "_________________________________________________________________\n",
            "Layer (type)                 Output Shape              Param #   \n",
            "=================================================================\n",
            "conv2d_4 (Conv2D)            (None, 32, 32, 32)        896       \n",
            "_________________________________________________________________\n",
            "activation_6 (Activation)    (None, 32, 32, 32)        0         \n",
            "_________________________________________________________________\n",
            "conv2d_5 (Conv2D)            (None, 30, 30, 32)        9248      \n",
            "_________________________________________________________________\n",
            "activation_7 (Activation)    (None, 30, 30, 32)        0         \n",
            "_________________________________________________________________\n",
            "max_pooling2d_2 (MaxPooling2 (None, 15, 15, 32)        0         \n",
            "_________________________________________________________________\n",
            "dropout_5 (Dropout)          (None, 15, 15, 32)        0         \n",
            "_________________________________________________________________\n",
            "conv2d_6 (Conv2D)            (None, 15, 15, 64)        18496     \n",
            "_________________________________________________________________\n",
            "activation_8 (Activation)    (None, 15, 15, 64)        0         \n",
            "_________________________________________________________________\n",
            "conv2d_7 (Conv2D)            (None, 13, 13, 64)        36928     \n",
            "_________________________________________________________________\n",
            "activation_9 (Activation)    (None, 13, 13, 64)        0         \n",
            "_________________________________________________________________\n",
            "max_pooling2d_3 (MaxPooling2 (None, 6, 6, 64)          0         \n",
            "_________________________________________________________________\n",
            "dropout_6 (Dropout)          (None, 6, 6, 64)          0         \n",
            "_________________________________________________________________\n",
            "flatten_1 (Flatten)          (None, 2304)              0         \n",
            "_________________________________________________________________\n",
            "dense_5 (Dense)              (None, 1024)              2360320   \n",
            "_________________________________________________________________\n",
            "activation_10 (Activation)   (None, 1024)              0         \n",
            "_________________________________________________________________\n",
            "dropout_7 (Dropout)          (None, 1024)              0         \n",
            "_________________________________________________________________\n",
            "dense_6 (Dense)              (None, 10)                10250     \n",
            "_________________________________________________________________\n",
            "activation_11 (Activation)   (None, 10)                0         \n",
            "=================================================================\n",
            "Total params: 2,436,138\n",
            "Trainable params: 2,436,138\n",
            "Non-trainable params: 0\n",
            "_________________________________________________________________\n",
            "Epoch 1/20\n",
            "391/391 [==============================] - 5s 11ms/step - loss: 1.8119 - accuracy: 0.3259 - val_loss: 1.2291 - val_accuracy: 0.5605\n",
            "Epoch 2/20\n",
            "391/391 [==============================] - 4s 10ms/step - loss: 1.2190 - accuracy: 0.5676 - val_loss: 1.0458 - val_accuracy: 0.6282\n",
            "Epoch 3/20\n",
            "391/391 [==============================] - 4s 10ms/step - loss: 1.0146 - accuracy: 0.6430 - val_loss: 0.8656 - val_accuracy: 0.6942\n",
            "Epoch 4/20\n",
            "391/391 [==============================] - 4s 10ms/step - loss: 0.8945 - accuracy: 0.6851 - val_loss: 0.8312 - val_accuracy: 0.7051\n",
            "Epoch 5/20\n",
            "391/391 [==============================] - 4s 10ms/step - loss: 0.8028 - accuracy: 0.7145 - val_loss: 0.7366 - val_accuracy: 0.7410\n",
            "Epoch 6/20\n",
            "391/391 [==============================] - 4s 10ms/step - loss: 0.7248 - accuracy: 0.7456 - val_loss: 0.7046 - val_accuracy: 0.7568\n",
            "Epoch 7/20\n",
            "391/391 [==============================] - 4s 10ms/step - loss: 0.6771 - accuracy: 0.7610 - val_loss: 0.7061 - val_accuracy: 0.7579\n",
            "Epoch 8/20\n",
            "391/391 [==============================] - 4s 10ms/step - loss: 0.6207 - accuracy: 0.7794 - val_loss: 0.6470 - val_accuracy: 0.7773\n",
            "Epoch 9/20\n",
            "391/391 [==============================] - 4s 11ms/step - loss: 0.5722 - accuracy: 0.7993 - val_loss: 0.6441 - val_accuracy: 0.7811\n",
            "Epoch 10/20\n",
            "391/391 [==============================] - 4s 10ms/step - loss: 0.5318 - accuracy: 0.8124 - val_loss: 0.6266 - val_accuracy: 0.7827\n",
            "Epoch 11/20\n",
            "391/391 [==============================] - 4s 10ms/step - loss: 0.5047 - accuracy: 0.8218 - val_loss: 0.6197 - val_accuracy: 0.7857\n",
            "Epoch 12/20\n",
            "391/391 [==============================] - 4s 10ms/step - loss: 0.4646 - accuracy: 0.8344 - val_loss: 0.6485 - val_accuracy: 0.7799\n",
            "Epoch 13/20\n",
            "391/391 [==============================] - 4s 10ms/step - loss: 0.4487 - accuracy: 0.8408 - val_loss: 0.6044 - val_accuracy: 0.7964\n",
            "Epoch 14/20\n",
            "391/391 [==============================] - 4s 10ms/step - loss: 0.4175 - accuracy: 0.8528 - val_loss: 0.6300 - val_accuracy: 0.7941\n",
            "Epoch 15/20\n",
            "391/391 [==============================] - 4s 10ms/step - loss: 0.4055 - accuracy: 0.8548 - val_loss: 0.6234 - val_accuracy: 0.7952\n",
            "Epoch 16/20\n",
            "391/391 [==============================] - 4s 10ms/step - loss: 0.3795 - accuracy: 0.8665 - val_loss: 0.6101 - val_accuracy: 0.7969\n",
            "Epoch 17/20\n",
            "391/391 [==============================] - 4s 10ms/step - loss: 0.3702 - accuracy: 0.8662 - val_loss: 0.6184 - val_accuracy: 0.7953\n",
            "Epoch 18/20\n",
            "391/391 [==============================] - 4s 10ms/step - loss: 0.3465 - accuracy: 0.8786 - val_loss: 0.6291 - val_accuracy: 0.7961\n",
            "Epoch 19/20\n",
            "391/391 [==============================] - 4s 10ms/step - loss: 0.3377 - accuracy: 0.8819 - val_loss: 0.6138 - val_accuracy: 0.8032\n",
            "Epoch 20/20\n",
            "391/391 [==============================] - 4s 10ms/step - loss: 0.3216 - accuracy: 0.8854 - val_loss: 0.6160 - val_accuracy: 0.8022\n",
            "Test loss: 0.6159852743148804\n",
            "Test accuracy: 0.8022000193595886\n"
          ],
          "name": "stdout"
        }
      ]
    },
    {
      "cell_type": "code",
      "metadata": {
        "id": "GBernELQ85Zt"
      },
      "source": [
        ""
      ],
      "execution_count": 8,
      "outputs": []
    },
    {
      "cell_type": "code",
      "metadata": {
        "id": "YxFglR9s85Zt"
      },
      "source": [
        ""
      ],
      "execution_count": 8,
      "outputs": []
    }
  ]
}