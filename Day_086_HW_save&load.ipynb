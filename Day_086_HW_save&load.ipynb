{
  "nbformat": 4,
  "nbformat_minor": 0,
  "metadata": {
    "kernelspec": {
      "display_name": "Python 3",
      "language": "python",
      "name": "python3"
    },
    "language_info": {
      "codemirror_mode": {
        "name": "ipython",
        "version": 3
      },
      "file_extension": ".py",
      "mimetype": "text/x-python",
      "name": "python",
      "nbconvert_exporter": "python",
      "pygments_lexer": "ipython3",
      "version": "3.6.5"
    },
    "colab": {
      "name": "Day_086_HW_save&load.ipynb",
      "provenance": [],
      "collapsed_sections": [],
      "toc_visible": true
    },
    "accelerator": "GPU"
  },
  "cells": [
    {
      "cell_type": "markdown",
      "metadata": {
        "id": "rm-yrB3XB-Jj"
      },
      "source": [
        "## Work\n",
        "1. 試比較 save_best_only 與否的差異\n",
        "2. 請僅存入將 save_weights_only 設定為 True, 並嘗試 reset ipynb 並將模型與權重重新建回並預測 x_test"
      ]
    },
    {
      "cell_type": "code",
      "metadata": {
        "id": "_9V5EpL2B-Jp"
      },
      "source": [
        "import keras\n",
        "from keras.layers import BatchNormalization\n",
        "from keras.callbacks import ModelCheckpoint\n",
        "import matplotlib.pyplot as plt\n",
        "%matplotlib inline\n"
      ],
      "execution_count": 1,
      "outputs": []
    },
    {
      "cell_type": "code",
      "metadata": {
        "id": "V_ukbRkGB-Jp"
      },
      "source": [
        "train, test = keras.datasets.cifar10.load_data()"
      ],
      "execution_count": 2,
      "outputs": []
    },
    {
      "cell_type": "code",
      "metadata": {
        "id": "P4BI8IjsB-Jq"
      },
      "source": [
        "## 資料前處理\n",
        "def preproc_x(x, flatten=True):\n",
        "    x = x / 255.\n",
        "    if flatten:\n",
        "        x = x.reshape((len(x), -1))\n",
        "    return x\n",
        "\n",
        "def preproc_y(y, num_classes=10):\n",
        "    if y.shape[-1] == 1:\n",
        "        y = keras.utils.to_categorical(y, num_classes)\n",
        "    return y    "
      ],
      "execution_count": 3,
      "outputs": []
    },
    {
      "cell_type": "code",
      "metadata": {
        "id": "QMabCSc9B-Jq"
      },
      "source": [
        "x_train, y_train = train\n",
        "x_test, y_test = test\n",
        "\n",
        "# Preproc the inputs\n",
        "x_train = preproc_x(x_train)\n",
        "x_test = preproc_x(x_test)\n",
        "\n",
        "# Preprc the outputs\n",
        "y_train = preproc_y(y_train)\n",
        "y_test = preproc_y(y_test)"
      ],
      "execution_count": 4,
      "outputs": []
    },
    {
      "cell_type": "code",
      "metadata": {
        "id": "J41OcU0zB-Jr"
      },
      "source": [
        "def build_mlp(input_shape, output_units=10, num_neurons=[512, 256, 128]):\n",
        "  input_layer = keras.layers.Input(input_shape)\n",
        "  \n",
        "  for i, n_units in enumerate(num_neurons):\n",
        "      if i == 0:\n",
        "          x = keras.layers.Dense(\n",
        "              units=n_units, \n",
        "              activation=\"relu\", \n",
        "              name=\"hidden_layer\"+str(i+1))(input_layer)\n",
        "          x = BatchNormalization()(x)\n",
        "      else:\n",
        "          x = keras.layers.Dense(units=n_units, \n",
        "              activation=\"relu\", \n",
        "              name=\"hidden_layer\"+str(i+1))(x)\n",
        "          x = BatchNormalization()(x)\n",
        "  \n",
        "  out = keras.layers.Dense(units=output_units, activation=\"softmax\", name=\"output\")(x)\n",
        "  \n",
        "  model = keras.models.Model(inputs=[input_layer], outputs=[out])\n",
        "  return model"
      ],
      "execution_count": 5,
      "outputs": []
    },
    {
      "cell_type": "code",
      "metadata": {
        "id": "IXXIZUMwB-Jr"
      },
      "source": [
        "\"\"\"Code Here\n",
        "設定超參數\n",
        "\"\"\"\n",
        "LEARNING_RATE = 1e-3\n",
        "EPOCHS = 50\n",
        "BATCH_SIZE = 1024\n",
        "MOMENTUM = 0.95"
      ],
      "execution_count": 6,
      "outputs": []
    },
    {
      "cell_type": "markdown",
      "metadata": {
        "id": "RUHgq790nqXX"
      },
      "source": [
        "## 比較 save_best_only 與否的差異"
      ]
    },
    {
      "cell_type": "code",
      "metadata": {
        "colab": {
          "base_uri": "https://localhost:8080/"
        },
        "id": "UKjCNxlMB-Jr",
        "outputId": "29d09fc0-c817-444c-e10e-07024ab08f83"
      },
      "source": [
        "# 載入 Callbacks\n",
        "\"\"\"Code Here\n",
        "設定 callbacks: model checkpoint\n",
        "\"\"\"\n",
        "model_ckpt = ModelCheckpoint(\n",
        "          filepath=\"tmp.h5\", \n",
        "          monitor=\"val_loss\", \n",
        "          save_best_only=True)\n",
        "\n",
        "\"\"\"Code Here\n",
        "撰寫你的訓練流程並將結果用 dictionary 紀錄\n",
        "\"\"\"\n",
        "results = {}\n",
        "\n",
        "model = build_mlp(input_shape=x_train.shape[1:])\n",
        "optimizer = keras.optimizers.SGD(lr=LEARNING_RATE, nesterov=True, momentum=MOMENTUM)\n",
        "model.compile(loss=\"categorical_crossentropy\", metrics=[\"accuracy\"], optimizer=optimizer)\n",
        "\n",
        "model.fit(x_train, y_train, \n",
        "          epochs=EPOCHS, \n",
        "          batch_size=BATCH_SIZE, \n",
        "          validation_data=(x_test, y_test), \n",
        "          shuffle=True,\n",
        "          callbacks=[model_ckpt],\n",
        "          verbose=0\n",
        "        )\n",
        "\n",
        "# Collect results\n",
        "train_loss = model.history.history[\"loss\"]\n",
        "valid_loss = model.history.history[\"val_loss\"]\n",
        "train_acc = model.history.history[\"accuracy\"]\n",
        "valid_acc = model.history.history[\"val_accuracy\"]\n",
        "\n",
        "# Load back\n",
        "model = keras.models.load_model(\"tmp.h5\")\n",
        "loss_loadback, acc_loadback = model.evaluate(x_test, y_test) "
      ],
      "execution_count": 7,
      "outputs": [
        {
          "output_type": "stream",
          "text": [
            "313/313 [==============================] - 1s 2ms/step - loss: 1.4442 - accuracy: 0.4977\n"
          ],
          "name": "stdout"
        }
      ]
    },
    {
      "cell_type": "code",
      "metadata": {
        "colab": {
          "base_uri": "https://localhost:8080/",
          "height": 545
        },
        "id": "83SQ_3ObnbPb",
        "outputId": "5da28c2d-1d8a-4e98-d360-84a4e9c35248"
      },
      "source": [
        "plt.plot(range(len(train_loss)), train_loss, label=\"train loss\")\r\n",
        "plt.plot(range(len(valid_loss)), valid_loss, label=\"valid loss\")\r\n",
        "plt.hlines(y=loss_loadback, xmin=0, xmax=len(train_loss), colors='r', linestyles='--')\r\n",
        "plt.legend()\r\n",
        "plt.title(\"Loss\")\r\n",
        "plt.show()\r\n",
        "\r\n",
        "plt.plot(range(len(train_acc)), train_acc, label=\"train accuracy\")\r\n",
        "plt.plot(range(len(valid_acc)), valid_acc, label=\"valid accuracy\")\r\n",
        "plt.hlines(y=acc_loadback, xmin=0, xmax=len(train_loss), colors='r', linestyles='--')\r\n",
        "plt.legend()\r\n",
        "plt.title(\"Accuracy\")\r\n",
        "plt.show()"
      ],
      "execution_count": 8,
      "outputs": [
        {
          "output_type": "display_data",
          "data": {
            "image/png": "[encoded data removed]",
            "text/plain": [
              "<Figure size 432x288 with 1 Axes>"
            ]
          },
          "metadata": {
            "tags": [],
            "needs_background": "light"
          }
        },
        {
          "output_type": "display_data",
          "data": {
            "image/png": "[encoded data removed]",
            "text/plain": [
              "<Figure size 432x288 with 1 Axes>"
            ]
          },
          "metadata": {
            "tags": [],
            "needs_background": "light"
          }
        }
      ]
    },
    {
      "cell_type": "code",
      "metadata": {
        "colab": {
          "base_uri": "https://localhost:8080/"
        },
        "id": "VyfA3SPnmenx",
        "outputId": "4a00b31e-88a0-48b0-fd49-d882738bce92"
      },
      "source": [
        "# 載入 Callbacks\r\n",
        "\"\"\"Code Here\r\n",
        "設定 callbacks: model checkpoint\r\n",
        "\"\"\"\r\n",
        "model_ckpt = ModelCheckpoint(\r\n",
        "          filepath=\"tmp2.h5\", \r\n",
        "          monitor=\"val_loss\", \r\n",
        "          save_best_only=False)\r\n",
        "\r\n",
        "\"\"\"Code Here\r\n",
        "撰寫你的訓練流程並將結果用 dictionary 紀錄\r\n",
        "\"\"\"\r\n",
        "results.clear()\r\n",
        "\r\n",
        "model = build_mlp(input_shape=x_train.shape[1:])\r\n",
        "optimizer = keras.optimizers.SGD(lr=LEARNING_RATE, nesterov=True, momentum=MOMENTUM)\r\n",
        "model.compile(loss=\"categorical_crossentropy\", metrics=[\"accuracy\"], optimizer=optimizer)\r\n",
        "\r\n",
        "model.fit(x_train, y_train, \r\n",
        "          epochs=EPOCHS, \r\n",
        "          batch_size=BATCH_SIZE, \r\n",
        "          validation_data=(x_test, y_test), \r\n",
        "          shuffle=True,\r\n",
        "          callbacks=[model_ckpt],\r\n",
        "          verbose=0\r\n",
        "        )\r\n",
        "\r\n",
        "# Collect results\r\n",
        "train_loss = model.history.history[\"loss\"]\r\n",
        "valid_loss = model.history.history[\"val_loss\"]\r\n",
        "train_acc = model.history.history[\"accuracy\"]\r\n",
        "valid_acc = model.history.history[\"val_accuracy\"]\r\n",
        "\r\n",
        "# Load back\r\n",
        "model = keras.models.load_model(\"tmp2.h5\")\r\n",
        "loss_loadback, acc_loadback = model.evaluate(x_test, y_test)"
      ],
      "execution_count": 9,
      "outputs": [
        {
          "output_type": "stream",
          "text": [
            "313/313 [==============================] - 1s 2ms/step - loss: 1.7070 - accuracy: 0.4894\n"
          ],
          "name": "stdout"
        }
      ]
    },
    {
      "cell_type": "code",
      "metadata": {
        "colab": {
          "base_uri": "https://localhost:8080/",
          "height": 545
        },
        "id": "Md2JktGOn30p",
        "outputId": "fbc310b6-3796-4d99-9772-c6c22459e8a2"
      },
      "source": [
        "plt.plot(range(len(train_loss)), train_loss, label=\"train loss\")\r\n",
        "plt.plot(range(len(valid_loss)), valid_loss, label=\"valid loss\")\r\n",
        "plt.hlines(y=loss_loadback, xmin=0, xmax=len(train_loss), colors='r', linestyles='--')\r\n",
        "plt.legend()\r\n",
        "plt.title(\"Loss\")\r\n",
        "plt.show()\r\n",
        "\r\n",
        "plt.plot(range(len(train_acc)), train_acc, label=\"train accuracy\")\r\n",
        "plt.plot(range(len(valid_acc)), valid_acc, label=\"valid accuracy\")\r\n",
        "plt.hlines(y=acc_loadback, xmin=0, xmax=len(train_loss), colors='r', linestyles='--')\r\n",
        "plt.legend()\r\n",
        "plt.title(\"Accuracy\")\r\n",
        "plt.show()"
      ],
      "execution_count": 10,
      "outputs": [
        {
          "output_type": "display_data",
          "data": {
            "image/png": "[encoded data removed]",
            "text/plain": [
              "<Figure size 432x288 with 1 Axes>"
            ]
          },
          "metadata": {
            "tags": [],
            "needs_background": "light"
          }
        },
        {
          "output_type": "display_data",
          "data": {
            "image/png": "[encoded data removed]",
            "text/plain": [
              "<Figure size 432x288 with 1 Axes>"
            ]
          },
          "metadata": {
            "tags": [],
            "needs_background": "light"
          }
        }
      ]
    },
    {
      "cell_type": "markdown",
      "metadata": {
        "id": "FjACZL9bonag"
      },
      "source": [
        "## 將 save_weights_only 設定為 True, 並嘗試 reset ipynb 並將模型與權重重新建回並預測 x_test"
      ]
    },
    {
      "cell_type": "code",
      "metadata": {
        "colab": {
          "base_uri": "https://localhost:8080/"
        },
        "id": "_mZ0XpbEom5j",
        "outputId": "4f19afc4-aec1-467f-d315-35f536367619"
      },
      "source": [
        "# 載入 Callbacks\r\n",
        "\"\"\"Code Here\r\n",
        "設定 callbacks: model checkpoint\r\n",
        "\"\"\"\r\n",
        "model_ckpt = ModelCheckpoint(\r\n",
        "          filepath=\"tmp3.h5\", \r\n",
        "          monitor=\"val_loss\",          \r\n",
        "          save_weights_only=True)\r\n",
        "\r\n",
        "\r\n",
        "model = build_mlp(input_shape=x_train.shape[1:])\r\n",
        "optimizer = keras.optimizers.SGD(lr=LEARNING_RATE, nesterov=True, momentum=MOMENTUM)\r\n",
        "model.compile(loss=\"categorical_crossentropy\", metrics=[\"accuracy\"], optimizer=optimizer)\r\n",
        "\r\n",
        "model.fit(x_train, y_train, \r\n",
        "          epochs=EPOCHS, \r\n",
        "          batch_size=BATCH_SIZE, \r\n",
        "          validation_data=(x_test, y_test), \r\n",
        "          shuffle=True,\r\n",
        "          callbacks=[model_ckpt],\r\n",
        "          verbose=1\r\n",
        "        )\r\n",
        "\r\n"
      ],
      "execution_count": 11,
      "outputs": [
        {
          "output_type": "stream",
          "text": [
            "Epoch 1/50\n",
            "49/49 [==============================] - 1s 16ms/step - loss: 2.4772 - accuracy: 0.2060 - val_loss: 2.1199 - val_accuracy: 0.1863\n",
            "Epoch 2/50\n",
            "49/49 [==============================] - 1s 11ms/step - loss: 1.7713 - accuracy: 0.3845 - val_loss: 1.9740 - val_accuracy: 0.2812\n",
            "Epoch 3/50\n",
            "49/49 [==============================] - 1s 11ms/step - loss: 1.6270 - accuracy: 0.4276 - val_loss: 1.8427 - val_accuracy: 0.3527\n",
            "Epoch 4/50\n",
            "49/49 [==============================] - 1s 11ms/step - loss: 1.5513 - accuracy: 0.4560 - val_loss: 1.7480 - val_accuracy: 0.3865\n",
            "Epoch 5/50\n",
            "49/49 [==============================] - 1s 12ms/step - loss: 1.4934 - accuracy: 0.4773 - val_loss: 1.6435 - val_accuracy: 0.4248\n",
            "Epoch 6/50\n",
            "49/49 [==============================] - 1s 11ms/step - loss: 1.4408 - accuracy: 0.4965 - val_loss: 1.5979 - val_accuracy: 0.4421\n",
            "Epoch 7/50\n",
            "49/49 [==============================] - 1s 11ms/step - loss: 1.4064 - accuracy: 0.5055 - val_loss: 1.5601 - val_accuracy: 0.4487\n",
            "Epoch 8/50\n",
            "49/49 [==============================] - 1s 11ms/step - loss: 1.3654 - accuracy: 0.5218 - val_loss: 1.5286 - val_accuracy: 0.4615\n",
            "Epoch 9/50\n",
            "49/49 [==============================] - 1s 11ms/step - loss: 1.3322 - accuracy: 0.5356 - val_loss: 1.5120 - val_accuracy: 0.4700\n",
            "Epoch 10/50\n",
            "49/49 [==============================] - 1s 11ms/step - loss: 1.2978 - accuracy: 0.5505 - val_loss: 1.4842 - val_accuracy: 0.4731\n",
            "Epoch 11/50\n",
            "49/49 [==============================] - 1s 11ms/step - loss: 1.2700 - accuracy: 0.5597 - val_loss: 1.4782 - val_accuracy: 0.4813\n",
            "Epoch 12/50\n",
            "49/49 [==============================] - 1s 11ms/step - loss: 1.2456 - accuracy: 0.5660 - val_loss: 1.4874 - val_accuracy: 0.4789\n",
            "Epoch 13/50\n",
            "49/49 [==============================] - 1s 11ms/step - loss: 1.2194 - accuracy: 0.5773 - val_loss: 1.4694 - val_accuracy: 0.4851\n",
            "Epoch 14/50\n",
            "49/49 [==============================] - 1s 11ms/step - loss: 1.1967 - accuracy: 0.5839 - val_loss: 1.4700 - val_accuracy: 0.4879\n",
            "Epoch 15/50\n",
            "49/49 [==============================] - 1s 11ms/step - loss: 1.1674 - accuracy: 0.5965 - val_loss: 1.4528 - val_accuracy: 0.4927\n",
            "Epoch 16/50\n",
            "49/49 [==============================] - 1s 12ms/step - loss: 1.1438 - accuracy: 0.6030 - val_loss: 1.4514 - val_accuracy: 0.4922\n",
            "Epoch 17/50\n",
            "49/49 [==============================] - 1s 12ms/step - loss: 1.1234 - accuracy: 0.6136 - val_loss: 1.4521 - val_accuracy: 0.4912\n",
            "Epoch 18/50\n",
            "49/49 [==============================] - 1s 11ms/step - loss: 1.1009 - accuracy: 0.6217 - val_loss: 1.4537 - val_accuracy: 0.4908\n",
            "Epoch 19/50\n",
            "49/49 [==============================] - 1s 11ms/step - loss: 1.0776 - accuracy: 0.6292 - val_loss: 1.4534 - val_accuracy: 0.4945\n",
            "Epoch 20/50\n",
            "49/49 [==============================] - 1s 11ms/step - loss: 1.0513 - accuracy: 0.6419 - val_loss: 1.4445 - val_accuracy: 0.4969\n",
            "Epoch 21/50\n",
            "49/49 [==============================] - 1s 11ms/step - loss: 1.0384 - accuracy: 0.6480 - val_loss: 1.4520 - val_accuracy: 0.4963\n",
            "Epoch 22/50\n",
            "49/49 [==============================] - 1s 11ms/step - loss: 1.0139 - accuracy: 0.6557 - val_loss: 1.4545 - val_accuracy: 0.4976\n",
            "Epoch 23/50\n",
            "49/49 [==============================] - 1s 11ms/step - loss: 0.9915 - accuracy: 0.6656 - val_loss: 1.4554 - val_accuracy: 0.4967\n",
            "Epoch 24/50\n",
            "49/49 [==============================] - 1s 11ms/step - loss: 0.9696 - accuracy: 0.6720 - val_loss: 1.4704 - val_accuracy: 0.4938\n",
            "Epoch 25/50\n",
            "49/49 [==============================] - 1s 11ms/step - loss: 0.9560 - accuracy: 0.6786 - val_loss: 1.4580 - val_accuracy: 0.5010\n",
            "Epoch 26/50\n",
            "49/49 [==============================] - 1s 11ms/step - loss: 0.9309 - accuracy: 0.6882 - val_loss: 1.4601 - val_accuracy: 0.5041\n",
            "Epoch 27/50\n",
            "49/49 [==============================] - 1s 11ms/step - loss: 0.9050 - accuracy: 0.7002 - val_loss: 1.4654 - val_accuracy: 0.4991\n",
            "Epoch 28/50\n",
            "49/49 [==============================] - 1s 11ms/step - loss: 0.8919 - accuracy: 0.7037 - val_loss: 1.4714 - val_accuracy: 0.4977\n",
            "Epoch 29/50\n",
            "49/49 [==============================] - 1s 12ms/step - loss: 0.8603 - accuracy: 0.7146 - val_loss: 1.4842 - val_accuracy: 0.4983\n",
            "Epoch 30/50\n",
            "49/49 [==============================] - 1s 11ms/step - loss: 0.8443 - accuracy: 0.7242 - val_loss: 1.4754 - val_accuracy: 0.5003\n",
            "Epoch 31/50\n",
            "49/49 [==============================] - 1s 11ms/step - loss: 0.8243 - accuracy: 0.7300 - val_loss: 1.4907 - val_accuracy: 0.5000\n",
            "Epoch 32/50\n",
            "49/49 [==============================] - 1s 11ms/step - loss: 0.8059 - accuracy: 0.7374 - val_loss: 1.5024 - val_accuracy: 0.4976\n",
            "Epoch 33/50\n",
            "49/49 [==============================] - 1s 11ms/step - loss: 0.7944 - accuracy: 0.7411 - val_loss: 1.4983 - val_accuracy: 0.4970\n",
            "Epoch 34/50\n",
            "49/49 [==============================] - 1s 11ms/step - loss: 0.7741 - accuracy: 0.7499 - val_loss: 1.5194 - val_accuracy: 0.4989\n",
            "Epoch 35/50\n",
            "49/49 [==============================] - 1s 11ms/step - loss: 0.7528 - accuracy: 0.7577 - val_loss: 1.5204 - val_accuracy: 0.4981\n",
            "Epoch 36/50\n",
            "49/49 [==============================] - 1s 11ms/step - loss: 0.7331 - accuracy: 0.7651 - val_loss: 1.5422 - val_accuracy: 0.4926\n",
            "Epoch 37/50\n",
            "49/49 [==============================] - 1s 11ms/step - loss: 0.7070 - accuracy: 0.7777 - val_loss: 1.5347 - val_accuracy: 0.4988\n",
            "Epoch 38/50\n",
            "49/49 [==============================] - 1s 12ms/step - loss: 0.6924 - accuracy: 0.7852 - val_loss: 1.5419 - val_accuracy: 0.4985\n",
            "Epoch 39/50\n",
            "49/49 [==============================] - 1s 11ms/step - loss: 0.6685 - accuracy: 0.7937 - val_loss: 1.5541 - val_accuracy: 0.4939\n",
            "Epoch 40/50\n",
            "49/49 [==============================] - 1s 11ms/step - loss: 0.6617 - accuracy: 0.7956 - val_loss: 1.5697 - val_accuracy: 0.4954\n",
            "Epoch 41/50\n",
            "49/49 [==============================] - 1s 11ms/step - loss: 0.6332 - accuracy: 0.8062 - val_loss: 1.5788 - val_accuracy: 0.4972\n",
            "Epoch 42/50\n",
            "49/49 [==============================] - 1s 11ms/step - loss: 0.6160 - accuracy: 0.8152 - val_loss: 1.5974 - val_accuracy: 0.4921\n",
            "Epoch 43/50\n",
            "49/49 [==============================] - 1s 11ms/step - loss: 0.6027 - accuracy: 0.8190 - val_loss: 1.5890 - val_accuracy: 0.4963\n",
            "Epoch 44/50\n",
            "49/49 [==============================] - 1s 11ms/step - loss: 0.5883 - accuracy: 0.8255 - val_loss: 1.6098 - val_accuracy: 0.4930\n",
            "Epoch 45/50\n",
            "49/49 [==============================] - 1s 12ms/step - loss: 0.5627 - accuracy: 0.8347 - val_loss: 1.6141 - val_accuracy: 0.4936\n",
            "Epoch 46/50\n",
            "49/49 [==============================] - 1s 12ms/step - loss: 0.5518 - accuracy: 0.8370 - val_loss: 1.6288 - val_accuracy: 0.4905\n",
            "Epoch 47/50\n",
            "49/49 [==============================] - 1s 11ms/step - loss: 0.5338 - accuracy: 0.8479 - val_loss: 1.6680 - val_accuracy: 0.4859\n",
            "Epoch 48/50\n",
            "49/49 [==============================] - 1s 11ms/step - loss: 0.5151 - accuracy: 0.8573 - val_loss: 1.6799 - val_accuracy: 0.4921\n",
            "Epoch 49/50\n",
            "49/49 [==============================] - 1s 11ms/step - loss: 0.4957 - accuracy: 0.8619 - val_loss: 1.6661 - val_accuracy: 0.4969\n",
            "Epoch 50/50\n",
            "49/49 [==============================] - 1s 11ms/step - loss: 0.4797 - accuracy: 0.8687 - val_loss: 1.6953 - val_accuracy: 0.4922\n"
          ],
          "name": "stdout"
        },
        {
          "output_type": "execute_result",
          "data": {
            "text/plain": [
              "<tensorflow.python.keras.callbacks.History at 0x7f4428a8e290>"
            ]
          },
          "metadata": {
            "tags": []
          },
          "execution_count": 11
        }
      ]
    },
    {
      "cell_type": "code",
      "metadata": {
        "colab": {
          "base_uri": "https://localhost:8080/"
        },
        "id": "jhE0gQPbtaWv",
        "outputId": "d8e459c4-9f0d-4b74-e9ca-33ab271ebdd6"
      },
      "source": [
        "model2 = build_mlp(input_shape=x_train.shape[1:])\r\n",
        "optimizer = keras.optimizers.SGD(lr=LEARNING_RATE, nesterov=True, momentum=MOMENTUM)\r\n",
        "model2.compile(loss=\"categorical_crossentropy\", metrics=[\"accuracy\"], optimizer=optimizer)\r\n",
        "model2.load_weights(\"tmp3.h5\", by_name=False)\r\n",
        "\r\n",
        "\r\n",
        "loss_loadback, acc_loadback = model2.evaluate(x_test, y_test) \r\n",
        "print(f'Loss:{loss_loadback} Acuracy:{acc_loadback}')\r\n"
      ],
      "execution_count": 12,
      "outputs": [
        {
          "output_type": "stream",
          "text": [
            "313/313 [==============================] - 1s 2ms/step - loss: 1.7107 - accuracy: 0.4915\n",
            "Loss:1.6952605247497559 Acuracy:0.49219998717308044\n"
          ],
          "name": "stdout"
        }
      ]
    }
  ]
}