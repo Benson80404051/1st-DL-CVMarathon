{
  "nbformat": 4,
  "nbformat_minor": 0,
  "metadata": {
    "colab": {
      "name": "Day_066_HW",
      "provenance": [],
      "collapsed_sections": []
    },
    "kernelspec": {
      "name": "python3",
      "display_name": "Python 3"
    }
  },
  "cells": [
    {
      "cell_type": "code",
      "metadata": {
        "id": "tCUZr8YKlHZ9"
      },
      "source": [
        "import keras\r\n",
        "from keras import backend as K\r\n",
        "from keras.layers import Layer"
      ],
      "execution_count": 1,
      "outputs": []
    },
    {
      "cell_type": "markdown",
      "metadata": {
        "id": "mVKmpZ6P35jL"
      },
      "source": [
        "# 作業:\r\n",
        "    檢查 backend 縮排段落\r\n",
        "    檢查 fuzz factor\r\n",
        "    設定 Keras 浮點運算為float16"
      ]
    },
    {
      "cell_type": "code",
      "metadata": {
        "colab": {
          "base_uri": "https://localhost:8080/"
        },
        "id": "kiWMq4x9mVWZ",
        "outputId": "fdcc220a-8241-4368-c0b1-5b1119d59608"
      },
      "source": [
        "#檢查 backend\r\n",
        "print(keras.__version__)"
      ],
      "execution_count": 2,
      "outputs": [
        {
          "output_type": "stream",
          "text": [
            "2.4.3\n"
          ],
          "name": "stdout"
        }
      ]
    },
    {
      "cell_type": "code",
      "metadata": {
        "colab": {
          "base_uri": "https://localhost:8080/"
        },
        "id": "FRPDbHvEmVY6",
        "outputId": "7c6ff428-7995-4dd2-ef36-122ad40d5191"
      },
      "source": [
        "#  GPU加速测试\r\n",
        "import numpy \r\n",
        "id(numpy.dot) == id(numpy.core.multiarray.dot) "
      ],
      "execution_count": 3,
      "outputs": [
        {
          "output_type": "execute_result",
          "data": {
            "text/plain": [
              "True"
            ]
          },
          "metadata": {
            "tags": []
          },
          "execution_count": 3
        }
      ]
    },
    {
      "cell_type": "code",
      "metadata": {
        "colab": {
          "base_uri": "https://localhost:8080/",
          "height": 35
        },
        "id": "Ey4gbx18mVbW",
        "outputId": "7ea4f297-3267-4d87-ba01-562d73a4fd77"
      },
      "source": [
        "#檢查Keras float \r\n",
        "K.set_floatx('float16')\r\n",
        "K.floatx()"
      ],
      "execution_count": 4,
      "outputs": [
        {
          "output_type": "execute_result",
          "data": {
            "application/vnd.google.colaboratory.intrinsic+json": {
              "type": "string"
            },
            "text/plain": [
              "'float16'"
            ]
          },
          "metadata": {
            "tags": []
          },
          "execution_count": 4
        }
      ]
    },
    {
      "cell_type": "code",
      "metadata": {
        "id": "6Hjw6u7pmVgG"
      },
      "source": [
        ""
      ],
      "execution_count": 4,
      "outputs": []
    }
  ]
}