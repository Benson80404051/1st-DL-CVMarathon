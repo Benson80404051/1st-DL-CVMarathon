{
 "cells": [
  {
   "cell_type": "markdown",
   "metadata": {},
   "source": [
    "# 作業\n",
    "請找出一個你認為機器學習可以發光發熱的領域並闡述原因?"
   ]
  },
  {
   "cell_type": "code",
   "execution_count": 4,
   "metadata": {},
   "outputs": [],
   "source": [
    "'''\n",
    "醫學影像辨識\n",
    "\n",
    "CT或MRI掃描等醫學影像, 通常需要經過專業醫師判斷才能發現病灶\n",
    "而每位醫生的經驗及病灶的型態會有所差異, 稍微不慎可能就會誤判\n",
    "\n",
    "機器學習藉由大量的標註數據訓練模型, 誤判率甚至可以比人工判斷還小\n",
    "無非是醫師診斷時的一大助手, 不僅減輕醫生工作負擔, 病患也得到更準確的診斷\n",
    "\n",
    "機器學習在醫學影像辨識的我覺得會是未來的趨勢\n",
    "\n",
    "'''"
   ]
  }
 ],
 "metadata": {
  "kernelspec": {
   "display_name": "Python 3",
   "language": "python",
   "name": "python3"
  },
  "language_info": {
   "codemirror_mode": {
    "name": "ipython",
    "version": 3
   },
   "file_extension": ".py",
   "mimetype": "text/x-python",
   "name": "python",
   "nbconvert_exporter": "python",
   "pygments_lexer": "ipython3",
   "version": "3.7.6"
  }
 },
 "nbformat": 4,
 "nbformat_minor": 4
}
