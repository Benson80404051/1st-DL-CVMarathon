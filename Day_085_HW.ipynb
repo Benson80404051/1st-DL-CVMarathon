{
  "nbformat": 4,
  "nbformat_minor": 0,
  "metadata": {
    "kernelspec": {
      "display_name": "Python 3",
      "language": "python",
      "name": "python3"
    },
    "language_info": {
      "codemirror_mode": {
        "name": "ipython",
        "version": 3
      },
      "file_extension": ".py",
      "mimetype": "text/x-python",
      "name": "python",
      "nbconvert_exporter": "python",
      "pygments_lexer": "ipython3",
      "version": "3.6.5"
    },
    "colab": {
      "name": "Day085_HW.ipynb",
      "provenance": [],
      "collapsed_sections": []
    },
    "accelerator": "GPU"
  },
  "cells": [
    {
      "cell_type": "markdown",
      "metadata": {
        "id": "UBz3hIMeyZrV"
      },
      "source": [
        "## Work\n",
        "1. 試改變 monitor \"Validation Accuracy\" 並比較結果\n",
        "2. 調整 earlystop 的等待次數至 10, 25 並比較結果"
      ]
    },
    {
      "cell_type": "code",
      "metadata": {
        "id": "dJLBu7iQyZrW"
      },
      "source": [
        "import keras\n",
        "import matplotlib.pyplot as plt\n",
        "from keras.layers import BatchNormalization\n",
        "%matplotlib inline\n",
        "\n"
      ],
      "execution_count": 1,
      "outputs": []
    },
    {
      "cell_type": "code",
      "metadata": {
        "id": "abea3gzUyZrX"
      },
      "source": [
        "train, test = keras.datasets.cifar10.load_data()"
      ],
      "execution_count": 2,
      "outputs": []
    },
    {
      "cell_type": "code",
      "metadata": {
        "id": "mIk5tIxLyZrX"
      },
      "source": [
        "## 資料前處理\n",
        "def preproc_x(x, flatten=True):\n",
        "    x = x / 255.\n",
        "    if flatten:\n",
        "        x = x.reshape((len(x), -1))\n",
        "    return x\n",
        "\n",
        "def preproc_y(y, num_classes=10):\n",
        "    if y.shape[-1] == 1:\n",
        "        y = keras.utils.to_categorical(y, num_classes)\n",
        "    return y    "
      ],
      "execution_count": 3,
      "outputs": []
    },
    {
      "cell_type": "code",
      "metadata": {
        "id": "7bFox5oqyZrX"
      },
      "source": [
        "x_train, y_train = train\n",
        "x_test, y_test = test\n",
        "\n",
        "# Preproc the inputs\n",
        "x_train = preproc_x(x_train)\n",
        "x_test = preproc_x(x_test)\n",
        "\n",
        "# Preprc the outputs\n",
        "y_train = preproc_y(y_train)\n",
        "y_test = preproc_y(y_test)"
      ],
      "execution_count": 4,
      "outputs": []
    },
    {
      "cell_type": "code",
      "metadata": {
        "id": "Y8Eu0EVjyZrX"
      },
      "source": [
        "def build_mlp(input_shape, output_units=10, num_neurons=[512, 256, 128]):\n",
        "  input_layer = keras.layers.Input(input_shape)\n",
        "  \n",
        "  for i, n_units in enumerate(num_neurons):\n",
        "      if i == 0:\n",
        "          x = keras.layers.Dense(units=n_units, \n",
        "                                  activation=\"relu\", \n",
        "                                  name=\"hidden_layer\"+str(i+1))(input_layer)\n",
        "          x = BatchNormalization()(x)\n",
        "      else:\n",
        "          x = keras.layers.Dense(units=n_units, \n",
        "                                  activation=\"relu\", \n",
        "                                  name=\"hidden_layer\"+str(i+1))(x)\n",
        "          x = BatchNormalization()(x)\n",
        "  \n",
        "  out = keras.layers.Dense(units=output_units, activation=\"softmax\", name=\"output\")(x)\n",
        "  \n",
        "  model = keras.models.Model(inputs=[input_layer], outputs=[out])\n",
        "  return model"
      ],
      "execution_count": 5,
      "outputs": []
    },
    {
      "cell_type": "code",
      "metadata": {
        "id": "8ubIiZaeyZrY"
      },
      "source": [
        "\"\"\"Code Here\n",
        "設定超參數\n",
        "\"\"\"\n",
        "LEARNING_RATE = 1e-3\n",
        "EPOCHS = 50\n",
        "BATCH_SIZE = 1024\n",
        "MOMENTUM = 0.95"
      ],
      "execution_count": 6,
      "outputs": []
    },
    {
      "cell_type": "markdown",
      "metadata": {
        "id": "DAu__Pn53H4l"
      },
      "source": [
        "## 改變監控指標為 validation accuracy"
      ]
    },
    {
      "cell_type": "code",
      "metadata": {
        "colab": {
          "base_uri": "https://localhost:8080/"
        },
        "id": "IJjQuB45yZrY",
        "outputId": "16931722-832d-4e5b-fc93-1ec2e279f1b7"
      },
      "source": [
        "# 載入 Callbacks\n",
        "\"\"\"Code Here\n",
        "設定 callbacks: Earlystop\n",
        "\"\"\"\n",
        "earlystop = keras.callbacks.EarlyStopping(monitor=\"val_accuracy\",\n",
        "              patience=5, \n",
        "              verbose=1)\n",
        "\n",
        "\n",
        "\n",
        "\"\"\"Code Here\n",
        "撰寫你的訓練流程並將結果用 dictionary 紀錄\n",
        "\"\"\"\n",
        "results = {}\n",
        "\n",
        "model = build_mlp(input_shape=x_train.shape[1:])\n",
        "model.summary()\n",
        "optimizer = keras.optimizers.SGD(lr=LEARNING_RATE, nesterov=True, momentum=MOMENTUM)\n",
        "model.compile(loss=\"categorical_crossentropy\", metrics=[\"accuracy\"], optimizer=optimizer)\n",
        "\n",
        "model.fit(x_train, y_train, \n",
        "          epochs=EPOCHS, \n",
        "          batch_size=BATCH_SIZE, \n",
        "          validation_data=(x_test, y_test), \n",
        "          shuffle=True,\n",
        "          callbacks=[earlystop]\n",
        "         )\n",
        "\n",
        "# Collect results\n",
        "train_loss = model.history.history[\"loss\"]\n",
        "valid_loss = model.history.history[\"val_loss\"]\n",
        "train_acc = model.history.history[\"accuracy\"]\n",
        "valid_acc = model.history.history[\"val_accuracy\"]"
      ],
      "execution_count": 7,
      "outputs": [
        {
          "output_type": "stream",
          "text": [
            "Model: \"model\"\n",
            "_________________________________________________________________\n",
            "Layer (type)                 Output Shape              Param #   \n",
            "=================================================================\n",
            "input_1 (InputLayer)         [(None, 3072)]            0         \n",
            "_________________________________________________________________\n",
            "hidden_layer1 (Dense)        (None, 512)               1573376   \n",
            "_________________________________________________________________\n",
            "batch_normalization (BatchNo (None, 512)               2048      \n",
            "_________________________________________________________________\n",
            "hidden_layer2 (Dense)        (None, 256)               131328    \n",
            "_________________________________________________________________\n",
            "batch_normalization_1 (Batch (None, 256)               1024      \n",
            "_________________________________________________________________\n",
            "hidden_layer3 (Dense)        (None, 128)               32896     \n",
            "_________________________________________________________________\n",
            "batch_normalization_2 (Batch (None, 128)               512       \n",
            "_________________________________________________________________\n",
            "output (Dense)               (None, 10)                1290      \n",
            "=================================================================\n",
            "Total params: 1,742,474\n",
            "Trainable params: 1,740,682\n",
            "Non-trainable params: 1,792\n",
            "_________________________________________________________________\n",
            "Epoch 1/50\n",
            "49/49 [==============================] - 2s 22ms/step - loss: 2.4507 - accuracy: 0.2101 - val_loss: 2.1373 - val_accuracy: 0.1924\n",
            "Epoch 2/50\n",
            "49/49 [==============================] - 1s 12ms/step - loss: 1.7775 - accuracy: 0.3815 - val_loss: 1.9663 - val_accuracy: 0.2815\n",
            "Epoch 3/50\n",
            "49/49 [==============================] - 1s 12ms/step - loss: 1.6294 - accuracy: 0.4308 - val_loss: 1.8339 - val_accuracy: 0.3662\n",
            "Epoch 4/50\n",
            "49/49 [==============================] - 1s 12ms/step - loss: 1.5501 - accuracy: 0.4590 - val_loss: 1.7302 - val_accuracy: 0.3998\n",
            "Epoch 5/50\n",
            "49/49 [==============================] - 1s 12ms/step - loss: 1.5022 - accuracy: 0.4767 - val_loss: 1.6393 - val_accuracy: 0.4309\n",
            "Epoch 6/50\n",
            "49/49 [==============================] - 1s 12ms/step - loss: 1.4600 - accuracy: 0.4928 - val_loss: 1.5934 - val_accuracy: 0.4420\n",
            "Epoch 7/50\n",
            "49/49 [==============================] - 1s 12ms/step - loss: 1.4203 - accuracy: 0.5063 - val_loss: 1.5627 - val_accuracy: 0.4477\n",
            "Epoch 8/50\n",
            "49/49 [==============================] - 1s 12ms/step - loss: 1.3729 - accuracy: 0.5250 - val_loss: 1.5261 - val_accuracy: 0.4637\n",
            "Epoch 9/50\n",
            "49/49 [==============================] - 1s 12ms/step - loss: 1.3471 - accuracy: 0.5342 - val_loss: 1.5248 - val_accuracy: 0.4619\n",
            "Epoch 10/50\n",
            "49/49 [==============================] - 1s 12ms/step - loss: 1.3189 - accuracy: 0.5442 - val_loss: 1.5007 - val_accuracy: 0.4716\n",
            "Epoch 11/50\n",
            "49/49 [==============================] - 1s 12ms/step - loss: 1.2949 - accuracy: 0.5533 - val_loss: 1.4959 - val_accuracy: 0.4700\n",
            "Epoch 12/50\n",
            "49/49 [==============================] - 1s 12ms/step - loss: 1.2684 - accuracy: 0.5643 - val_loss: 1.4816 - val_accuracy: 0.4750\n",
            "Epoch 13/50\n",
            "49/49 [==============================] - 1s 12ms/step - loss: 1.2386 - accuracy: 0.5729 - val_loss: 1.4771 - val_accuracy: 0.4796\n",
            "Epoch 14/50\n",
            "49/49 [==============================] - 1s 12ms/step - loss: 1.2127 - accuracy: 0.5843 - val_loss: 1.4801 - val_accuracy: 0.4796\n",
            "Epoch 15/50\n",
            "49/49 [==============================] - 1s 12ms/step - loss: 1.1801 - accuracy: 0.5943 - val_loss: 1.4737 - val_accuracy: 0.4812\n",
            "Epoch 16/50\n",
            "49/49 [==============================] - 1s 12ms/step - loss: 1.1641 - accuracy: 0.6013 - val_loss: 1.4675 - val_accuracy: 0.4833\n",
            "Epoch 17/50\n",
            "49/49 [==============================] - 1s 12ms/step - loss: 1.1461 - accuracy: 0.6065 - val_loss: 1.4708 - val_accuracy: 0.4792\n",
            "Epoch 18/50\n",
            "49/49 [==============================] - 1s 11ms/step - loss: 1.1164 - accuracy: 0.6220 - val_loss: 1.4576 - val_accuracy: 0.4845\n",
            "Epoch 19/50\n",
            "49/49 [==============================] - 1s 12ms/step - loss: 1.0938 - accuracy: 0.6285 - val_loss: 1.4560 - val_accuracy: 0.4880\n",
            "Epoch 20/50\n",
            "49/49 [==============================] - 1s 12ms/step - loss: 1.0661 - accuracy: 0.6386 - val_loss: 1.4729 - val_accuracy: 0.4842\n",
            "Epoch 21/50\n",
            "49/49 [==============================] - 1s 12ms/step - loss: 1.0503 - accuracy: 0.6435 - val_loss: 1.4697 - val_accuracy: 0.4845\n",
            "Epoch 22/50\n",
            "49/49 [==============================] - 1s 12ms/step - loss: 1.0243 - accuracy: 0.6511 - val_loss: 1.4695 - val_accuracy: 0.4880\n",
            "Epoch 23/50\n",
            "49/49 [==============================] - 1s 12ms/step - loss: 1.0079 - accuracy: 0.6623 - val_loss: 1.4643 - val_accuracy: 0.4909\n",
            "Epoch 24/50\n",
            "49/49 [==============================] - 1s 12ms/step - loss: 0.9830 - accuracy: 0.6696 - val_loss: 1.4561 - val_accuracy: 0.4938\n",
            "Epoch 25/50\n",
            "49/49 [==============================] - 1s 12ms/step - loss: 0.9695 - accuracy: 0.6757 - val_loss: 1.4650 - val_accuracy: 0.4915\n",
            "Epoch 26/50\n",
            "49/49 [==============================] - 1s 12ms/step - loss: 0.9391 - accuracy: 0.6879 - val_loss: 1.4662 - val_accuracy: 0.4884\n",
            "Epoch 27/50\n",
            "49/49 [==============================] - 1s 12ms/step - loss: 0.9292 - accuracy: 0.6908 - val_loss: 1.4703 - val_accuracy: 0.4908\n",
            "Epoch 28/50\n",
            "49/49 [==============================] - 1s 12ms/step - loss: 0.9108 - accuracy: 0.6990 - val_loss: 1.4792 - val_accuracy: 0.4925\n",
            "Epoch 29/50\n",
            "49/49 [==============================] - 1s 12ms/step - loss: 0.8853 - accuracy: 0.7091 - val_loss: 1.4828 - val_accuracy: 0.4920\n",
            "Epoch 00029: early stopping\n"
          ],
          "name": "stdout"
        }
      ]
    },
    {
      "cell_type": "code",
      "metadata": {
        "colab": {
          "base_uri": "https://localhost:8080/",
          "height": 545
        },
        "id": "HNuum3dJyZrY",
        "outputId": "4599f8e5-7544-41fb-cc4a-0667edfb0808"
      },
      "source": [
        "import matplotlib.pyplot as plt\n",
        "%matplotlib inline\n",
        "\"\"\"Code Here\n",
        "將結果繪出\n",
        "\"\"\"\n",
        "\n",
        "plt.plot(range(len(train_loss)), train_loss, label=\"train loss\")\n",
        "plt.plot(range(len(valid_loss)), valid_loss, label=\"valid loss\")\n",
        "plt.legend()\n",
        "plt.title(\"Loss\")\n",
        "plt.show()\n",
        "\n",
        "plt.plot(range(len(train_acc)), train_acc, label=\"train accuracy\")\n",
        "plt.plot(range(len(valid_acc)), valid_acc, label=\"valid accuracy\")\n",
        "plt.legend()\n",
        "plt.title(\"Accuracy\")\n",
        "plt.show()"
      ],
      "execution_count": 8,
      "outputs": [
        {
          "output_type": "display_data",
          "data": {
            "image/png": "[encoded data removed]",
            "text/plain": [
              "<Figure size 432x288 with 1 Axes>"
            ]
          },
          "metadata": {
            "tags": [],
            "needs_background": "light"
          }
        },
        {
          "output_type": "display_data",
          "data": {
            "image/png": "[encoded data removed]",
            "text/plain": [
              "<Figure size 432x288 with 1 Axes>"
            ]
          },
          "metadata": {
            "tags": [],
            "needs_background": "light"
          }
        }
      ]
    },
    {
      "cell_type": "markdown",
      "metadata": {
        "id": "Fep02PJE3DWZ"
      },
      "source": [
        "## 調整 earlystop 的等待次數至 10, 25"
      ]
    },
    {
      "cell_type": "code",
      "metadata": {
        "id": "9ppz_HBm3c_9"
      },
      "source": [
        "\"\"\"Code Here\r\n",
        "設定超參數\r\n",
        "\"\"\"\r\n",
        "LEARNING_RATE = 1e-3\r\n",
        "EPOCHS = 50\r\n",
        "BATCH_SIZE = 1024\r\n",
        "MOMENTUM = 0.95\r\n",
        "PATIENCE = [10, 25]"
      ],
      "execution_count": 9,
      "outputs": []
    },
    {
      "cell_type": "code",
      "metadata": {
        "colab": {
          "base_uri": "https://localhost:8080/"
        },
        "id": "HyHIwuuH3RIl",
        "outputId": "a66b562d-97e2-4d0d-e9ea-389158a21633"
      },
      "source": [
        "\"\"\"Code Here\r\n",
        "撰寫你的訓練流程並將結果用 dictionary 紀錄\r\n",
        "\"\"\"\r\n",
        "results = {}\r\n",
        "for i in PATIENCE:\r\n",
        "  keras.backend.clear_session()\r\n",
        "  print(f'Experiment with patience {i}')\r\n",
        "\r\n",
        "  model = build_mlp(input_shape=x_train.shape[1:])\r\n",
        "  model.summary()\r\n",
        "\r\n",
        "  # 載入 Callbacks\r\n",
        "  earlystop = keras.callbacks.EarlyStopping(monitor=\"val_accuracy\",\r\n",
        "              patience=i, \r\n",
        "              verbose=1)\r\n",
        "\r\n",
        "  optimizer = keras.optimizers.SGD(lr=LEARNING_RATE, nesterov=True, momentum=MOMENTUM)\r\n",
        "  model.compile(loss=\"categorical_crossentropy\", metrics=[\"accuracy\"], optimizer=optimizer)\r\n",
        "\r\n",
        "  model.fit(x_train, y_train, \r\n",
        "            epochs=EPOCHS, \r\n",
        "            batch_size=BATCH_SIZE, \r\n",
        "            validation_data=(x_test, y_test), \r\n",
        "            shuffle=True,\r\n",
        "            callbacks=[earlystop]\r\n",
        "          )\r\n",
        "\r\n",
        "  # Collect results\r\n",
        "  train_loss = model.history.history[\"loss\"]\r\n",
        "  valid_loss = model.history.history[\"val_loss\"]\r\n",
        "  train_acc = model.history.history[\"accuracy\"]\r\n",
        "  valid_acc = model.history.history[\"val_accuracy\"]\r\n",
        "\r\n",
        "  nametag=f'patience_{i}'\r\n",
        "  results[nametag] = {\r\n",
        "          'train_loss': train_loss,\r\n",
        "          'valid_loss': valid_loss,\r\n",
        "          'train_acc': train_acc,\r\n",
        "          'valid_acc': valid_acc}"
      ],
      "execution_count": 10,
      "outputs": [
        {
          "output_type": "stream",
          "text": [
            "Experiment with patience 10\n",
            "Model: \"model\"\n",
            "_________________________________________________________________\n",
            "Layer (type)                 Output Shape              Param #   \n",
            "=================================================================\n",
            "input_1 (InputLayer)         [(None, 3072)]            0         \n",
            "_________________________________________________________________\n",
            "hidden_layer1 (Dense)        (None, 512)               1573376   \n",
            "_________________________________________________________________\n",
            "batch_normalization (BatchNo (None, 512)               2048      \n",
            "_________________________________________________________________\n",
            "hidden_layer2 (Dense)        (None, 256)               131328    \n",
            "_________________________________________________________________\n",
            "batch_normalization_1 (Batch (None, 256)               1024      \n",
            "_________________________________________________________________\n",
            "hidden_layer3 (Dense)        (None, 128)               32896     \n",
            "_________________________________________________________________\n",
            "batch_normalization_2 (Batch (None, 128)               512       \n",
            "_________________________________________________________________\n",
            "output (Dense)               (None, 10)                1290      \n",
            "=================================================================\n",
            "Total params: 1,742,474\n",
            "Trainable params: 1,740,682\n",
            "Non-trainable params: 1,792\n",
            "_________________________________________________________________\n",
            "Epoch 1/50\n",
            "49/49 [==============================] - 2s 17ms/step - loss: 2.4677 - accuracy: 0.2108 - val_loss: 2.1156 - val_accuracy: 0.2208\n",
            "Epoch 2/50\n",
            "49/49 [==============================] - 1s 12ms/step - loss: 1.7793 - accuracy: 0.3811 - val_loss: 1.9744 - val_accuracy: 0.2925\n",
            "Epoch 3/50\n",
            "49/49 [==============================] - 1s 12ms/step - loss: 1.6360 - accuracy: 0.4302 - val_loss: 1.8327 - val_accuracy: 0.3668\n",
            "Epoch 4/50\n",
            "49/49 [==============================] - 1s 11ms/step - loss: 1.5522 - accuracy: 0.4567 - val_loss: 1.7270 - val_accuracy: 0.3987\n",
            "Epoch 5/50\n",
            "49/49 [==============================] - 1s 12ms/step - loss: 1.4938 - accuracy: 0.4765 - val_loss: 1.6484 - val_accuracy: 0.4181\n",
            "Epoch 6/50\n",
            "49/49 [==============================] - 1s 12ms/step - loss: 1.4549 - accuracy: 0.4924 - val_loss: 1.6001 - val_accuracy: 0.4392\n",
            "Epoch 7/50\n",
            "49/49 [==============================] - 1s 12ms/step - loss: 1.4158 - accuracy: 0.5050 - val_loss: 1.5582 - val_accuracy: 0.4476\n",
            "Epoch 8/50\n",
            "49/49 [==============================] - 1s 11ms/step - loss: 1.3705 - accuracy: 0.5213 - val_loss: 1.5256 - val_accuracy: 0.4644\n",
            "Epoch 9/50\n",
            "49/49 [==============================] - 1s 12ms/step - loss: 1.3419 - accuracy: 0.5347 - val_loss: 1.5222 - val_accuracy: 0.4619\n",
            "Epoch 10/50\n",
            "49/49 [==============================] - 1s 12ms/step - loss: 1.3110 - accuracy: 0.5466 - val_loss: 1.5014 - val_accuracy: 0.4700\n",
            "Epoch 11/50\n",
            "49/49 [==============================] - 1s 11ms/step - loss: 1.2839 - accuracy: 0.5538 - val_loss: 1.4870 - val_accuracy: 0.4713\n",
            "Epoch 12/50\n",
            "49/49 [==============================] - 1s 12ms/step - loss: 1.2588 - accuracy: 0.5627 - val_loss: 1.4825 - val_accuracy: 0.4735\n",
            "Epoch 13/50\n",
            "49/49 [==============================] - 1s 12ms/step - loss: 1.2291 - accuracy: 0.5768 - val_loss: 1.4827 - val_accuracy: 0.4806\n",
            "Epoch 14/50\n",
            "49/49 [==============================] - 1s 12ms/step - loss: 1.2092 - accuracy: 0.5834 - val_loss: 1.4695 - val_accuracy: 0.4797\n",
            "Epoch 15/50\n",
            "49/49 [==============================] - 1s 12ms/step - loss: 1.1787 - accuracy: 0.5954 - val_loss: 1.4628 - val_accuracy: 0.4832\n",
            "Epoch 16/50\n",
            "49/49 [==============================] - 1s 12ms/step - loss: 1.1529 - accuracy: 0.6035 - val_loss: 1.4681 - val_accuracy: 0.4776\n",
            "Epoch 17/50\n",
            "49/49 [==============================] - 1s 12ms/step - loss: 1.1290 - accuracy: 0.6134 - val_loss: 1.4670 - val_accuracy: 0.4884\n",
            "Epoch 18/50\n",
            "49/49 [==============================] - 1s 12ms/step - loss: 1.1046 - accuracy: 0.6240 - val_loss: 1.4572 - val_accuracy: 0.4877\n",
            "Epoch 19/50\n",
            "49/49 [==============================] - 1s 12ms/step - loss: 1.0841 - accuracy: 0.6296 - val_loss: 1.4576 - val_accuracy: 0.4909\n",
            "Epoch 20/50\n",
            "49/49 [==============================] - 1s 12ms/step - loss: 1.0705 - accuracy: 0.6362 - val_loss: 1.4539 - val_accuracy: 0.4949\n",
            "Epoch 21/50\n",
            "49/49 [==============================] - 1s 12ms/step - loss: 1.0458 - accuracy: 0.6445 - val_loss: 1.4604 - val_accuracy: 0.4936\n",
            "Epoch 22/50\n",
            "49/49 [==============================] - 1s 12ms/step - loss: 1.0237 - accuracy: 0.6519 - val_loss: 1.4658 - val_accuracy: 0.4938\n",
            "Epoch 23/50\n",
            "49/49 [==============================] - 1s 12ms/step - loss: 0.9992 - accuracy: 0.6654 - val_loss: 1.4688 - val_accuracy: 0.4899\n",
            "Epoch 24/50\n",
            "49/49 [==============================] - 1s 12ms/step - loss: 0.9814 - accuracy: 0.6677 - val_loss: 1.4591 - val_accuracy: 0.4953\n",
            "Epoch 25/50\n",
            "49/49 [==============================] - 1s 12ms/step - loss: 0.9571 - accuracy: 0.6805 - val_loss: 1.4750 - val_accuracy: 0.4947\n",
            "Epoch 26/50\n",
            "49/49 [==============================] - 1s 12ms/step - loss: 0.9338 - accuracy: 0.6884 - val_loss: 1.4730 - val_accuracy: 0.4947\n",
            "Epoch 27/50\n",
            "49/49 [==============================] - 1s 12ms/step - loss: 0.9148 - accuracy: 0.6991 - val_loss: 1.4812 - val_accuracy: 0.4871\n",
            "Epoch 28/50\n",
            "49/49 [==============================] - 1s 12ms/step - loss: 0.8979 - accuracy: 0.7042 - val_loss: 1.4724 - val_accuracy: 0.4949\n",
            "Epoch 29/50\n",
            "49/49 [==============================] - 1s 12ms/step - loss: 0.8745 - accuracy: 0.7131 - val_loss: 1.5037 - val_accuracy: 0.4907\n",
            "Epoch 30/50\n",
            "49/49 [==============================] - 1s 12ms/step - loss: 0.8612 - accuracy: 0.7165 - val_loss: 1.4943 - val_accuracy: 0.4985\n",
            "Epoch 31/50\n",
            "49/49 [==============================] - 1s 12ms/step - loss: 0.8285 - accuracy: 0.7331 - val_loss: 1.4904 - val_accuracy: 0.4917\n",
            "Epoch 32/50\n",
            "49/49 [==============================] - 1s 12ms/step - loss: 0.8194 - accuracy: 0.7361 - val_loss: 1.4950 - val_accuracy: 0.4931\n",
            "Epoch 33/50\n",
            "49/49 [==============================] - 1s 12ms/step - loss: 0.7935 - accuracy: 0.7447 - val_loss: 1.5222 - val_accuracy: 0.4897\n",
            "Epoch 34/50\n",
            "49/49 [==============================] - 1s 13ms/step - loss: 0.7788 - accuracy: 0.7508 - val_loss: 1.5278 - val_accuracy: 0.4939\n",
            "Epoch 35/50\n",
            "49/49 [==============================] - 1s 12ms/step - loss: 0.7544 - accuracy: 0.7614 - val_loss: 1.5356 - val_accuracy: 0.4840\n",
            "Epoch 36/50\n",
            "49/49 [==============================] - 1s 12ms/step - loss: 0.7397 - accuracy: 0.7650 - val_loss: 1.5341 - val_accuracy: 0.4970\n",
            "Epoch 37/50\n",
            "49/49 [==============================] - 1s 12ms/step - loss: 0.7191 - accuracy: 0.7767 - val_loss: 1.5344 - val_accuracy: 0.4955\n",
            "Epoch 38/50\n",
            "49/49 [==============================] - 1s 12ms/step - loss: 0.7078 - accuracy: 0.7798 - val_loss: 1.5639 - val_accuracy: 0.4893\n",
            "Epoch 39/50\n",
            "49/49 [==============================] - 1s 15ms/step - loss: 0.6824 - accuracy: 0.7866 - val_loss: 1.5801 - val_accuracy: 0.4858\n",
            "Epoch 40/50\n",
            "49/49 [==============================] - 1s 12ms/step - loss: 0.6646 - accuracy: 0.7942 - val_loss: 1.5761 - val_accuracy: 0.4881\n",
            "Epoch 00040: early stopping\n",
            "Experiment with patience 25\n",
            "Model: \"model\"\n",
            "_________________________________________________________________\n",
            "Layer (type)                 Output Shape              Param #   \n",
            "=================================================================\n",
            "input_1 (InputLayer)         [(None, 3072)]            0         \n",
            "_________________________________________________________________\n",
            "hidden_layer1 (Dense)        (None, 512)               1573376   \n",
            "_________________________________________________________________\n",
            "batch_normalization (BatchNo (None, 512)               2048      \n",
            "_________________________________________________________________\n",
            "hidden_layer2 (Dense)        (None, 256)               131328    \n",
            "_________________________________________________________________\n",
            "batch_normalization_1 (Batch (None, 256)               1024      \n",
            "_________________________________________________________________\n",
            "hidden_layer3 (Dense)        (None, 128)               32896     \n",
            "_________________________________________________________________\n",
            "batch_normalization_2 (Batch (None, 128)               512       \n",
            "_________________________________________________________________\n",
            "output (Dense)               (None, 10)                1290      \n",
            "=================================================================\n",
            "Total params: 1,742,474\n",
            "Trainable params: 1,740,682\n",
            "Non-trainable params: 1,792\n",
            "_________________________________________________________________\n",
            "Epoch 1/50\n",
            "49/49 [==============================] - 2s 18ms/step - loss: 2.4642 - accuracy: 0.2110 - val_loss: 2.1215 - val_accuracy: 0.2356\n",
            "Epoch 2/50\n",
            "49/49 [==============================] - 1s 12ms/step - loss: 1.7687 - accuracy: 0.3855 - val_loss: 1.9585 - val_accuracy: 0.2951\n",
            "Epoch 3/50\n",
            "49/49 [==============================] - 1s 12ms/step - loss: 1.6316 - accuracy: 0.4302 - val_loss: 1.8115 - val_accuracy: 0.3715\n",
            "Epoch 4/50\n",
            "49/49 [==============================] - 1s 12ms/step - loss: 1.5458 - accuracy: 0.4629 - val_loss: 1.7144 - val_accuracy: 0.4074\n",
            "Epoch 5/50\n",
            "49/49 [==============================] - 1s 12ms/step - loss: 1.4838 - accuracy: 0.4815 - val_loss: 1.6286 - val_accuracy: 0.4343\n",
            "Epoch 6/50\n",
            "49/49 [==============================] - 1s 12ms/step - loss: 1.4363 - accuracy: 0.4973 - val_loss: 1.5772 - val_accuracy: 0.4522\n",
            "Epoch 7/50\n",
            "49/49 [==============================] - 1s 12ms/step - loss: 1.3957 - accuracy: 0.5139 - val_loss: 1.5434 - val_accuracy: 0.4604\n",
            "Epoch 8/50\n",
            "49/49 [==============================] - 1s 12ms/step - loss: 1.3688 - accuracy: 0.5242 - val_loss: 1.5174 - val_accuracy: 0.4662\n",
            "Epoch 9/50\n",
            "49/49 [==============================] - 1s 12ms/step - loss: 1.3246 - accuracy: 0.5408 - val_loss: 1.4931 - val_accuracy: 0.4746\n",
            "Epoch 10/50\n",
            "49/49 [==============================] - 1s 13ms/step - loss: 1.2993 - accuracy: 0.5482 - val_loss: 1.4890 - val_accuracy: 0.4740\n",
            "Epoch 11/50\n",
            "49/49 [==============================] - 1s 12ms/step - loss: 1.2764 - accuracy: 0.5600 - val_loss: 1.4691 - val_accuracy: 0.4852\n",
            "Epoch 12/50\n",
            "49/49 [==============================] - 1s 12ms/step - loss: 1.2510 - accuracy: 0.5642 - val_loss: 1.4666 - val_accuracy: 0.4872\n",
            "Epoch 13/50\n",
            "49/49 [==============================] - 1s 12ms/step - loss: 1.2179 - accuracy: 0.5801 - val_loss: 1.4684 - val_accuracy: 0.4819\n",
            "Epoch 14/50\n",
            "49/49 [==============================] - 1s 12ms/step - loss: 1.1877 - accuracy: 0.5912 - val_loss: 1.4504 - val_accuracy: 0.4879\n",
            "Epoch 15/50\n",
            "49/49 [==============================] - 1s 13ms/step - loss: 1.1653 - accuracy: 0.5996 - val_loss: 1.4558 - val_accuracy: 0.4908\n",
            "Epoch 16/50\n",
            "49/49 [==============================] - 1s 12ms/step - loss: 1.1483 - accuracy: 0.6035 - val_loss: 1.4522 - val_accuracy: 0.4919\n",
            "Epoch 17/50\n",
            "49/49 [==============================] - 1s 12ms/step - loss: 1.1198 - accuracy: 0.6153 - val_loss: 1.4388 - val_accuracy: 0.4943\n",
            "Epoch 18/50\n",
            "49/49 [==============================] - 1s 12ms/step - loss: 1.1061 - accuracy: 0.6211 - val_loss: 1.4535 - val_accuracy: 0.4906\n",
            "Epoch 19/50\n",
            "49/49 [==============================] - 1s 12ms/step - loss: 1.0809 - accuracy: 0.6314 - val_loss: 1.4390 - val_accuracy: 0.4968\n",
            "Epoch 20/50\n",
            "49/49 [==============================] - 1s 12ms/step - loss: 1.0570 - accuracy: 0.6411 - val_loss: 1.4474 - val_accuracy: 0.4988\n",
            "Epoch 21/50\n",
            "49/49 [==============================] - 1s 12ms/step - loss: 1.0332 - accuracy: 0.6499 - val_loss: 1.4469 - val_accuracy: 0.4984\n",
            "Epoch 22/50\n",
            "49/49 [==============================] - 1s 12ms/step - loss: 1.0086 - accuracy: 0.6568 - val_loss: 1.4486 - val_accuracy: 0.4952\n",
            "Epoch 23/50\n",
            "49/49 [==============================] - 1s 12ms/step - loss: 0.9904 - accuracy: 0.6624 - val_loss: 1.4556 - val_accuracy: 0.4935\n",
            "Epoch 24/50\n",
            "49/49 [==============================] - 1s 12ms/step - loss: 0.9735 - accuracy: 0.6720 - val_loss: 1.4549 - val_accuracy: 0.4975\n",
            "Epoch 25/50\n",
            "49/49 [==============================] - 1s 12ms/step - loss: 0.9527 - accuracy: 0.6771 - val_loss: 1.4535 - val_accuracy: 0.5008\n",
            "Epoch 26/50\n",
            "49/49 [==============================] - 1s 12ms/step - loss: 0.9329 - accuracy: 0.6896 - val_loss: 1.4515 - val_accuracy: 0.5016\n",
            "Epoch 27/50\n",
            "49/49 [==============================] - 1s 13ms/step - loss: 0.9090 - accuracy: 0.6998 - val_loss: 1.4565 - val_accuracy: 0.5006\n",
            "Epoch 28/50\n",
            "49/49 [==============================] - 1s 12ms/step - loss: 0.8919 - accuracy: 0.7051 - val_loss: 1.4600 - val_accuracy: 0.4990\n",
            "Epoch 29/50\n",
            "49/49 [==============================] - 1s 12ms/step - loss: 0.8717 - accuracy: 0.7124 - val_loss: 1.4629 - val_accuracy: 0.5009\n",
            "Epoch 30/50\n",
            "49/49 [==============================] - 1s 12ms/step - loss: 0.8479 - accuracy: 0.7196 - val_loss: 1.4844 - val_accuracy: 0.5004\n",
            "Epoch 31/50\n",
            "49/49 [==============================] - 1s 12ms/step - loss: 0.8296 - accuracy: 0.7277 - val_loss: 1.4752 - val_accuracy: 0.5022\n",
            "Epoch 32/50\n",
            "49/49 [==============================] - 1s 15ms/step - loss: 0.8109 - accuracy: 0.7364 - val_loss: 1.4850 - val_accuracy: 0.4992\n",
            "Epoch 33/50\n",
            "49/49 [==============================] - 1s 12ms/step - loss: 0.7897 - accuracy: 0.7459 - val_loss: 1.4904 - val_accuracy: 0.4992\n",
            "Epoch 34/50\n",
            "49/49 [==============================] - 1s 12ms/step - loss: 0.7750 - accuracy: 0.7509 - val_loss: 1.4877 - val_accuracy: 0.4964\n",
            "Epoch 35/50\n",
            "49/49 [==============================] - 1s 12ms/step - loss: 0.7468 - accuracy: 0.7621 - val_loss: 1.5033 - val_accuracy: 0.4990\n",
            "Epoch 36/50\n",
            "49/49 [==============================] - 1s 12ms/step - loss: 0.7232 - accuracy: 0.7738 - val_loss: 1.5157 - val_accuracy: 0.4930\n",
            "Epoch 37/50\n",
            "49/49 [==============================] - 1s 12ms/step - loss: 0.7165 - accuracy: 0.7744 - val_loss: 1.5366 - val_accuracy: 0.4948\n",
            "Epoch 38/50\n",
            "49/49 [==============================] - 1s 12ms/step - loss: 0.6981 - accuracy: 0.7817 - val_loss: 1.5287 - val_accuracy: 0.4935\n",
            "Epoch 39/50\n",
            "49/49 [==============================] - 1s 12ms/step - loss: 0.6797 - accuracy: 0.7881 - val_loss: 1.5499 - val_accuracy: 0.4949\n",
            "Epoch 40/50\n",
            "49/49 [==============================] - 1s 12ms/step - loss: 0.6630 - accuracy: 0.7957 - val_loss: 1.5557 - val_accuracy: 0.4929\n",
            "Epoch 41/50\n",
            "49/49 [==============================] - 1s 12ms/step - loss: 0.6376 - accuracy: 0.8029 - val_loss: 1.5449 - val_accuracy: 0.4966\n",
            "Epoch 42/50\n",
            "49/49 [==============================] - 1s 13ms/step - loss: 0.6206 - accuracy: 0.8138 - val_loss: 1.5764 - val_accuracy: 0.4961\n",
            "Epoch 43/50\n",
            "49/49 [==============================] - 1s 12ms/step - loss: 0.6047 - accuracy: 0.8211 - val_loss: 1.6049 - val_accuracy: 0.4921\n",
            "Epoch 44/50\n",
            "49/49 [==============================] - 1s 12ms/step - loss: 0.5920 - accuracy: 0.8231 - val_loss: 1.5900 - val_accuracy: 0.4975\n",
            "Epoch 45/50\n",
            "49/49 [==============================] - 1s 12ms/step - loss: 0.5714 - accuracy: 0.8330 - val_loss: 1.5950 - val_accuracy: 0.5003\n",
            "Epoch 46/50\n",
            "49/49 [==============================] - 1s 12ms/step - loss: 0.5503 - accuracy: 0.8403 - val_loss: 1.6346 - val_accuracy: 0.4870\n",
            "Epoch 47/50\n",
            "49/49 [==============================] - 1s 12ms/step - loss: 0.5357 - accuracy: 0.8463 - val_loss: 1.6172 - val_accuracy: 0.4994\n",
            "Epoch 48/50\n",
            "49/49 [==============================] - 1s 12ms/step - loss: 0.5159 - accuracy: 0.8557 - val_loss: 1.6554 - val_accuracy: 0.4878\n",
            "Epoch 49/50\n",
            "49/49 [==============================] - 1s 13ms/step - loss: 0.5023 - accuracy: 0.8600 - val_loss: 1.6440 - val_accuracy: 0.4940\n",
            "Epoch 50/50\n",
            "49/49 [==============================] - 1s 12ms/step - loss: 0.4852 - accuracy: 0.8673 - val_loss: 1.6652 - val_accuracy: 0.4919\n"
          ],
          "name": "stdout"
        }
      ]
    },
    {
      "cell_type": "code",
      "metadata": {
        "colab": {
          "base_uri": "https://localhost:8080/",
          "height": 763
        },
        "id": "Mhawg3MC4tcB",
        "outputId": "47d25223-7b03-40b6-9367-c7ff8ca3f720"
      },
      "source": [
        "NUM_COLORS = len(results.keys())\r\n",
        "cm = plt.get_cmap('gist_rainbow')\r\n",
        "color_bar = [cm(1.*i/NUM_COLORS) for i in range(NUM_COLORS)]\r\n",
        "\r\n",
        "\r\n",
        "plt.figure(figsize=(8,6))\r\n",
        "for i, cond in enumerate(results.keys()):\r\n",
        "    plt.plot(range(len(results[cond]['train_loss'])),results[cond]['train_loss'], '-', label=cond, color=color_bar[i])\r\n",
        "    plt.plot(range(len(results[cond]['valid_loss'])),results[cond]['valid_loss'], '--', label=cond, color=color_bar[i])\r\n",
        "\r\n",
        "plt.legend(loc='center left', bbox_to_anchor=(1, 0.5))\r\n",
        "plt.ylim([0,5])\r\n",
        "plt.title(\"Loss\")\r\n",
        "plt.show()\r\n",
        "\r\n",
        "plt.figure(figsize=(8,6))\r\n",
        "for i, cond in enumerate(results.keys()):\r\n",
        "    plt.plot(range(len(results[cond]['train_acc'])),results[cond]['train_acc'], '-', label=cond, color=color_bar[i])\r\n",
        "    plt.plot(range(len(results[cond]['valid_acc'])),results[cond]['valid_acc'], '--', label=cond, color=color_bar[i])\r\n",
        "\r\n",
        "plt.legend(loc='center left', bbox_to_anchor=(1, 0.5))\r\n",
        "plt.title(\"Accuracy\")\r\n",
        "plt.show()"
      ],
      "execution_count": 11,
      "outputs": [
        {
          "output_type": "display_data",
          "data": {
            "image/png": "[encoded data removed]",
            "text/plain": [
              "<Figure size 576x432 with 1 Axes>"
            ]
          },
          "metadata": {
            "tags": [],
            "needs_background": "light"
          }
        },
        {
          "output_type": "display_data",
          "data": {
            "image/png": "[encoded data removed]",
            "text/plain": [
              "<Figure size 576x432 with 1 Axes>"
            ]
          },
          "metadata": {
            "tags": [],
            "needs_background": "light"
          }
        }
      ]
    }
  ]
}