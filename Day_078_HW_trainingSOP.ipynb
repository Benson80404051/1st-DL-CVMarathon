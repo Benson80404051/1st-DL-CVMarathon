{
  "nbformat": 4,
  "nbformat_minor": 0,
  "metadata": {
    "kernelspec": {
      "display_name": "Python 3",
      "language": "python",
      "name": "python3"
    },
    "language_info": {
      "codemirror_mode": {
        "name": "ipython",
        "version": 3
      },
      "file_extension": ".py",
      "mimetype": "text/x-python",
      "name": "python",
      "nbconvert_exporter": "python",
      "pygments_lexer": "ipython3",
      "version": "3.6.5"
    },
    "colab": {
      "name": "Day_078_HW_trainingSOP.ipynb",
      "provenance": [],
      "collapsed_sections": []
    },
    "accelerator": "GPU"
  },
  "cells": [
    {
      "cell_type": "markdown",
      "metadata": {
        "id": "2TshZzz_FAgN"
      },
      "source": [
        "## Work\n",
        "1. 請嘗試將 preproc_x 替換成以每筆資料的 min/max 進行標準化至 -1 ~ 1 間，再進行訓練\n",
        "> →將原資料 進行(x-127.5)/127.5的運算<br> \n",
        "> (見資料前處裡section, [3])\n",
        "2. 請嘗試將 mlp 疊更深 (e.g 5~10 層)，進行訓練後觀察 learning curve 的走勢\n",
        "> →原3層在Epoch約10的時候val_acc開始穩定;<br>\n",
        ">  而mlp在10層時, Epoch不到10就val_acc開始穩定, 且val_acc也較高\n",
        "3. (optional) 請改用 GPU 進行訓練 (如果你有 GPU 的話)，比較使用 CPU 與 GPU 的訓練速度\n",
        "> →未使用GPU加速, 每個Epoch訓練時間約為9-10秒;<br> \n",
        "> 使用GPU加速則大幅縮減每個Epoch練時間至1-2秒"
      ]
    },
    {
      "cell_type": "code",
      "metadata": {
        "colab": {
          "base_uri": "https://localhost:8080/",
          "height": 35
        },
        "id": "8HEwuTDxFAgW",
        "outputId": "c35113c2-5965-475b-81db-980604530e15"
      },
      "source": [
        "## \n",
        "\"\"\"\n",
        "Your code here (optional)\n",
        "確認硬體資源\n",
        "\"\"\"\n"
      ],
      "execution_count": 1,
      "outputs": [
        {
          "output_type": "execute_result",
          "data": {
            "application/vnd.google.colaboratory.intrinsic+json": {
              "type": "string"
            },
            "text/plain": [
              "'\\nYour code here (optional)\\n確認硬體資源\\n'"
            ]
          },
          "metadata": {
            "tags": []
          },
          "execution_count": 1
        }
      ]
    },
    {
      "cell_type": "code",
      "metadata": {
        "id": "RYoXUUPkFAgY"
      },
      "source": [
        "import keras\r\n",
        "train, test = keras.datasets.cifar10.load_data()"
      ],
      "execution_count": 2,
      "outputs": []
    },
    {
      "cell_type": "code",
      "metadata": {
        "id": "XflW6CZRFAgZ"
      },
      "source": [
        "## 資料前處理\n",
        "\"\"\"\n",
        "Your code here\n",
        "\"\"\"\n",
        "def preproc_x(x, flatten=True):\n",
        "  x = (x-127.5)/127.5\n",
        "  if flatten:\n",
        "    x = x.reshape(len(x),-1)\n",
        "  return x\n",
        "\n",
        "def preproc_y(y, class_no=10):\n",
        "  if y.shape[-1] == 1:\n",
        "    y = keras.utils.to_categorical(y, class_no)\n",
        "  return y"
      ],
      "execution_count": 3,
      "outputs": []
    },
    {
      "cell_type": "code",
      "metadata": {
        "id": "feoIXsT-mqmG"
      },
      "source": [
        "train_x, train_y = train\r\n",
        "test_x, test_y = test\r\n",
        "\r\n",
        "train_x = preproc_x(train_x)\r\n",
        "test_x = preproc_x(test_x)\r\n",
        "\r\n",
        "train_y = preproc_y(train_y)\r\n",
        "test_y = preproc_y(test_y)"
      ],
      "execution_count": 4,
      "outputs": []
    },
    {
      "cell_type": "code",
      "metadata": {
        "id": "xFMa8lxRFAga"
      },
      "source": [
        "\"\"\"Code Here\n",
        "建立你的神經網路\n",
        "\"\"\"\n",
        "def build_mlp_3(input_shape, output_units=10, num_neurons=[512, 256, 128]):\n",
        "  input_layer = keras.layers.Input(input_shape)\n",
        "  for i, num in enumerate(num_neurons):\n",
        "    if i == 0:\n",
        "      x = keras.layers.Dense(units=num, activation=\"relu\", name=\"hidden_layer_\"+str(i+1))(input_layer)\n",
        "    else:\n",
        "      x = keras.layers.Dense(units=num, activation=\"relu\", name=\"hidden_layer_\"+str(i+1))(x)\n",
        "  \n",
        "  out = keras.layers.Dense(units=output_units, activation=\"softmax\", name=\"output\")(x)\n",
        "  \n",
        "  model = keras.models.Model(inputs=[input_layer], outputs=[out])\n",
        "\n",
        "  return model\n",
        "\n",
        "\n",
        "def build_mlp_10(input_shape, output_units=10, num_neurons=[1024, 1024, 1024, 512, 512, 512, 256, 256, 128, 128]):\n",
        "  input_layer = keras.layers.Input(input_shape)\n",
        "  for i, num in enumerate(num_neurons):\n",
        "    if i == 0:\n",
        "      x = keras.layers.Dense(units=num, activation=\"relu\", name=\"hidden_layer_\"+str(i+1))(input_layer)\n",
        "    else:\n",
        "      x = keras.layers.Dense(units=num, activation=\"relu\", name=\"hidden_layer_\"+str(i+1))(x)\n",
        "  \n",
        "  out = keras.layers.Dense(units=output_units, activation=\"softmax\", name=\"output\")(x)\n",
        "  \n",
        "  model = keras.models.Model(inputs=[input_layer], outputs=[out])\n",
        "\n",
        "  return model\n"
      ],
      "execution_count": 5,
      "outputs": []
    },
    {
      "cell_type": "code",
      "metadata": {
        "colab": {
          "base_uri": "https://localhost:8080/"
        },
        "id": "t7yBn87Dqszx",
        "outputId": "5a52d1b6-75fd-4c73-821c-4ff2e6a0a6df"
      },
      "source": [
        "train_x.shape[1:]"
      ],
      "execution_count": 6,
      "outputs": [
        {
          "output_type": "execute_result",
          "data": {
            "text/plain": [
              "(3072,)"
            ]
          },
          "metadata": {
            "tags": []
          },
          "execution_count": 6
        }
      ]
    },
    {
      "cell_type": "code",
      "metadata": {
        "colab": {
          "base_uri": "https://localhost:8080/"
        },
        "id": "Ied0ow-bqW1b",
        "outputId": "940ef5b8-4977-4e62-d8ef-a5c631b2366e"
      },
      "source": [
        "model = build_mlp_3(input_shape=train_x.shape[1:])\r\n",
        "model.summary()"
      ],
      "execution_count": 7,
      "outputs": [
        {
          "output_type": "stream",
          "text": [
            "Model: \"model\"\n",
            "_________________________________________________________________\n",
            "Layer (type)                 Output Shape              Param #   \n",
            "=================================================================\n",
            "input_1 (InputLayer)         [(None, 3072)]            0         \n",
            "_________________________________________________________________\n",
            "hidden_layer_1 (Dense)       (None, 512)               1573376   \n",
            "_________________________________________________________________\n",
            "hidden_layer_2 (Dense)       (None, 256)               131328    \n",
            "_________________________________________________________________\n",
            "hidden_layer_3 (Dense)       (None, 128)               32896     \n",
            "_________________________________________________________________\n",
            "output (Dense)               (None, 10)                1290      \n",
            "=================================================================\n",
            "Total params: 1,738,890\n",
            "Trainable params: 1,738,890\n",
            "Non-trainable params: 0\n",
            "_________________________________________________________________\n"
          ],
          "name": "stdout"
        }
      ]
    },
    {
      "cell_type": "code",
      "metadata": {
        "colab": {
          "base_uri": "https://localhost:8080/"
        },
        "id": "0Oh_1A1tFAga",
        "outputId": "d0b6d57a-cabc-402e-b6e8-5fbe0f5bf797"
      },
      "source": [
        "# 超參數設定\n",
        "LEARNING_RATE = 0.001\n",
        "EPOCHS = 100\n",
        "BATCH_SIZE = 256\n",
        "\n",
        "\n",
        "optimizer = keras.optimizers.Adam(lr=LEARNING_RATE)\n",
        "model.compile(loss=\"categorical_crossentropy\", metrics=[\"accuracy\"], optimizer=optimizer)\n",
        "\n",
        "\n",
        "model.fit(train_x, train_y, \n",
        "          epochs=EPOCHS, \n",
        "          batch_size=BATCH_SIZE, \n",
        "          validation_data=(test_x, test_y), \n",
        "          shuffle=True)"
      ],
      "execution_count": 8,
      "outputs": [
        {
          "output_type": "stream",
          "text": [
            "Epoch 1/100\n",
            "196/196 [==============================] - 2s 7ms/step - loss: 1.8398 - accuracy: 0.3460 - val_loss: 1.5376 - val_accuracy: 0.4511\n",
            "Epoch 2/100\n",
            "196/196 [==============================] - 1s 5ms/step - loss: 1.4616 - accuracy: 0.4824 - val_loss: 1.4930 - val_accuracy: 0.4746\n",
            "Epoch 3/100\n",
            "196/196 [==============================] - 1s 5ms/step - loss: 1.3365 - accuracy: 0.5281 - val_loss: 1.4042 - val_accuracy: 0.5044\n",
            "Epoch 4/100\n",
            "196/196 [==============================] - 1s 5ms/step - loss: 1.2354 - accuracy: 0.5650 - val_loss: 1.3970 - val_accuracy: 0.5090\n",
            "Epoch 5/100\n",
            "196/196 [==============================] - 1s 5ms/step - loss: 1.1408 - accuracy: 0.6014 - val_loss: 1.3720 - val_accuracy: 0.5169\n",
            "Epoch 6/100\n",
            "196/196 [==============================] - 1s 5ms/step - loss: 1.0518 - accuracy: 0.6327 - val_loss: 1.3752 - val_accuracy: 0.5290\n",
            "Epoch 7/100\n",
            "196/196 [==============================] - 1s 5ms/step - loss: 0.9708 - accuracy: 0.6606 - val_loss: 1.3910 - val_accuracy: 0.5332\n",
            "Epoch 8/100\n",
            "196/196 [==============================] - 1s 5ms/step - loss: 0.8919 - accuracy: 0.6935 - val_loss: 1.4185 - val_accuracy: 0.5372\n",
            "Epoch 9/100\n",
            "196/196 [==============================] - 1s 5ms/step - loss: 0.7958 - accuracy: 0.7209 - val_loss: 1.4943 - val_accuracy: 0.5152\n",
            "Epoch 10/100\n",
            "196/196 [==============================] - 1s 5ms/step - loss: 0.7482 - accuracy: 0.7375 - val_loss: 1.5471 - val_accuracy: 0.5331\n",
            "Epoch 11/100\n",
            "196/196 [==============================] - 1s 5ms/step - loss: 0.6674 - accuracy: 0.7699 - val_loss: 1.5877 - val_accuracy: 0.5288\n",
            "Epoch 12/100\n",
            "196/196 [==============================] - 1s 5ms/step - loss: 0.6017 - accuracy: 0.7915 - val_loss: 1.6531 - val_accuracy: 0.5282\n",
            "Epoch 13/100\n",
            "196/196 [==============================] - 1s 5ms/step - loss: 0.5375 - accuracy: 0.8146 - val_loss: 1.7186 - val_accuracy: 0.5269\n",
            "Epoch 14/100\n",
            "196/196 [==============================] - 1s 5ms/step - loss: 0.4801 - accuracy: 0.8340 - val_loss: 1.8290 - val_accuracy: 0.5335\n",
            "Epoch 15/100\n",
            "196/196 [==============================] - 1s 5ms/step - loss: 0.4345 - accuracy: 0.8492 - val_loss: 1.9776 - val_accuracy: 0.5221\n",
            "Epoch 16/100\n",
            "196/196 [==============================] - 1s 5ms/step - loss: 0.3977 - accuracy: 0.8627 - val_loss: 2.0111 - val_accuracy: 0.5348\n",
            "Epoch 17/100\n",
            "196/196 [==============================] - 1s 5ms/step - loss: 0.3515 - accuracy: 0.8787 - val_loss: 2.1497 - val_accuracy: 0.5284\n",
            "Epoch 18/100\n",
            "196/196 [==============================] - 1s 5ms/step - loss: 0.3211 - accuracy: 0.8899 - val_loss: 2.2235 - val_accuracy: 0.5222\n",
            "Epoch 19/100\n",
            "196/196 [==============================] - 1s 5ms/step - loss: 0.3001 - accuracy: 0.8966 - val_loss: 2.3363 - val_accuracy: 0.5255\n",
            "Epoch 20/100\n",
            "196/196 [==============================] - 1s 5ms/step - loss: 0.2559 - accuracy: 0.9119 - val_loss: 2.4139 - val_accuracy: 0.5310\n",
            "Epoch 21/100\n",
            "196/196 [==============================] - 1s 5ms/step - loss: 0.2561 - accuracy: 0.9138 - val_loss: 2.5235 - val_accuracy: 0.5270\n",
            "Epoch 22/100\n",
            "196/196 [==============================] - 1s 5ms/step - loss: 0.2344 - accuracy: 0.9197 - val_loss: 2.6242 - val_accuracy: 0.5227\n",
            "Epoch 23/100\n",
            "196/196 [==============================] - 1s 5ms/step - loss: 0.2161 - accuracy: 0.9274 - val_loss: 2.6955 - val_accuracy: 0.5275\n",
            "Epoch 24/100\n",
            "196/196 [==============================] - 1s 5ms/step - loss: 0.2153 - accuracy: 0.9263 - val_loss: 2.8428 - val_accuracy: 0.5196\n",
            "Epoch 25/100\n",
            "196/196 [==============================] - 1s 5ms/step - loss: 0.1875 - accuracy: 0.9356 - val_loss: 2.9490 - val_accuracy: 0.5251\n",
            "Epoch 26/100\n",
            "196/196 [==============================] - 1s 5ms/step - loss: 0.1903 - accuracy: 0.9349 - val_loss: 2.9713 - val_accuracy: 0.5226\n",
            "Epoch 27/100\n",
            "196/196 [==============================] - 1s 5ms/step - loss: 0.2123 - accuracy: 0.9267 - val_loss: 3.0153 - val_accuracy: 0.5248\n",
            "Epoch 28/100\n",
            "196/196 [==============================] - 1s 5ms/step - loss: 0.1644 - accuracy: 0.9434 - val_loss: 3.1569 - val_accuracy: 0.5172\n",
            "Epoch 29/100\n",
            "196/196 [==============================] - 1s 5ms/step - loss: 0.1489 - accuracy: 0.9498 - val_loss: 3.2015 - val_accuracy: 0.5232\n",
            "Epoch 30/100\n",
            "196/196 [==============================] - 1s 5ms/step - loss: 0.1462 - accuracy: 0.9516 - val_loss: 3.2488 - val_accuracy: 0.5223\n",
            "Epoch 31/100\n",
            "196/196 [==============================] - 1s 5ms/step - loss: 0.1498 - accuracy: 0.9487 - val_loss: 3.2991 - val_accuracy: 0.5185\n",
            "Epoch 32/100\n",
            "196/196 [==============================] - 1s 5ms/step - loss: 0.1595 - accuracy: 0.9463 - val_loss: 3.4003 - val_accuracy: 0.5279\n",
            "Epoch 33/100\n",
            "196/196 [==============================] - 1s 5ms/step - loss: 0.1555 - accuracy: 0.9475 - val_loss: 3.4313 - val_accuracy: 0.5240\n",
            "Epoch 34/100\n",
            "196/196 [==============================] - 1s 5ms/step - loss: 0.1490 - accuracy: 0.9507 - val_loss: 3.5462 - val_accuracy: 0.5231\n",
            "Epoch 35/100\n",
            "196/196 [==============================] - 1s 5ms/step - loss: 0.1651 - accuracy: 0.9457 - val_loss: 3.5542 - val_accuracy: 0.5151\n",
            "Epoch 36/100\n",
            "196/196 [==============================] - 1s 5ms/step - loss: 0.1403 - accuracy: 0.9532 - val_loss: 3.6000 - val_accuracy: 0.5202\n",
            "Epoch 37/100\n",
            "196/196 [==============================] - 1s 5ms/step - loss: 0.1159 - accuracy: 0.9606 - val_loss: 3.7282 - val_accuracy: 0.5190\n",
            "Epoch 38/100\n",
            "196/196 [==============================] - 1s 5ms/step - loss: 0.1632 - accuracy: 0.9459 - val_loss: 3.6994 - val_accuracy: 0.5241\n",
            "Epoch 39/100\n",
            "196/196 [==============================] - 1s 5ms/step - loss: 0.1445 - accuracy: 0.9524 - val_loss: 3.7212 - val_accuracy: 0.5201\n",
            "Epoch 40/100\n",
            "196/196 [==============================] - 1s 5ms/step - loss: 0.1159 - accuracy: 0.9617 - val_loss: 3.8093 - val_accuracy: 0.5206\n",
            "Epoch 41/100\n",
            "196/196 [==============================] - 1s 5ms/step - loss: 0.1111 - accuracy: 0.9637 - val_loss: 4.0782 - val_accuracy: 0.5244\n",
            "Epoch 42/100\n",
            "196/196 [==============================] - 1s 5ms/step - loss: 0.1181 - accuracy: 0.9619 - val_loss: 4.0300 - val_accuracy: 0.5253\n",
            "Epoch 43/100\n",
            "196/196 [==============================] - 1s 5ms/step - loss: 0.1277 - accuracy: 0.9572 - val_loss: 4.0688 - val_accuracy: 0.5274\n",
            "Epoch 44/100\n",
            "196/196 [==============================] - 1s 5ms/step - loss: 0.1104 - accuracy: 0.9621 - val_loss: 4.1463 - val_accuracy: 0.5240\n",
            "Epoch 45/100\n",
            "196/196 [==============================] - 1s 5ms/step - loss: 0.1120 - accuracy: 0.9636 - val_loss: 4.1502 - val_accuracy: 0.5184\n",
            "Epoch 46/100\n",
            "196/196 [==============================] - 1s 5ms/step - loss: 0.1096 - accuracy: 0.9626 - val_loss: 4.1055 - val_accuracy: 0.5200\n",
            "Epoch 47/100\n",
            "196/196 [==============================] - 1s 5ms/step - loss: 0.1125 - accuracy: 0.9625 - val_loss: 4.0464 - val_accuracy: 0.5209\n",
            "Epoch 48/100\n",
            "196/196 [==============================] - 1s 5ms/step - loss: 0.1289 - accuracy: 0.9580 - val_loss: 4.2537 - val_accuracy: 0.5183\n",
            "Epoch 49/100\n",
            "196/196 [==============================] - 1s 5ms/step - loss: 0.0853 - accuracy: 0.9721 - val_loss: 4.2734 - val_accuracy: 0.5314\n",
            "Epoch 50/100\n",
            "196/196 [==============================] - 1s 5ms/step - loss: 0.0661 - accuracy: 0.9780 - val_loss: 4.3824 - val_accuracy: 0.5256\n",
            "Epoch 51/100\n",
            "196/196 [==============================] - 1s 5ms/step - loss: 0.0845 - accuracy: 0.9718 - val_loss: 4.4963 - val_accuracy: 0.5276\n",
            "Epoch 52/100\n",
            "196/196 [==============================] - 1s 5ms/step - loss: 0.1150 - accuracy: 0.9616 - val_loss: 4.3963 - val_accuracy: 0.5177\n",
            "Epoch 53/100\n",
            "196/196 [==============================] - 1s 5ms/step - loss: 0.1316 - accuracy: 0.9556 - val_loss: 4.3228 - val_accuracy: 0.5163\n",
            "Epoch 54/100\n",
            "196/196 [==============================] - 1s 5ms/step - loss: 0.1321 - accuracy: 0.9570 - val_loss: 4.3637 - val_accuracy: 0.5243\n",
            "Epoch 55/100\n",
            "196/196 [==============================] - 1s 5ms/step - loss: 0.0814 - accuracy: 0.9738 - val_loss: 4.3676 - val_accuracy: 0.5256\n",
            "Epoch 56/100\n",
            "196/196 [==============================] - 1s 5ms/step - loss: 0.0721 - accuracy: 0.9768 - val_loss: 4.5729 - val_accuracy: 0.5189\n",
            "Epoch 57/100\n",
            "196/196 [==============================] - 1s 5ms/step - loss: 0.0999 - accuracy: 0.9669 - val_loss: 4.5655 - val_accuracy: 0.5168\n",
            "Epoch 58/100\n",
            "196/196 [==============================] - 1s 5ms/step - loss: 0.1292 - accuracy: 0.9598 - val_loss: 4.5110 - val_accuracy: 0.5215\n",
            "Epoch 59/100\n",
            "196/196 [==============================] - 1s 5ms/step - loss: 0.1020 - accuracy: 0.9665 - val_loss: 4.4933 - val_accuracy: 0.5266\n",
            "Epoch 60/100\n",
            "196/196 [==============================] - 1s 5ms/step - loss: 0.0644 - accuracy: 0.9784 - val_loss: 4.6427 - val_accuracy: 0.5179\n",
            "Epoch 61/100\n",
            "196/196 [==============================] - 1s 5ms/step - loss: 0.0679 - accuracy: 0.9780 - val_loss: 4.7300 - val_accuracy: 0.5245\n",
            "Epoch 62/100\n",
            "196/196 [==============================] - 1s 5ms/step - loss: 0.1108 - accuracy: 0.9654 - val_loss: 4.6926 - val_accuracy: 0.5149\n",
            "Epoch 63/100\n",
            "196/196 [==============================] - 1s 5ms/step - loss: 0.0976 - accuracy: 0.9696 - val_loss: 4.8563 - val_accuracy: 0.5244\n",
            "Epoch 64/100\n",
            "196/196 [==============================] - 1s 5ms/step - loss: 0.0902 - accuracy: 0.9721 - val_loss: 4.6817 - val_accuracy: 0.5199\n",
            "Epoch 65/100\n",
            "196/196 [==============================] - 1s 5ms/step - loss: 0.1099 - accuracy: 0.9661 - val_loss: 4.7186 - val_accuracy: 0.5193\n",
            "Epoch 66/100\n",
            "196/196 [==============================] - 1s 5ms/step - loss: 0.0765 - accuracy: 0.9748 - val_loss: 4.8542 - val_accuracy: 0.5306\n",
            "Epoch 67/100\n",
            "196/196 [==============================] - 1s 6ms/step - loss: 0.0839 - accuracy: 0.9726 - val_loss: 4.9214 - val_accuracy: 0.5229\n",
            "Epoch 68/100\n",
            "196/196 [==============================] - 1s 5ms/step - loss: 0.0810 - accuracy: 0.9740 - val_loss: 4.8675 - val_accuracy: 0.5274\n",
            "Epoch 69/100\n",
            "196/196 [==============================] - 1s 5ms/step - loss: 0.0617 - accuracy: 0.9801 - val_loss: 4.9125 - val_accuracy: 0.5249\n",
            "Epoch 70/100\n",
            "196/196 [==============================] - 1s 5ms/step - loss: 0.0763 - accuracy: 0.9756 - val_loss: 4.9109 - val_accuracy: 0.5132\n",
            "Epoch 71/100\n",
            "196/196 [==============================] - 1s 5ms/step - loss: 0.0790 - accuracy: 0.9751 - val_loss: 5.0492 - val_accuracy: 0.5240\n",
            "Epoch 72/100\n",
            "196/196 [==============================] - 1s 5ms/step - loss: 0.1088 - accuracy: 0.9663 - val_loss: 4.9399 - val_accuracy: 0.5221\n",
            "Epoch 73/100\n",
            "196/196 [==============================] - 1s 5ms/step - loss: 0.1163 - accuracy: 0.9642 - val_loss: 5.0195 - val_accuracy: 0.5247\n",
            "Epoch 74/100\n",
            "196/196 [==============================] - 1s 5ms/step - loss: 0.0956 - accuracy: 0.9717 - val_loss: 4.9933 - val_accuracy: 0.5264\n",
            "Epoch 75/100\n",
            "196/196 [==============================] - 1s 5ms/step - loss: 0.0702 - accuracy: 0.9792 - val_loss: 5.0221 - val_accuracy: 0.5252\n",
            "Epoch 76/100\n",
            "196/196 [==============================] - 1s 5ms/step - loss: 0.0517 - accuracy: 0.9834 - val_loss: 5.2182 - val_accuracy: 0.5210\n",
            "Epoch 77/100\n",
            "196/196 [==============================] - 1s 5ms/step - loss: 0.0618 - accuracy: 0.9800 - val_loss: 5.2549 - val_accuracy: 0.5203\n",
            "Epoch 78/100\n",
            "196/196 [==============================] - 1s 5ms/step - loss: 0.0887 - accuracy: 0.9732 - val_loss: 5.1035 - val_accuracy: 0.5206\n",
            "Epoch 79/100\n",
            "196/196 [==============================] - 1s 5ms/step - loss: 0.0792 - accuracy: 0.9759 - val_loss: 5.1614 - val_accuracy: 0.5142\n",
            "Epoch 80/100\n",
            "196/196 [==============================] - 1s 5ms/step - loss: 0.0875 - accuracy: 0.9733 - val_loss: 5.1050 - val_accuracy: 0.5255\n",
            "Epoch 81/100\n",
            "196/196 [==============================] - 1s 5ms/step - loss: 0.0705 - accuracy: 0.9780 - val_loss: 5.1777 - val_accuracy: 0.5213\n",
            "Epoch 82/100\n",
            "196/196 [==============================] - 1s 5ms/step - loss: 0.0721 - accuracy: 0.9772 - val_loss: 5.2758 - val_accuracy: 0.5218\n",
            "Epoch 83/100\n",
            "196/196 [==============================] - 1s 5ms/step - loss: 0.0815 - accuracy: 0.9747 - val_loss: 5.1459 - val_accuracy: 0.5219\n",
            "Epoch 84/100\n",
            "196/196 [==============================] - 1s 5ms/step - loss: 0.0703 - accuracy: 0.9774 - val_loss: 5.2540 - val_accuracy: 0.5207\n",
            "Epoch 85/100\n",
            "196/196 [==============================] - 1s 5ms/step - loss: 0.0776 - accuracy: 0.9755 - val_loss: 5.2305 - val_accuracy: 0.5208\n",
            "Epoch 86/100\n",
            "196/196 [==============================] - 1s 5ms/step - loss: 0.0836 - accuracy: 0.9739 - val_loss: 5.2051 - val_accuracy: 0.5171\n",
            "Epoch 87/100\n",
            "196/196 [==============================] - 1s 5ms/step - loss: 0.1007 - accuracy: 0.9692 - val_loss: 5.2500 - val_accuracy: 0.5260\n",
            "Epoch 88/100\n",
            "196/196 [==============================] - 1s 5ms/step - loss: 0.0750 - accuracy: 0.9777 - val_loss: 5.3421 - val_accuracy: 0.5223\n",
            "Epoch 89/100\n",
            "196/196 [==============================] - 1s 5ms/step - loss: 0.0626 - accuracy: 0.9810 - val_loss: 5.1562 - val_accuracy: 0.5195\n",
            "Epoch 90/100\n",
            "196/196 [==============================] - 1s 5ms/step - loss: 0.0433 - accuracy: 0.9868 - val_loss: 5.2505 - val_accuracy: 0.5252\n",
            "Epoch 91/100\n",
            "196/196 [==============================] - 1s 5ms/step - loss: 0.0588 - accuracy: 0.9812 - val_loss: 5.5667 - val_accuracy: 0.5244\n",
            "Epoch 92/100\n",
            "196/196 [==============================] - 1s 5ms/step - loss: 0.0807 - accuracy: 0.9754 - val_loss: 5.5631 - val_accuracy: 0.5209\n",
            "Epoch 93/100\n",
            "196/196 [==============================] - 1s 5ms/step - loss: 0.1077 - accuracy: 0.9687 - val_loss: 5.4692 - val_accuracy: 0.5212\n",
            "Epoch 94/100\n",
            "196/196 [==============================] - 1s 5ms/step - loss: 0.0617 - accuracy: 0.9799 - val_loss: 5.3913 - val_accuracy: 0.5174\n",
            "Epoch 95/100\n",
            "196/196 [==============================] - 1s 5ms/step - loss: 0.0555 - accuracy: 0.9820 - val_loss: 5.4558 - val_accuracy: 0.5271\n",
            "Epoch 96/100\n",
            "196/196 [==============================] - 1s 5ms/step - loss: 0.0438 - accuracy: 0.9866 - val_loss: 5.5499 - val_accuracy: 0.5220\n",
            "Epoch 97/100\n",
            "196/196 [==============================] - 1s 5ms/step - loss: 0.0548 - accuracy: 0.9824 - val_loss: 5.6291 - val_accuracy: 0.5217\n",
            "Epoch 98/100\n",
            "196/196 [==============================] - 1s 5ms/step - loss: 0.0658 - accuracy: 0.9793 - val_loss: 5.7003 - val_accuracy: 0.5283\n",
            "Epoch 99/100\n",
            "196/196 [==============================] - 1s 5ms/step - loss: 0.0862 - accuracy: 0.9747 - val_loss: 5.5746 - val_accuracy: 0.5160\n",
            "Epoch 100/100\n",
            "196/196 [==============================] - 1s 5ms/step - loss: 0.0667 - accuracy: 0.9799 - val_loss: 5.5795 - val_accuracy: 0.5222\n"
          ],
          "name": "stdout"
        },
        {
          "output_type": "execute_result",
          "data": {
            "text/plain": [
              "<tensorflow.python.keras.callbacks.History at 0x7f39a6b8a390>"
            ]
          },
          "metadata": {
            "tags": []
          },
          "execution_count": 8
        }
      ]
    },
    {
      "cell_type": "code",
      "metadata": {
        "colab": {
          "base_uri": "https://localhost:8080/",
          "height": 545
        },
        "id": "Kvh7Y7yTFAgf",
        "outputId": "a4dea107-f377-4841-daaa-f917ec2c5b7a"
      },
      "source": [
        "import matplotlib.pyplot as plt\n",
        "\n",
        "\n",
        "train_loss = model.history.history[\"loss\"]\n",
        "valid_loss = model.history.history[\"val_loss\"]\n",
        "\n",
        "train_acc = model.history.history[\"accuracy\"]\n",
        "valid_acc = model.history.history[\"val_accuracy\"]\n",
        "\n",
        "plt.plot(range(len(train_loss)), train_loss, label=\"train loss\")\n",
        "plt.plot(range(len(valid_loss)), valid_loss, label=\"valid loss\")\n",
        "plt.legend()\n",
        "plt.title(\"Loss\")\n",
        "plt.show()\n",
        "\n",
        "plt.plot(range(len(train_acc)), train_acc, label=\"train accuracy\")\n",
        "plt.plot(range(len(valid_acc)), valid_acc, label=\"valid accuracy\")\n",
        "plt.legend()\n",
        "plt.title(\"Accuracy\")\n",
        "plt.show()"
      ],
      "execution_count": 9,
      "outputs": [
        {
          "output_type": "display_data",
          "data": {
            "image/png": "[encoded data removed]",
            "text/plain": [
              "<Figure size 432x288 with 1 Axes>"
            ]
          },
          "metadata": {
            "tags": [],
            "needs_background": "light"
          }
        },
        {
          "output_type": "display_data",
          "data": {
            "image/png": "[encoded data removed]",
            "text/plain": [
              "<Figure size 432x288 with 1 Axes>"
            ]
          },
          "metadata": {
            "tags": [],
            "needs_background": "light"
          }
        }
      ]
    },
    {
      "cell_type": "code",
      "metadata": {
        "colab": {
          "base_uri": "https://localhost:8080/"
        },
        "id": "ecDWkSaaAQLY",
        "outputId": "cbd15103-6c3b-4d1e-d91a-813509ddc65e"
      },
      "source": [
        "model2 = build_mlp_10(input_shape=train_x.shape[1:])\r\n",
        "model2.summary()"
      ],
      "execution_count": 10,
      "outputs": [
        {
          "output_type": "stream",
          "text": [
            "Model: \"model_1\"\n",
            "_________________________________________________________________\n",
            "Layer (type)                 Output Shape              Param #   \n",
            "=================================================================\n",
            "input_2 (InputLayer)         [(None, 3072)]            0         \n",
            "_________________________________________________________________\n",
            "hidden_layer_1 (Dense)       (None, 1024)              3146752   \n",
            "_________________________________________________________________\n",
            "hidden_layer_2 (Dense)       (None, 1024)              1049600   \n",
            "_________________________________________________________________\n",
            "hidden_layer_3 (Dense)       (None, 1024)              1049600   \n",
            "_________________________________________________________________\n",
            "hidden_layer_4 (Dense)       (None, 512)               524800    \n",
            "_________________________________________________________________\n",
            "hidden_layer_5 (Dense)       (None, 512)               262656    \n",
            "_________________________________________________________________\n",
            "hidden_layer_6 (Dense)       (None, 512)               262656    \n",
            "_________________________________________________________________\n",
            "hidden_layer_7 (Dense)       (None, 256)               131328    \n",
            "_________________________________________________________________\n",
            "hidden_layer_8 (Dense)       (None, 256)               65792     \n",
            "_________________________________________________________________\n",
            "hidden_layer_9 (Dense)       (None, 128)               32896     \n",
            "_________________________________________________________________\n",
            "hidden_layer_10 (Dense)      (None, 128)               16512     \n",
            "_________________________________________________________________\n",
            "output (Dense)               (None, 10)                1290      \n",
            "=================================================================\n",
            "Total params: 6,543,882\n",
            "Trainable params: 6,543,882\n",
            "Non-trainable params: 0\n",
            "_________________________________________________________________\n"
          ],
          "name": "stdout"
        }
      ]
    },
    {
      "cell_type": "code",
      "metadata": {
        "colab": {
          "base_uri": "https://localhost:8080/"
        },
        "id": "K-pxSOBxAQUi",
        "outputId": "b1440ff7-bffe-47f0-cf83-2ce029e3184a"
      },
      "source": [
        "## 超參數設定\r\n",
        "LEARNING_RATE = 0.001\r\n",
        "EPOCHS = 100\r\n",
        "BATCH_SIZE = 256\r\n",
        "\r\n",
        "\r\n",
        "optimizer = keras.optimizers.Adam(lr=LEARNING_RATE)\r\n",
        "model2.compile(loss=\"categorical_crossentropy\", metrics=[\"accuracy\"], optimizer=optimizer)\r\n",
        "\r\n",
        "\r\n",
        "model2.fit(train_x, train_y, \r\n",
        "          epochs=EPOCHS, \r\n",
        "          batch_size=BATCH_SIZE, \r\n",
        "          validation_data=(test_x, test_y), \r\n",
        "          shuffle=True)"
      ],
      "execution_count": 11,
      "outputs": [
        {
          "output_type": "stream",
          "text": [
            "Epoch 1/100\n",
            "196/196 [==============================] - 2s 9ms/step - loss: 1.9328 - accuracy: 0.2922 - val_loss: 1.6094 - val_accuracy: 0.4246\n",
            "Epoch 2/100\n",
            "196/196 [==============================] - 1s 7ms/step - loss: 1.5689 - accuracy: 0.4419 - val_loss: 1.4823 - val_accuracy: 0.4737\n",
            "Epoch 3/100\n",
            "196/196 [==============================] - 1s 7ms/step - loss: 1.4175 - accuracy: 0.4987 - val_loss: 1.4318 - val_accuracy: 0.5021\n",
            "Epoch 4/100\n",
            "196/196 [==============================] - 1s 7ms/step - loss: 1.3072 - accuracy: 0.5397 - val_loss: 1.4138 - val_accuracy: 0.5138\n",
            "Epoch 5/100\n",
            "196/196 [==============================] - 1s 7ms/step - loss: 1.2043 - accuracy: 0.5801 - val_loss: 1.3845 - val_accuracy: 0.5180\n",
            "Epoch 6/100\n",
            "196/196 [==============================] - 1s 7ms/step - loss: 1.1024 - accuracy: 0.6118 - val_loss: 1.3759 - val_accuracy: 0.5333\n",
            "Epoch 7/100\n",
            "196/196 [==============================] - 1s 7ms/step - loss: 1.0310 - accuracy: 0.6370 - val_loss: 1.3822 - val_accuracy: 0.5377\n",
            "Epoch 8/100\n",
            "196/196 [==============================] - 1s 7ms/step - loss: 0.9364 - accuracy: 0.6726 - val_loss: 1.4339 - val_accuracy: 0.5286\n",
            "Epoch 9/100\n",
            "196/196 [==============================] - 1s 7ms/step - loss: 0.8541 - accuracy: 0.6973 - val_loss: 1.4043 - val_accuracy: 0.5412\n",
            "Epoch 10/100\n",
            "196/196 [==============================] - 1s 7ms/step - loss: 0.7632 - accuracy: 0.7318 - val_loss: 1.4515 - val_accuracy: 0.5392\n",
            "Epoch 11/100\n",
            "196/196 [==============================] - 1s 7ms/step - loss: 0.6903 - accuracy: 0.7609 - val_loss: 1.5359 - val_accuracy: 0.5445\n",
            "Epoch 12/100\n",
            "196/196 [==============================] - 1s 7ms/step - loss: 0.6084 - accuracy: 0.7859 - val_loss: 1.6011 - val_accuracy: 0.5456\n",
            "Epoch 13/100\n",
            "196/196 [==============================] - 1s 7ms/step - loss: 0.5581 - accuracy: 0.8075 - val_loss: 1.7173 - val_accuracy: 0.5365\n",
            "Epoch 14/100\n",
            "196/196 [==============================] - 1s 7ms/step - loss: 0.4880 - accuracy: 0.8312 - val_loss: 1.7868 - val_accuracy: 0.5480\n",
            "Epoch 15/100\n",
            "196/196 [==============================] - 1s 7ms/step - loss: 0.4155 - accuracy: 0.8592 - val_loss: 1.8060 - val_accuracy: 0.5426\n",
            "Epoch 16/100\n",
            "196/196 [==============================] - 1s 7ms/step - loss: 0.3762 - accuracy: 0.8718 - val_loss: 2.0194 - val_accuracy: 0.5475\n",
            "Epoch 17/100\n",
            "196/196 [==============================] - 1s 7ms/step - loss: 0.3487 - accuracy: 0.8819 - val_loss: 2.1082 - val_accuracy: 0.5481\n",
            "Epoch 18/100\n",
            "196/196 [==============================] - 1s 7ms/step - loss: 0.2872 - accuracy: 0.9037 - val_loss: 2.1548 - val_accuracy: 0.5336\n",
            "Epoch 19/100\n",
            "196/196 [==============================] - 1s 7ms/step - loss: 0.2796 - accuracy: 0.9062 - val_loss: 2.0770 - val_accuracy: 0.5496\n",
            "Epoch 20/100\n",
            "196/196 [==============================] - 1s 7ms/step - loss: 0.2309 - accuracy: 0.9249 - val_loss: 2.3781 - val_accuracy: 0.5450\n",
            "Epoch 21/100\n",
            "196/196 [==============================] - 1s 7ms/step - loss: 0.2203 - accuracy: 0.9273 - val_loss: 2.4537 - val_accuracy: 0.5524\n",
            "Epoch 22/100\n",
            "196/196 [==============================] - 1s 7ms/step - loss: 0.1912 - accuracy: 0.9380 - val_loss: 2.3324 - val_accuracy: 0.5395\n",
            "Epoch 23/100\n",
            "196/196 [==============================] - 1s 7ms/step - loss: 0.1842 - accuracy: 0.9407 - val_loss: 2.4440 - val_accuracy: 0.5475\n",
            "Epoch 24/100\n",
            "196/196 [==============================] - 1s 7ms/step - loss: 0.1730 - accuracy: 0.9436 - val_loss: 2.5382 - val_accuracy: 0.5439\n",
            "Epoch 25/100\n",
            "196/196 [==============================] - 1s 7ms/step - loss: 0.1804 - accuracy: 0.9407 - val_loss: 2.8162 - val_accuracy: 0.5494\n",
            "Epoch 26/100\n",
            "196/196 [==============================] - 1s 7ms/step - loss: 0.1554 - accuracy: 0.9505 - val_loss: 2.6992 - val_accuracy: 0.5475\n",
            "Epoch 27/100\n",
            "196/196 [==============================] - 1s 7ms/step - loss: 0.1278 - accuracy: 0.9600 - val_loss: 2.7003 - val_accuracy: 0.5366\n",
            "Epoch 28/100\n",
            "196/196 [==============================] - 1s 7ms/step - loss: 0.1243 - accuracy: 0.9608 - val_loss: 2.7561 - val_accuracy: 0.5433\n",
            "Epoch 29/100\n",
            "196/196 [==============================] - 1s 7ms/step - loss: 0.1283 - accuracy: 0.9590 - val_loss: 2.7045 - val_accuracy: 0.5403\n",
            "Epoch 30/100\n",
            "196/196 [==============================] - 1s 7ms/step - loss: 0.1107 - accuracy: 0.9650 - val_loss: 2.7169 - val_accuracy: 0.5408\n",
            "Epoch 31/100\n",
            "196/196 [==============================] - 1s 7ms/step - loss: 0.1050 - accuracy: 0.9668 - val_loss: 2.7315 - val_accuracy: 0.5368\n",
            "Epoch 32/100\n",
            "196/196 [==============================] - 1s 7ms/step - loss: 0.1058 - accuracy: 0.9665 - val_loss: 2.7498 - val_accuracy: 0.5412\n",
            "Epoch 33/100\n",
            "196/196 [==============================] - 1s 7ms/step - loss: 0.1186 - accuracy: 0.9638 - val_loss: 3.0836 - val_accuracy: 0.5403\n",
            "Epoch 34/100\n",
            "196/196 [==============================] - 1s 7ms/step - loss: 0.1075 - accuracy: 0.9670 - val_loss: 2.5903 - val_accuracy: 0.5450\n",
            "Epoch 35/100\n",
            "196/196 [==============================] - 1s 7ms/step - loss: 0.0973 - accuracy: 0.9694 - val_loss: 2.6786 - val_accuracy: 0.5389\n",
            "Epoch 36/100\n",
            "196/196 [==============================] - 1s 7ms/step - loss: 0.0884 - accuracy: 0.9714 - val_loss: 3.0963 - val_accuracy: 0.5471\n",
            "Epoch 37/100\n",
            "196/196 [==============================] - 1s 7ms/step - loss: 0.0921 - accuracy: 0.9705 - val_loss: 3.0330 - val_accuracy: 0.5499\n",
            "Epoch 38/100\n",
            "196/196 [==============================] - 1s 7ms/step - loss: 0.0875 - accuracy: 0.9728 - val_loss: 2.9307 - val_accuracy: 0.5439\n",
            "Epoch 39/100\n",
            "196/196 [==============================] - 1s 7ms/step - loss: 0.0834 - accuracy: 0.9742 - val_loss: 2.9527 - val_accuracy: 0.5495\n",
            "Epoch 40/100\n",
            "196/196 [==============================] - 1s 7ms/step - loss: 0.0905 - accuracy: 0.9718 - val_loss: 3.1960 - val_accuracy: 0.5473\n",
            "Epoch 41/100\n",
            "196/196 [==============================] - 1s 7ms/step - loss: 0.0944 - accuracy: 0.9720 - val_loss: 2.7727 - val_accuracy: 0.5489\n",
            "Epoch 42/100\n",
            "196/196 [==============================] - 1s 7ms/step - loss: 0.0938 - accuracy: 0.9722 - val_loss: 3.1271 - val_accuracy: 0.5436\n",
            "Epoch 43/100\n",
            "196/196 [==============================] - 1s 7ms/step - loss: 0.0780 - accuracy: 0.9757 - val_loss: 2.8690 - val_accuracy: 0.5354\n",
            "Epoch 44/100\n",
            "196/196 [==============================] - 1s 7ms/step - loss: 0.0817 - accuracy: 0.9744 - val_loss: 3.2356 - val_accuracy: 0.5488\n",
            "Epoch 45/100\n",
            "196/196 [==============================] - 1s 7ms/step - loss: 0.0698 - accuracy: 0.9787 - val_loss: 2.8670 - val_accuracy: 0.5436\n",
            "Epoch 46/100\n",
            "196/196 [==============================] - 1s 7ms/step - loss: 0.0612 - accuracy: 0.9808 - val_loss: 3.1259 - val_accuracy: 0.5572\n",
            "Epoch 47/100\n",
            "196/196 [==============================] - 1s 7ms/step - loss: 0.0696 - accuracy: 0.9791 - val_loss: 2.9168 - val_accuracy: 0.5460\n",
            "Epoch 48/100\n",
            "196/196 [==============================] - 1s 7ms/step - loss: 0.0829 - accuracy: 0.9743 - val_loss: 3.0500 - val_accuracy: 0.5413\n",
            "Epoch 49/100\n",
            "196/196 [==============================] - 2s 8ms/step - loss: 0.0751 - accuracy: 0.9774 - val_loss: 3.2453 - val_accuracy: 0.5462\n",
            "Epoch 50/100\n",
            "196/196 [==============================] - 1s 7ms/step - loss: 0.0717 - accuracy: 0.9781 - val_loss: 2.8931 - val_accuracy: 0.5417\n",
            "Epoch 51/100\n",
            "196/196 [==============================] - 1s 7ms/step - loss: 0.0728 - accuracy: 0.9781 - val_loss: 2.9183 - val_accuracy: 0.5521\n",
            "Epoch 52/100\n",
            "196/196 [==============================] - 1s 7ms/step - loss: 0.0771 - accuracy: 0.9786 - val_loss: 3.2764 - val_accuracy: 0.5475\n",
            "Epoch 53/100\n",
            "196/196 [==============================] - 1s 7ms/step - loss: 0.0767 - accuracy: 0.9781 - val_loss: 3.1475 - val_accuracy: 0.5520\n",
            "Epoch 54/100\n",
            "196/196 [==============================] - 1s 7ms/step - loss: 0.0558 - accuracy: 0.9821 - val_loss: 3.0163 - val_accuracy: 0.5490\n",
            "Epoch 55/100\n",
            "196/196 [==============================] - 1s 7ms/step - loss: 0.0596 - accuracy: 0.9817 - val_loss: 3.2888 - val_accuracy: 0.5489\n",
            "Epoch 56/100\n",
            "196/196 [==============================] - 1s 7ms/step - loss: 0.0635 - accuracy: 0.9812 - val_loss: 2.9968 - val_accuracy: 0.5412\n",
            "Epoch 57/100\n",
            "196/196 [==============================] - 1s 7ms/step - loss: 0.0704 - accuracy: 0.9789 - val_loss: 3.0100 - val_accuracy: 0.5447\n",
            "Epoch 58/100\n",
            "196/196 [==============================] - 1s 7ms/step - loss: 0.0655 - accuracy: 0.9811 - val_loss: 3.0432 - val_accuracy: 0.5439\n",
            "Epoch 59/100\n",
            "196/196 [==============================] - 1s 7ms/step - loss: 0.0576 - accuracy: 0.9826 - val_loss: 2.9926 - val_accuracy: 0.5498\n",
            "Epoch 60/100\n",
            "196/196 [==============================] - 1s 7ms/step - loss: 0.0657 - accuracy: 0.9806 - val_loss: 2.9889 - val_accuracy: 0.5429\n",
            "Epoch 61/100\n",
            "196/196 [==============================] - 1s 7ms/step - loss: 0.0733 - accuracy: 0.9800 - val_loss: 2.8814 - val_accuracy: 0.5432\n",
            "Epoch 62/100\n",
            "196/196 [==============================] - 1s 7ms/step - loss: 0.0680 - accuracy: 0.9817 - val_loss: 2.8848 - val_accuracy: 0.5495\n",
            "Epoch 63/100\n",
            "196/196 [==============================] - 1s 7ms/step - loss: 0.0526 - accuracy: 0.9839 - val_loss: 3.2131 - val_accuracy: 0.5484\n",
            "Epoch 64/100\n",
            "196/196 [==============================] - 1s 7ms/step - loss: 0.0570 - accuracy: 0.9841 - val_loss: 3.1949 - val_accuracy: 0.5479\n",
            "Epoch 65/100\n",
            "196/196 [==============================] - 1s 7ms/step - loss: 0.0430 - accuracy: 0.9875 - val_loss: 3.0409 - val_accuracy: 0.5461\n",
            "Epoch 66/100\n",
            "196/196 [==============================] - 1s 7ms/step - loss: 0.0681 - accuracy: 0.9797 - val_loss: 3.1467 - val_accuracy: 0.5508\n",
            "Epoch 67/100\n",
            "196/196 [==============================] - 1s 7ms/step - loss: 0.0668 - accuracy: 0.9814 - val_loss: 3.1601 - val_accuracy: 0.5480\n",
            "Epoch 68/100\n",
            "196/196 [==============================] - 1s 7ms/step - loss: 0.0643 - accuracy: 0.9817 - val_loss: 3.3669 - val_accuracy: 0.5522\n",
            "Epoch 69/100\n",
            "196/196 [==============================] - 1s 7ms/step - loss: 0.0543 - accuracy: 0.9848 - val_loss: 3.5256 - val_accuracy: 0.5489\n",
            "Epoch 70/100\n",
            "196/196 [==============================] - 1s 7ms/step - loss: 0.0389 - accuracy: 0.9892 - val_loss: 3.2479 - val_accuracy: 0.5497\n",
            "Epoch 71/100\n",
            "196/196 [==============================] - 1s 7ms/step - loss: 0.0478 - accuracy: 0.9869 - val_loss: 3.3579 - val_accuracy: 0.5477\n",
            "Epoch 72/100\n",
            "196/196 [==============================] - 1s 7ms/step - loss: 0.0551 - accuracy: 0.9854 - val_loss: 3.3844 - val_accuracy: 0.5496\n",
            "Epoch 73/100\n",
            "196/196 [==============================] - 1s 7ms/step - loss: 0.0392 - accuracy: 0.9888 - val_loss: 3.5167 - val_accuracy: 0.5493\n",
            "Epoch 74/100\n",
            "196/196 [==============================] - 1s 7ms/step - loss: 0.0685 - accuracy: 0.9823 - val_loss: 2.9625 - val_accuracy: 0.5479\n",
            "Epoch 75/100\n",
            "196/196 [==============================] - 1s 7ms/step - loss: 0.0450 - accuracy: 0.9861 - val_loss: 3.3447 - val_accuracy: 0.5490\n",
            "Epoch 76/100\n",
            "196/196 [==============================] - 1s 7ms/step - loss: 0.0395 - accuracy: 0.9880 - val_loss: 3.0047 - val_accuracy: 0.5425\n",
            "Epoch 77/100\n",
            "196/196 [==============================] - 1s 7ms/step - loss: 0.0532 - accuracy: 0.9834 - val_loss: 3.1533 - val_accuracy: 0.5444\n",
            "Epoch 78/100\n",
            "196/196 [==============================] - 1s 7ms/step - loss: 0.0581 - accuracy: 0.9843 - val_loss: 3.4379 - val_accuracy: 0.5487\n",
            "Epoch 79/100\n",
            "196/196 [==============================] - 1s 7ms/step - loss: 0.0590 - accuracy: 0.9821 - val_loss: 3.5800 - val_accuracy: 0.5488\n",
            "Epoch 80/100\n",
            "196/196 [==============================] - 1s 7ms/step - loss: 0.0596 - accuracy: 0.9842 - val_loss: 3.1577 - val_accuracy: 0.5472\n",
            "Epoch 81/100\n",
            "196/196 [==============================] - 1s 7ms/step - loss: 0.0470 - accuracy: 0.9864 - val_loss: 3.4266 - val_accuracy: 0.5518\n",
            "Epoch 82/100\n",
            "196/196 [==============================] - 1s 7ms/step - loss: 0.0336 - accuracy: 0.9907 - val_loss: 3.3298 - val_accuracy: 0.5486\n",
            "Epoch 83/100\n",
            "196/196 [==============================] - 1s 7ms/step - loss: 0.0467 - accuracy: 0.9872 - val_loss: 3.1416 - val_accuracy: 0.5477\n",
            "Epoch 84/100\n",
            "196/196 [==============================] - 1s 7ms/step - loss: 0.0415 - accuracy: 0.9879 - val_loss: 3.5433 - val_accuracy: 0.5501\n",
            "Epoch 85/100\n",
            "196/196 [==============================] - 1s 7ms/step - loss: 0.0401 - accuracy: 0.9889 - val_loss: 3.1949 - val_accuracy: 0.5451\n",
            "Epoch 86/100\n",
            "196/196 [==============================] - 1s 7ms/step - loss: 0.0539 - accuracy: 0.9844 - val_loss: 2.9286 - val_accuracy: 0.5543\n",
            "Epoch 87/100\n",
            "196/196 [==============================] - 1s 7ms/step - loss: 0.0401 - accuracy: 0.9884 - val_loss: 3.3596 - val_accuracy: 0.5511\n",
            "Epoch 88/100\n",
            "196/196 [==============================] - 1s 7ms/step - loss: 0.0502 - accuracy: 0.9856 - val_loss: 3.2383 - val_accuracy: 0.5451\n",
            "Epoch 89/100\n",
            "196/196 [==============================] - 1s 7ms/step - loss: 0.0388 - accuracy: 0.9889 - val_loss: 3.5677 - val_accuracy: 0.5508\n",
            "Epoch 90/100\n",
            "196/196 [==============================] - 1s 7ms/step - loss: 0.0486 - accuracy: 0.9866 - val_loss: 3.2886 - val_accuracy: 0.5528\n",
            "Epoch 91/100\n",
            "196/196 [==============================] - 1s 7ms/step - loss: 0.0383 - accuracy: 0.9893 - val_loss: 3.3918 - val_accuracy: 0.5454\n",
            "Epoch 92/100\n",
            "196/196 [==============================] - 1s 7ms/step - loss: 0.0448 - accuracy: 0.9866 - val_loss: 3.0251 - val_accuracy: 0.5468\n",
            "Epoch 93/100\n",
            "196/196 [==============================] - 1s 7ms/step - loss: 0.0509 - accuracy: 0.9865 - val_loss: 3.4321 - val_accuracy: 0.5460\n",
            "Epoch 94/100\n",
            "196/196 [==============================] - 1s 7ms/step - loss: 0.0335 - accuracy: 0.9909 - val_loss: 3.5667 - val_accuracy: 0.5472\n",
            "Epoch 95/100\n",
            "196/196 [==============================] - 1s 7ms/step - loss: 0.0292 - accuracy: 0.9918 - val_loss: 3.4409 - val_accuracy: 0.5523\n",
            "Epoch 96/100\n",
            "196/196 [==============================] - 1s 7ms/step - loss: 0.0596 - accuracy: 0.9836 - val_loss: 3.1209 - val_accuracy: 0.5474\n",
            "Epoch 97/100\n",
            "196/196 [==============================] - 1s 7ms/step - loss: 0.0409 - accuracy: 0.9884 - val_loss: 2.9605 - val_accuracy: 0.5454\n",
            "Epoch 98/100\n",
            "196/196 [==============================] - 1s 7ms/step - loss: 0.0430 - accuracy: 0.9879 - val_loss: 3.6236 - val_accuracy: 0.5526\n",
            "Epoch 99/100\n",
            "196/196 [==============================] - 1s 7ms/step - loss: 0.0316 - accuracy: 0.9915 - val_loss: 3.4051 - val_accuracy: 0.5510\n",
            "Epoch 100/100\n",
            "196/196 [==============================] - 1s 7ms/step - loss: 0.0309 - accuracy: 0.9906 - val_loss: 3.2761 - val_accuracy: 0.5365\n"
          ],
          "name": "stdout"
        },
        {
          "output_type": "execute_result",
          "data": {
            "text/plain": [
              "<tensorflow.python.keras.callbacks.History at 0x7f39140e59b0>"
            ]
          },
          "metadata": {
            "tags": []
          },
          "execution_count": 11
        }
      ]
    },
    {
      "cell_type": "code",
      "metadata": {
        "colab": {
          "base_uri": "https://localhost:8080/",
          "height": 545
        },
        "id": "Pk1fBtBtAQXZ",
        "outputId": "7e79c803-da82-4d22-842f-80f0fb71121e"
      },
      "source": [
        "import matplotlib.pyplot as plt\r\n",
        "\r\n",
        "\r\n",
        "train_loss = model2.history.history[\"loss\"]\r\n",
        "valid_loss = model2.history.history[\"val_loss\"]\r\n",
        "\r\n",
        "train_acc = model2.history.history[\"accuracy\"]\r\n",
        "valid_acc = model2.history.history[\"val_accuracy\"]\r\n",
        "\r\n",
        "plt.plot(range(len(train_loss)), train_loss, label=\"train loss\")\r\n",
        "plt.plot(range(len(valid_loss)), valid_loss, label=\"valid loss\")\r\n",
        "plt.legend()\r\n",
        "plt.title(\"Loss\")\r\n",
        "plt.show()\r\n",
        "\r\n",
        "plt.plot(range(len(train_acc)), train_acc, label=\"train accuracy\")\r\n",
        "plt.plot(range(len(valid_acc)), valid_acc, label=\"valid accuracy\")\r\n",
        "plt.legend()\r\n",
        "plt.title(\"Accuracy\")\r\n",
        "plt.show()"
      ],
      "execution_count": 12,
      "outputs": [
        {
          "output_type": "display_data",
          "data": {
            "image/png": "[encoded data removed]",
            "text/plain": [
              "<Figure size 432x288 with 1 Axes>"
            ]
          },
          "metadata": {
            "tags": [],
            "needs_background": "light"
          }
        },
        {
          "output_type": "display_data",
          "data": {
            "image/png": "[encoded data removed]",
            "text/plain": [
              "<Figure size 432x288 with 1 Axes>"
            ]
          },
          "metadata": {
            "tags": [],
            "needs_background": "light"
          }
        }
      ]
    },
    {
      "cell_type": "code",
      "metadata": {
        "id": "SQyZPn7KAQaE"
      },
      "source": [
        ""
      ],
      "execution_count": 12,
      "outputs": []
    },
    {
      "cell_type": "code",
      "metadata": {
        "id": "fb7Ts-z9AQcr"
      },
      "source": [
        ""
      ],
      "execution_count": 12,
      "outputs": []
    }
  ]
}