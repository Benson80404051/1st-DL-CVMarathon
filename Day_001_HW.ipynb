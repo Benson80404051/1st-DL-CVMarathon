{
 "cells": [
  {
   "cell_type": "markdown",
   "metadata": {},
   "source": [
    "# [作業1]\n",
    "# 請寫一個函式用來計算 Mean Square Error"
   ]
  },
  {
   "cell_type": "code",
   "execution_count": 4,
   "metadata": {},
   "outputs": [],
   "source": [
    "def mean_sqr_error(y, y_pred):\n",
    "    mse = sum(pow(abs(y-y_pred),2))/len(y)\n",
    "    return mse"
   ]
  },
  {
   "cell_type": "markdown",
   "metadata": {},
   "source": [
    "# [作業2]\n",
    "# 請上 Kaggle, 在 Competitions 或 Dataset 中找一組競賽或資料並寫下：\n",
    "1. 你選的這組資料為何重要\n",
    "\n",
    "2. 資料從何而來 (tips: 譬如提供者是誰、以什麼方式蒐集)\n",
    "\n",
    "3. 蒐集而來的資料型態為何\n",
    "\n",
    "4. 這組資料想解決的問題如何評估"
   ]
  },
  {
   "cell_type": "code",
   "execution_count": null,
   "metadata": {},
   "outputs": [],
   "source": [
    "'''\n",
    "1. 這組資料為何重要:\n",
    "商業問題-依照買家想要的房屋規格, 預測房價\n",
    "\n",
    "2. 資料來源:\n",
    "Kaggle\n",
    "(The Ames Housing dataset)\n",
    "\n",
    "3. 資料型態為何:\n",
    "結構化資料(數值、表格)\n",
    "\n",
    "\n",
    "4. 資料想解決的問題如何評估:\n",
    "該規格房型的房價: Root-Mean-Squared-Error (RMSE)\n",
    "\n",
    "'''"
   ]
  },
  {
   "cell_type": "markdown",
   "metadata": {},
   "source": [
    "# [作業3] \n",
    "# 想像你經營一個自由載客車隊，你希望能透過數據分析以提升業績，請你思考並描述你如何規劃整體的分析/解決方案：\n",
    "\n",
    "1. 核心問題為何 (tips：如何定義 「提升業績 & 你的假設」)\n",
    "\n",
    "2. 資料從何而來 (tips：哪些資料可能會對你想問的問題產生影響 & 資料如何蒐集)\n",
    "\n",
    "3. 蒐集而來的資料型態為何\n",
    "\n",
    "4. 你要回答的問題，其如何評估 (tips：你的假設如何驗證)"
   ]
  },
  {
   "cell_type": "code",
   "execution_count": null,
   "metadata": {},
   "outputs": [],
   "source": [
    "'''\n",
    "1. 核心問題:\n",
    "商業問題-現有人力資源沒有做最有效的運用, 以致業績未達預期\n",
    "我假設是因為司機偏好在特定區塊等待客人, 但該區塊並不是擁有最多潛在客戶的區域\n",
    "\n",
    "2. 資料來源:\n",
    "藉由司機載客回報\n",
    "\n",
    "3. 蒐集到的資料型態:\n",
    "最基本的回傳資料為我設定至少要有 1.等待地區 2. 閒置開始時間 3. 客戶上車時間  \n",
    "初始資料可能是藉由司機口述或填寫的非結構化資料(音訊, 文字), 再藉由他人轉換為結構化資料(數值, 表格)\n",
    "若有即時的線上資訊系統可供司機及時填寫, 則可直接獲得結構化資料\n",
    "\n",
    "4. 回答的核心問題&評估:\n",
    "最短閒置時間的地區排名: MAE\n",
    "等待時間預測: MSE or RMSE\n",
    "\n",
    "'''"
   ]
  }
 ],
 "metadata": {
  "kernelspec": {
   "display_name": "Python 3",
   "language": "python",
   "name": "python3"
  },
  "language_info": {
   "codemirror_mode": {
    "name": "ipython",
    "version": 3
   },
   "file_extension": ".py",
   "mimetype": "text/x-python",
   "name": "python",
   "nbconvert_exporter": "python",
   "pygments_lexer": "ipython3",
   "version": "3.7.6"
  }
 },
 "nbformat": 4,
 "nbformat_minor": 4
}
