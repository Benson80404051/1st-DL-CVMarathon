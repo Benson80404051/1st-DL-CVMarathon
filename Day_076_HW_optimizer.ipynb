{
  "nbformat": 4,
  "nbformat_minor": 0,
  "metadata": {
    "kernelspec": {
      "display_name": "Python 3",
      "language": "python",
      "name": "python3"
    },
    "language_info": {
      "codemirror_mode": {
        "name": "ipython",
        "version": 3
      },
      "file_extension": ".py",
      "mimetype": "text/x-python",
      "name": "python",
      "nbconvert_exporter": "python",
      "pygments_lexer": "ipython3",
      "version": "3.7.6"
    },
    "colab": {
      "name": "D76-optimizer_HW.ipynb",
      "provenance": [],
      "collapsed_sections": [],
      "toc_visible": true
    },
    "accelerator": "GPU"
  },
  "cells": [
    {
      "cell_type": "markdown",
      "metadata": {
        "id": "YtG8oM15ptU4"
      },
      "source": [
        "# 作業重點:\n",
        "\n",
        "(1)以, Adam, 為例, 調整 batch_size, epoch , 觀察accurancy, loss 的變化\n",
        "\n",
        "(2)以同一模型, 分別驗證 SGD, Adam, Rmsprop 的 accurancy"
      ]
    },
    {
      "cell_type": "markdown",
      "metadata": {
        "id": "N382HU3rptU9"
      },
      "source": [
        "# 作業目標:\n",
        "    \n",
        "    取得各種優化器的運算結果"
      ]
    },
    {
      "cell_type": "code",
      "metadata": {
        "id": "T-LaqFbJptU9"
      },
      "source": [
        "from __future__ import print_function\n",
        "import keras\n",
        "from keras.datasets import cifar10\n",
        "from keras.preprocessing.image import ImageDataGenerator\n",
        "from keras.models import Sequential\n",
        "from keras.layers import Dense, Dropout, Activation, Flatten\n",
        "from keras.layers import Conv2D, MaxPooling2D\n",
        "import os\n",
        "from keras import optimizers\n"
      ],
      "execution_count": 1,
      "outputs": []
    },
    {
      "cell_type": "code",
      "metadata": {
        "id": "AGtsBM7sptU-"
      },
      "source": [
        "\n",
        "'''\n",
        "   宣告並設定\n",
        "   batch_size：對總的樣本數進行分組，每組包含的樣本數量\n",
        "   epochs ：訓練次數\n",
        "   \n",
        "''' \n",
        "\n",
        "batch_size = 64\n",
        "num_classes = 10\n",
        "epochs = 20\n",
        "data_augmentation = True\n",
        "num_predictions = 20\n",
        "save_dir = os.path.join(os.getcwd(), 'saved_models')\n",
        "model_name = 'keras_cifar10_trained_model.h5'\n"
      ],
      "execution_count": 2,
      "outputs": []
    },
    {
      "cell_type": "code",
      "metadata": {
        "colab": {
          "base_uri": "https://localhost:8080/"
        },
        "id": "pDgCxiI9ptU_",
        "outputId": "a3114766-7678-469f-c9a6-cc325435448f"
      },
      "source": [
        "\n",
        "# The data, split between train and test sets:\n",
        "(x_train, y_train), (x_test, y_test) = cifar10.load_data()\n",
        "print('x_train shape:', x_train.shape)\n",
        "print(x_train.shape[0], 'train samples')\n",
        "print(x_test.shape[0], 'test samples')\n",
        "\n",
        "# Convert class vectors to binary class matrices.\n",
        "y_train = keras.utils.to_categorical(y_train, num_classes)\n",
        "y_test = keras.utils.to_categorical(y_test, num_classes)"
      ],
      "execution_count": 3,
      "outputs": [
        {
          "output_type": "stream",
          "text": [
            "x_train shape: (50000, 32, 32, 3)\n",
            "50000 train samples\n",
            "10000 test samples\n"
          ],
          "name": "stdout"
        }
      ]
    },
    {
      "cell_type": "code",
      "metadata": {
        "id": "h1woEnAlptU_"
      },
      "source": [
        "#    第一步：選擇模型, 順序模型是多個網絡層的線性堆疊\n",
        " \n",
        "model = Sequential()\n",
        "\n",
        "#   第二步：構建網絡層\n",
        "model.add(Conv2D(32, (3, 3), padding='same',\n",
        "                 input_shape=x_train.shape[1:]))\n",
        "model.add(Activation('relu'))\n",
        "model.add(Conv2D(32, (3, 3)))\n",
        "model.add(Activation('relu'))\n",
        "model.add(MaxPooling2D(pool_size=(2, 2)))\n",
        "model.add(Dropout(0.25))\n",
        "\n",
        "model.add(Conv2D(64, (3, 3), padding='same'))\n",
        "model.add(Activation('relu'))\n",
        "model.add(Conv2D(64, (3, 3)))\n",
        "model.add(Activation('relu'))\n",
        "model.add(MaxPooling2D(pool_size=(2, 2)))\n",
        "model.add(Dropout(0.25))\n",
        "\n",
        "model.add(Flatten())\n",
        "model.add(Dense(512))\n",
        "model.add(Activation('relu'))\n",
        "model.add(Dropout(0.5))\n",
        "\n",
        "model.add(Dense( 10)) # 輸出結果是10個類別，所以維度是10   \n",
        "model.add(Activation('softmax')) # 最後一層用softmax作為激活函數"
      ],
      "execution_count": 4,
      "outputs": []
    },
    {
      "cell_type": "code",
      "metadata": {
        "colab": {
          "base_uri": "https://localhost:8080/"
        },
        "id": "H6_RTO0DptU_",
        "outputId": "a193abc6-31c3-4a93-8c23-7b8c73110cc2"
      },
      "source": [
        "# 模型建立完成後，統計參數總量\n",
        "print(\"Total Parameters：%d\" % model.count_params())"
      ],
      "execution_count": 5,
      "outputs": [
        {
          "output_type": "stream",
          "text": [
            "Total Parameters：1250858\n"
          ],
          "name": "stdout"
        }
      ]
    },
    {
      "cell_type": "code",
      "metadata": {
        "colab": {
          "base_uri": "https://localhost:8080/"
        },
        "id": "LMrCdrx3ptU_",
        "outputId": "5557a21c-2705-4503-e35b-0a80c922cea2"
      },
      "source": [
        "# 輸出模型摘要資訊\n",
        "model.summary()\n"
      ],
      "execution_count": 6,
      "outputs": [
        {
          "output_type": "stream",
          "text": [
            "Model: \"sequential\"\n",
            "_________________________________________________________________\n",
            "Layer (type)                 Output Shape              Param #   \n",
            "=================================================================\n",
            "conv2d (Conv2D)              (None, 32, 32, 32)        896       \n",
            "_________________________________________________________________\n",
            "activation (Activation)      (None, 32, 32, 32)        0         \n",
            "_________________________________________________________________\n",
            "conv2d_1 (Conv2D)            (None, 30, 30, 32)        9248      \n",
            "_________________________________________________________________\n",
            "activation_1 (Activation)    (None, 30, 30, 32)        0         \n",
            "_________________________________________________________________\n",
            "max_pooling2d (MaxPooling2D) (None, 15, 15, 32)        0         \n",
            "_________________________________________________________________\n",
            "dropout (Dropout)            (None, 15, 15, 32)        0         \n",
            "_________________________________________________________________\n",
            "conv2d_2 (Conv2D)            (None, 15, 15, 64)        18496     \n",
            "_________________________________________________________________\n",
            "activation_2 (Activation)    (None, 15, 15, 64)        0         \n",
            "_________________________________________________________________\n",
            "conv2d_3 (Conv2D)            (None, 13, 13, 64)        36928     \n",
            "_________________________________________________________________\n",
            "activation_3 (Activation)    (None, 13, 13, 64)        0         \n",
            "_________________________________________________________________\n",
            "max_pooling2d_1 (MaxPooling2 (None, 6, 6, 64)          0         \n",
            "_________________________________________________________________\n",
            "dropout_1 (Dropout)          (None, 6, 6, 64)          0         \n",
            "_________________________________________________________________\n",
            "flatten (Flatten)            (None, 2304)              0         \n",
            "_________________________________________________________________\n",
            "dense (Dense)                (None, 512)               1180160   \n",
            "_________________________________________________________________\n",
            "activation_4 (Activation)    (None, 512)               0         \n",
            "_________________________________________________________________\n",
            "dropout_2 (Dropout)          (None, 512)               0         \n",
            "_________________________________________________________________\n",
            "dense_1 (Dense)              (None, 10)                5130      \n",
            "_________________________________________________________________\n",
            "activation_5 (Activation)    (None, 10)                0         \n",
            "=================================================================\n",
            "Total params: 1,250,858\n",
            "Trainable params: 1,250,858\n",
            "Non-trainable params: 0\n",
            "_________________________________________________________________\n"
          ],
          "name": "stdout"
        }
      ]
    },
    {
      "cell_type": "markdown",
      "metadata": {
        "id": "XcDSUa3Vg-Kh"
      },
      "source": [
        "## Adam"
      ]
    },
    {
      "cell_type": "code",
      "metadata": {
        "id": "LxU-ULF7ptVA"
      },
      "source": [
        "#第三步編譯\n",
        "'''\n",
        " SGD(隨機梯度下降) - Arguments\n",
        "lr: float >= 0. Learning rate.\n",
        "momentum: float >= 0. Parameter that accelerates SGD in the relevant direction and dampens oscillations.\n",
        "decay: float >= 0. Learning rate decay over each update.\n",
        "nesterov: boolean. Whether to apply Nesterov momentum.\n",
        "'''\n",
        "\n",
        "'''\n",
        "RMSprop- Arguments\n",
        "lr: float >= 0. Learning rate.\n",
        "rho: float >= 0.\n",
        "epsilon: float >= 0. Fuzz factor. If None, defaults to K.epsilon().\n",
        "decay: float >= 0. Learning rate decay over each update.\n",
        "'''\n",
        "\n",
        "'''\n",
        "Example:\n",
        "opt = optimizers.SGD(lr=0.01, decay=1e-6, momentum=0.9, nesterov=True)\n",
        "\n",
        "'''\n",
        "opt = optimizers.Adam()\n",
        "\n",
        "model.compile(optimizer = opt, loss = 'categorical_crossentropy', metrics = ['accuracy'])\n"
      ],
      "execution_count": 7,
      "outputs": []
    },
    {
      "cell_type": "code",
      "metadata": {
        "id": "kyRJbWGLptVA"
      },
      "source": [
        "# 資料正規化\n",
        "x_train = x_train.astype('float32')\n",
        "x_test = x_test.astype('float32')\n",
        "x_train /= 255\n",
        "x_test /= 255\n"
      ],
      "execution_count": 8,
      "outputs": []
    },
    {
      "cell_type": "code",
      "metadata": {
        "colab": {
          "base_uri": "https://localhost:8080/",
          "height": 838
        },
        "id": "ni_cWFwqptVA",
        "outputId": "5f1ed8b3-2edb-450a-fbb0-a7a3fa0f29b7"
      },
      "source": [
        "# 是否要做資料處理\n",
        "if not data_augmentation:\n",
        "    print('Not using data augmentation.')\n",
        "    history=model.fit(x_train, y_train,\n",
        "              batch_size=batch_size,\n",
        "              epochs=epochs,\n",
        "              validation_data=(x_test, y_test),\n",
        "              shuffle=True)\n",
        "else:\n",
        "    print('Using real-time data augmentation.')\n",
        "    print('')\n",
        "        \n",
        "    # This will do preprocessing and realtime data augmentation:\n",
        "    datagen = ImageDataGenerator(\n",
        "        featurewise_center=False,  # set input mean to 0 over the dataset\n",
        "        samplewise_center=False,  # set each sample mean to 0\n",
        "        featurewise_std_normalization=False,  # divide inputs by std of the dataset\n",
        "        samplewise_std_normalization=False,  # divide each input by its std\n",
        "        zca_whitening=False,  # apply ZCA whitening\n",
        "        zca_epsilon=1e-06,  # epsilon for ZCA whitening\n",
        "        rotation_range=0,  # randomly rotate images in the range (degrees, 0 to 180)\n",
        "        # randomly shift images horizontally (fraction of total width)\n",
        "        width_shift_range=0.1,\n",
        "        # randomly shift images vertically (fraction of total height)\n",
        "        height_shift_range=0.1,\n",
        "        shear_range=0.,  # set range for random shear\n",
        "        zoom_range=0.,  # set range for random zoom\n",
        "        channel_shift_range=0.,  # set range for random channel shifts\n",
        "        # set mode for filling points outside the input boundaries\n",
        "        fill_mode='nearest',\n",
        "        cval=0.,  # value used for fill_mode = \"constant\"\n",
        "        horizontal_flip=True,  # randomly flip images\n",
        "        vertical_flip=False,  # randomly flip images\n",
        "        # set rescaling factor (applied before any other transformation)\n",
        "        rescale=None,\n",
        "        # set function that will be applied on each input\n",
        "        preprocessing_function=None,\n",
        "        # image data format, either \"channels_first\" or \"channels_last\"\n",
        "        data_format=None,\n",
        "        # fraction of images reserved for validation (strictly between 0 and 1)\n",
        "        validation_split=0.0)\n",
        "\n",
        "    # Compute quantities required for feature-wise normalization\n",
        "    # (std, mean, and principal components if ZCA whitening is applied).\n",
        "    datagen.fit(x_train)\n",
        "    history=model.fit(x_train, y_train,\n",
        "              batch_size=batch_size,\n",
        "              epochs=epochs,\n",
        "              validation_data=(x_test, y_test),\n",
        "              shuffle=True)   \n",
        "\n",
        "'''\n",
        "   第四步：訓練\n",
        "   .fit的一些參數\n",
        "   batch_size：對總的樣本數進行分組，每組包含的樣本數量\n",
        "   epochs ：訓練次數\n",
        "   shuffle：是否把數據隨機打亂之後再進行訓練\n",
        "   validation_split：拿出百分之多少用來做交叉驗證\n",
        "   verbose：屏顯模式 - 0：不輸出, 1：輸出進度, 2：輸出每次的訓練結果\n",
        "''' \n",
        "    "
      ],
      "execution_count": 9,
      "outputs": [
        {
          "output_type": "stream",
          "text": [
            "Using real-time data augmentation.\n",
            "\n",
            "Epoch 1/20\n",
            "782/782 [==============================] - 8s 7ms/step - loss: 1.7598 - accuracy: 0.3456 - val_loss: 1.1897 - val_accuracy: 0.5695\n",
            "Epoch 2/20\n",
            "782/782 [==============================] - 5s 6ms/step - loss: 1.1911 - accuracy: 0.5778 - val_loss: 1.0408 - val_accuracy: 0.6327\n",
            "Epoch 3/20\n",
            "782/782 [==============================] - 5s 6ms/step - loss: 1.0114 - accuracy: 0.6399 - val_loss: 0.8354 - val_accuracy: 0.7071\n",
            "Epoch 4/20\n",
            "782/782 [==============================] - 5s 6ms/step - loss: 0.8815 - accuracy: 0.6897 - val_loss: 0.7901 - val_accuracy: 0.7263\n",
            "Epoch 5/20\n",
            "782/782 [==============================] - 5s 6ms/step - loss: 0.7941 - accuracy: 0.7159 - val_loss: 0.7303 - val_accuracy: 0.7463\n",
            "Epoch 6/20\n",
            "782/782 [==============================] - 5s 6ms/step - loss: 0.7354 - accuracy: 0.7372 - val_loss: 0.7106 - val_accuracy: 0.7550\n",
            "Epoch 7/20\n",
            "782/782 [==============================] - 5s 6ms/step - loss: 0.6876 - accuracy: 0.7572 - val_loss: 0.6973 - val_accuracy: 0.7634\n",
            "Epoch 8/20\n",
            "782/782 [==============================] - 5s 6ms/step - loss: 0.6482 - accuracy: 0.7705 - val_loss: 0.7478 - val_accuracy: 0.7432\n",
            "Epoch 9/20\n",
            "782/782 [==============================] - 5s 6ms/step - loss: 0.6064 - accuracy: 0.7831 - val_loss: 0.6505 - val_accuracy: 0.7751\n",
            "Epoch 10/20\n",
            "782/782 [==============================] - 5s 6ms/step - loss: 0.5736 - accuracy: 0.7969 - val_loss: 0.6700 - val_accuracy: 0.7703\n",
            "Epoch 11/20\n",
            "782/782 [==============================] - 5s 6ms/step - loss: 0.5573 - accuracy: 0.8024 - val_loss: 0.6376 - val_accuracy: 0.7833\n",
            "Epoch 12/20\n",
            "782/782 [==============================] - 5s 6ms/step - loss: 0.5406 - accuracy: 0.8104 - val_loss: 0.6376 - val_accuracy: 0.7836\n",
            "Epoch 13/20\n",
            "782/782 [==============================] - 5s 6ms/step - loss: 0.5199 - accuracy: 0.8150 - val_loss: 0.6189 - val_accuracy: 0.7908\n",
            "Epoch 14/20\n",
            "782/782 [==============================] - 5s 6ms/step - loss: 0.5036 - accuracy: 0.8221 - val_loss: 0.6745 - val_accuracy: 0.7798\n",
            "Epoch 15/20\n",
            "782/782 [==============================] - 5s 6ms/step - loss: 0.4804 - accuracy: 0.8282 - val_loss: 0.6154 - val_accuracy: 0.7982\n",
            "Epoch 16/20\n",
            "782/782 [==============================] - 5s 6ms/step - loss: 0.4638 - accuracy: 0.8358 - val_loss: 0.6192 - val_accuracy: 0.7958\n",
            "Epoch 17/20\n",
            "782/782 [==============================] - 5s 6ms/step - loss: 0.4551 - accuracy: 0.8380 - val_loss: 0.6256 - val_accuracy: 0.7901\n",
            "Epoch 18/20\n",
            "782/782 [==============================] - 5s 6ms/step - loss: 0.4396 - accuracy: 0.8403 - val_loss: 0.6176 - val_accuracy: 0.7950\n",
            "Epoch 19/20\n",
            "782/782 [==============================] - 5s 6ms/step - loss: 0.4340 - accuracy: 0.8426 - val_loss: 0.6153 - val_accuracy: 0.7972\n",
            "Epoch 20/20\n",
            "782/782 [==============================] - 5s 6ms/step - loss: 0.4135 - accuracy: 0.8510 - val_loss: 0.6465 - val_accuracy: 0.7968\n"
          ],
          "name": "stdout"
        },
        {
          "output_type": "execute_result",
          "data": {
            "application/vnd.google.colaboratory.intrinsic+json": {
              "type": "string"
            },
            "text/plain": [
              "'\\n   第四步：訓練\\n   .fit的一些參數\\n   batch_size：對總的樣本數進行分組，每組包含的樣本數量\\n   epochs ：訓練次數\\n   shuffle：是否把數據隨機打亂之後再進行訓練\\n   validation_split：拿出百分之多少用來做交叉驗證\\n   verbose：屏顯模式 - 0：不輸出, 1：輸出進度, 2：輸出每次的訓練結果\\n'"
            ]
          },
          "metadata": {
            "tags": []
          },
          "execution_count": 9
        }
      ]
    },
    {
      "cell_type": "code",
      "metadata": {
        "colab": {
          "base_uri": "https://localhost:8080/"
        },
        "id": "SAUxzrNYptVA",
        "outputId": "f30f7377-d368-46f4-d2fd-bb49b2873132"
      },
      "source": [
        "# Save model and weights\n",
        "if not os.path.isdir(save_dir):\n",
        "    os.makedirs(save_dir)\n",
        "model_path = os.path.join(save_dir, model_name)\n",
        "model.save(model_path)\n",
        "print('Saved trained model at %s ' % model_path)\n",
        "\n",
        "# Score trained model.\n",
        "scores = model.evaluate(x_test, y_test, verbose=1)\n",
        "print('Test loss:', scores[0])\n",
        "print('Test accuracy:', scores[1])"
      ],
      "execution_count": 10,
      "outputs": [
        {
          "output_type": "stream",
          "text": [
            "Saved trained model at /content/saved_models/keras_cifar10_trained_model.h5 \n",
            "313/313 [==============================] - 1s 2ms/step - loss: 0.6465 - accuracy: 0.7968\n",
            "Test loss: 0.6465128660202026\n",
            "Test accuracy: 0.7968000173568726\n"
          ],
          "name": "stdout"
        }
      ]
    },
    {
      "cell_type": "code",
      "metadata": {
        "colab": {
          "base_uri": "https://localhost:8080/"
        },
        "id": "QX56b4x1ptVB",
        "outputId": "d0eaa781-221a-4c49-af1a-8111d99e3b9b"
      },
      "source": [
        "#    第六步：輸出\n",
        "import numpy \n",
        "\n",
        "print ( \" test set \" )\n",
        "scores = model.evaluate(x_test,y_test,batch_size=200,verbose= 0)\n",
        "print ( \"\" )\n",
        "#print ( \" The test loss is %f \" % scores)\n",
        "print ( \" The test loss is %f \", scores)\n",
        "\n",
        "\n",
        "result = model.predict(x_test,batch_size=200,verbose= 0)\n",
        "\n",
        "result_max = numpy.argmax(result, axis = 1 )\n",
        "test_max = numpy.argmax(y_test, axis = 1 )\n",
        "\n",
        "result_bool = numpy.equal(result_max, test_max)\n",
        "true_num = numpy.sum(result_bool)\n"
      ],
      "execution_count": 11,
      "outputs": [
        {
          "output_type": "stream",
          "text": [
            " test set \n",
            "\n",
            " The test loss is %f  [0.6465126872062683, 0.7968000173568726]\n"
          ],
          "name": "stdout"
        }
      ]
    },
    {
      "cell_type": "code",
      "metadata": {
        "colab": {
          "base_uri": "https://localhost:8080/",
          "height": 573
        },
        "id": "cHHwynffptVB",
        "outputId": "6e33e755-3b9d-4c48-9710-9210479f3be0"
      },
      "source": [
        "import matplotlib.pyplot as plt\n",
        "%matplotlib inline\n",
        "\n",
        "# Plot training & validation accuracy values\n",
        "plt.plot(history.history['accuracy'])\n",
        "plt.plot(history.history['val_accuracy'])\n",
        "plt.title('Model accuracy')\n",
        "plt.ylabel('Accuracy')\n",
        "plt.xlabel('Epoch')\n",
        "plt.legend(['Train', 'Valiidation'], loc='upper left')\n",
        "plt.show()\n",
        "\n",
        "# Plot training & validation loss values\n",
        "plt.plot(history.history['loss'])\n",
        "plt.plot(history.history['val_loss'])\n",
        "plt.title('Model loss')\n",
        "plt.ylabel('Loss')\n",
        "plt.xlabel('Epoch')\n",
        "plt.legend(['Train', 'Valiidation'], loc='upper left')\n",
        "plt.show()"
      ],
      "execution_count": 12,
      "outputs": [
        {
          "output_type": "display_data",
          "data": {
            "image/png": "[encoded data removed]",
            "text/plain": [
              "<Figure size 432x288 with 1 Axes>"
            ]
          },
          "metadata": {
            "tags": [],
            "needs_background": "light"
          }
        },
        {
          "output_type": "display_data",
          "data": {
            "image/png": "[encoded data removed]",
            "text/plain": [
              "<Figure size 432x288 with 1 Axes>"
            ]
          },
          "metadata": {
            "tags": [],
            "needs_background": "light"
          }
        }
      ]
    },
    {
      "cell_type": "markdown",
      "metadata": {
        "id": "YH3drsXnhFEy"
      },
      "source": [
        "## SDG"
      ]
    },
    {
      "cell_type": "code",
      "metadata": {
        "id": "rEQGrUyCkIPf"
      },
      "source": [
        "model2 = Sequential()\r\n",
        "\r\n",
        "#   第二步：構建網絡層\r\n",
        "model2.add(Conv2D(32, (3, 3), padding='same',\r\n",
        "                 input_shape=x_train.shape[1:]))\r\n",
        "model2.add(Activation('relu'))\r\n",
        "model2.add(Conv2D(32, (3, 3)))\r\n",
        "model2.add(Activation('relu'))\r\n",
        "model2.add(MaxPooling2D(pool_size=(2, 2)))\r\n",
        "model2.add(Dropout(0.25))\r\n",
        "\r\n",
        "model2.add(Conv2D(64, (3, 3), padding='same'))\r\n",
        "model2.add(Activation('relu'))\r\n",
        "model2.add(Conv2D(64, (3, 3)))\r\n",
        "model2.add(Activation('relu'))\r\n",
        "model2.add(MaxPooling2D(pool_size=(2, 2)))\r\n",
        "model2.add(Dropout(0.25))\r\n",
        "\r\n",
        "model2.add(Flatten())\r\n",
        "model2.add(Dense(512))\r\n",
        "model2.add(Activation('relu'))\r\n",
        "model2.add(Dropout(0.5))\r\n",
        "\r\n",
        "model2.add(Dense( 10)) # 輸出結果是10個類別，所以維度是10   \r\n",
        "model2.add(Activation('softmax')) # 最後一層用softmax作為激活函數"
      ],
      "execution_count": 13,
      "outputs": []
    },
    {
      "cell_type": "code",
      "metadata": {
        "id": "-7EkKm5fhOKi"
      },
      "source": [
        "#第三步編譯\r\n",
        "'''\r\n",
        " SGD(隨機梯度下降) - Arguments\r\n",
        "lr: float >= 0. Learning rate.\r\n",
        "momentum: float >= 0. Parameter that accelerates SGD in the relevant direction and dampens oscillations.\r\n",
        "decay: float >= 0. Learning rate decay over each update.\r\n",
        "nesterov: boolean. Whether to apply Nesterov momentum.\r\n",
        "'''\r\n",
        "opt = optimizers.SGD()\r\n",
        "model2.compile(optimizer = opt, loss = 'categorical_crossentropy', metrics = ['accuracy'])"
      ],
      "execution_count": 14,
      "outputs": []
    },
    {
      "cell_type": "code",
      "metadata": {
        "colab": {
          "base_uri": "https://localhost:8080/"
        },
        "id": "VFuYLNsChOQI",
        "outputId": "c991ae3d-6d38-49e1-b9a7-f25c9fd2473b"
      },
      "source": [
        "# 是否要做資料處理\r\n",
        "if not data_augmentation:\r\n",
        "    print('Not using data augmentation.')\r\n",
        "    history=model.fit(x_train, y_train,\r\n",
        "              batch_size=batch_size,\r\n",
        "              epochs=epochs,\r\n",
        "              validation_data=(x_test, y_test),\r\n",
        "              shuffle=True)\r\n",
        "else:\r\n",
        "    print('Using real-time data augmentation.')\r\n",
        "    print('')\r\n",
        "        \r\n",
        "    # This will do preprocessing and realtime data augmentation:\r\n",
        "    datagen = ImageDataGenerator(\r\n",
        "        featurewise_center=False,  # set input mean to 0 over the dataset\r\n",
        "        samplewise_center=False,  # set each sample mean to 0\r\n",
        "        featurewise_std_normalization=False,  # divide inputs by std of the dataset\r\n",
        "        samplewise_std_normalization=False,  # divide each input by its std\r\n",
        "        zca_whitening=False,  # apply ZCA whitening\r\n",
        "        zca_epsilon=1e-06,  # epsilon for ZCA whitening\r\n",
        "        rotation_range=0,  # randomly rotate images in the range (degrees, 0 to 180)\r\n",
        "        # randomly shift images horizontally (fraction of total width)\r\n",
        "        width_shift_range=0.1,\r\n",
        "        # randomly shift images vertically (fraction of total height)\r\n",
        "        height_shift_range=0.1,\r\n",
        "        shear_range=0.,  # set range for random shear\r\n",
        "        zoom_range=0.,  # set range for random zoom\r\n",
        "        channel_shift_range=0.,  # set range for random channel shifts\r\n",
        "        # set mode for filling points outside the input boundaries\r\n",
        "        fill_mode='nearest',\r\n",
        "        cval=0.,  # value used for fill_mode = \"constant\"\r\n",
        "        horizontal_flip=True,  # randomly flip images\r\n",
        "        vertical_flip=False,  # randomly flip images\r\n",
        "        # set rescaling factor (applied before any other transformation)\r\n",
        "        rescale=None,\r\n",
        "        # set function that will be applied on each input\r\n",
        "        preprocessing_function=None,\r\n",
        "        # image data format, either \"channels_first\" or \"channels_last\"\r\n",
        "        data_format=None,\r\n",
        "        # fraction of images reserved for validation (strictly between 0 and 1)\r\n",
        "        validation_split=0.0)\r\n",
        "\r\n",
        "    # Compute quantities required for feature-wise normalization\r\n",
        "    # (std, mean, and principal components if ZCA whitening is applied).\r\n",
        "    datagen.fit(x_train)\r\n",
        "    history=model2.fit(x_train, y_train,\r\n",
        "              batch_size=batch_size,\r\n",
        "              epochs=epochs,\r\n",
        "              validation_data=(x_test, y_test),\r\n",
        "              shuffle=True)"
      ],
      "execution_count": 15,
      "outputs": [
        {
          "output_type": "stream",
          "text": [
            "Using real-time data augmentation.\n",
            "\n",
            "Epoch 1/20\n",
            "782/782 [==============================] - 6s 7ms/step - loss: 2.2552 - accuracy: 0.1428 - val_loss: 2.0027 - val_accuracy: 0.2882\n",
            "Epoch 2/20\n",
            "782/782 [==============================] - 5s 6ms/step - loss: 1.9926 - accuracy: 0.2708 - val_loss: 1.8931 - val_accuracy: 0.3195\n",
            "Epoch 3/20\n",
            "782/782 [==============================] - 5s 6ms/step - loss: 1.8530 - accuracy: 0.3313 - val_loss: 1.6996 - val_accuracy: 0.3902\n",
            "Epoch 4/20\n",
            "782/782 [==============================] - 5s 6ms/step - loss: 1.7157 - accuracy: 0.3774 - val_loss: 1.6002 - val_accuracy: 0.4208\n",
            "Epoch 5/20\n",
            "782/782 [==============================] - 5s 6ms/step - loss: 1.6287 - accuracy: 0.4085 - val_loss: 2.2947 - val_accuracy: 0.2434\n",
            "Epoch 6/20\n",
            "782/782 [==============================] - 5s 6ms/step - loss: 1.5638 - accuracy: 0.4358 - val_loss: 1.5334 - val_accuracy: 0.4394\n",
            "Epoch 7/20\n",
            "782/782 [==============================] - 5s 6ms/step - loss: 1.4808 - accuracy: 0.4588 - val_loss: 1.5266 - val_accuracy: 0.4594\n",
            "Epoch 8/20\n",
            "782/782 [==============================] - 5s 6ms/step - loss: 1.4231 - accuracy: 0.4864 - val_loss: 1.3718 - val_accuracy: 0.5130\n",
            "Epoch 9/20\n",
            "782/782 [==============================] - 5s 6ms/step - loss: 1.3800 - accuracy: 0.5048 - val_loss: 1.2633 - val_accuracy: 0.5456\n",
            "Epoch 10/20\n",
            "782/782 [==============================] - 5s 6ms/step - loss: 1.3419 - accuracy: 0.5188 - val_loss: 1.2753 - val_accuracy: 0.5413\n",
            "Epoch 11/20\n",
            "782/782 [==============================] - 5s 6ms/step - loss: 1.3063 - accuracy: 0.5285 - val_loss: 1.2314 - val_accuracy: 0.5712\n",
            "Epoch 12/20\n",
            "782/782 [==============================] - 5s 6ms/step - loss: 1.2694 - accuracy: 0.5444 - val_loss: 1.4099 - val_accuracy: 0.5209\n",
            "Epoch 13/20\n",
            "782/782 [==============================] - 5s 6ms/step - loss: 1.2395 - accuracy: 0.5612 - val_loss: 1.1665 - val_accuracy: 0.5870\n",
            "Epoch 14/20\n",
            "782/782 [==============================] - 5s 6ms/step - loss: 1.2155 - accuracy: 0.5683 - val_loss: 1.1535 - val_accuracy: 0.5863\n",
            "Epoch 15/20\n",
            "782/782 [==============================] - 5s 6ms/step - loss: 1.1814 - accuracy: 0.5804 - val_loss: 1.0951 - val_accuracy: 0.6108\n",
            "Epoch 16/20\n",
            "782/782 [==============================] - 5s 6ms/step - loss: 1.1542 - accuracy: 0.5909 - val_loss: 1.1546 - val_accuracy: 0.5908\n",
            "Epoch 17/20\n",
            "782/782 [==============================] - 5s 6ms/step - loss: 1.1348 - accuracy: 0.5976 - val_loss: 1.0700 - val_accuracy: 0.6171\n",
            "Epoch 18/20\n",
            "782/782 [==============================] - 5s 6ms/step - loss: 1.1090 - accuracy: 0.6087 - val_loss: 1.0712 - val_accuracy: 0.6241\n",
            "Epoch 19/20\n",
            "782/782 [==============================] - 5s 6ms/step - loss: 1.0852 - accuracy: 0.6145 - val_loss: 1.0312 - val_accuracy: 0.6368\n",
            "Epoch 20/20\n",
            "782/782 [==============================] - 5s 6ms/step - loss: 1.0484 - accuracy: 0.6300 - val_loss: 1.0566 - val_accuracy: 0.6236\n"
          ],
          "name": "stdout"
        }
      ]
    },
    {
      "cell_type": "code",
      "metadata": {
        "colab": {
          "base_uri": "https://localhost:8080/",
          "height": 573
        },
        "id": "l6TCVsN5hOaK",
        "outputId": "c30eb497-c6b2-41fb-d26f-43006e06f0cd"
      },
      "source": [
        "import matplotlib.pyplot as plt\r\n",
        "%matplotlib inline\r\n",
        "\r\n",
        "# Plot training & validation accuracy values\r\n",
        "plt.plot(history.history['accuracy'])\r\n",
        "plt.plot(history.history['val_accuracy'])\r\n",
        "plt.title('Model accuracy')\r\n",
        "plt.ylabel('Accuracy')\r\n",
        "plt.xlabel('Epoch')\r\n",
        "plt.legend(['Train', 'Valiidation'], loc='upper left')\r\n",
        "plt.show()\r\n",
        "\r\n",
        "# Plot training & validation loss values\r\n",
        "plt.plot(history.history['loss'])\r\n",
        "plt.plot(history.history['val_loss'])\r\n",
        "plt.title('Model loss')\r\n",
        "plt.ylabel('Loss')\r\n",
        "plt.xlabel('Epoch')\r\n",
        "plt.legend(['Train', 'Valiidation'], loc='upper left')\r\n",
        "plt.show()"
      ],
      "execution_count": 16,
      "outputs": [
        {
          "output_type": "display_data",
          "data": {
            "image/png": "[encoded data removed]",
            "text/plain": [
              "<Figure size 432x288 with 1 Axes>"
            ]
          },
          "metadata": {
            "tags": [],
            "needs_background": "light"
          }
        },
        {
          "output_type": "display_data",
          "data": {
            "image/png": "[encoded data removed]",
            "text/plain": [
              "<Figure size 432x288 with 1 Axes>"
            ]
          },
          "metadata": {
            "tags": [],
            "needs_background": "light"
          }
        }
      ]
    },
    {
      "cell_type": "code",
      "metadata": {
        "id": "icV7ePJYhOch"
      },
      "source": [
        ""
      ],
      "execution_count": 16,
      "outputs": []
    },
    {
      "cell_type": "code",
      "metadata": {
        "id": "nLSVfxYThOe_"
      },
      "source": [
        ""
      ],
      "execution_count": 16,
      "outputs": []
    },
    {
      "cell_type": "markdown",
      "metadata": {
        "id": "8w7pnXxghFM5"
      },
      "source": [
        "## Rmsprop"
      ]
    },
    {
      "cell_type": "code",
      "metadata": {
        "id": "h4xnKF7okd8Y"
      },
      "source": [
        "model3 = Sequential()\r\n",
        "\r\n",
        "#   第二步：構建網絡層\r\n",
        "model3.add(Conv2D(32, (3, 3), padding='same',\r\n",
        "                 input_shape=x_train.shape[1:]))\r\n",
        "model3.add(Activation('relu'))\r\n",
        "model3.add(Conv2D(32, (3, 3)))\r\n",
        "model3.add(Activation('relu'))\r\n",
        "model3.add(MaxPooling2D(pool_size=(2, 2)))\r\n",
        "model3.add(Dropout(0.25))\r\n",
        "\r\n",
        "model3.add(Conv2D(64, (3, 3), padding='same'))\r\n",
        "model3.add(Activation('relu'))\r\n",
        "model3.add(Conv2D(64, (3, 3)))\r\n",
        "model3.add(Activation('relu'))\r\n",
        "model3.add(MaxPooling2D(pool_size=(2, 2)))\r\n",
        "model3.add(Dropout(0.25))\r\n",
        "\r\n",
        "model3.add(Flatten())\r\n",
        "model3.add(Dense(512))\r\n",
        "model3.add(Activation('relu'))\r\n",
        "model3.add(Dropout(0.5))\r\n",
        "\r\n",
        "model3.add(Dense( 10)) # 輸出結果是10個類別，所以維度是10   \r\n",
        "model3.add(Activation('softmax')) # 最後一層用softmax作為激活函數"
      ],
      "execution_count": 17,
      "outputs": []
    },
    {
      "cell_type": "code",
      "metadata": {
        "id": "wgFgrueYptVB"
      },
      "source": [
        "'''\r\n",
        "RMSprop- Arguments\r\n",
        "lr: float >= 0. Learning rate.\r\n",
        "rho: float >= 0.\r\n",
        "epsilon: float >= 0. Fuzz factor. If None, defaults to K.epsilon().\r\n",
        "decay: float >= 0. Learning rate decay over each update.\r\n",
        "'''\r\n",
        "\r\n",
        "\r\n",
        "opt = optimizers.RMSprop()\r\n",
        "\r\n",
        "model3.compile(optimizer = opt, loss = 'categorical_crossentropy', metrics = ['accuracy'])"
      ],
      "execution_count": 18,
      "outputs": []
    },
    {
      "cell_type": "code",
      "metadata": {
        "id": "2R-QdlcxptVC",
        "colab": {
          "base_uri": "https://localhost:8080/",
          "height": 838
        },
        "outputId": "137a6944-79d2-4007-fc3a-b3a061fafd66"
      },
      "source": [
        "# 是否要做資料處理\r\n",
        "if not data_augmentation:\r\n",
        "    print('Not using data augmentation.')\r\n",
        "    history=model.fit(x_train, y_train,\r\n",
        "              batch_size=batch_size,\r\n",
        "              epochs=epochs,\r\n",
        "              validation_data=(x_test, y_test),\r\n",
        "              shuffle=True)\r\n",
        "else:\r\n",
        "    print('Using real-time data augmentation.')\r\n",
        "    print('')\r\n",
        "        \r\n",
        "    # This will do preprocessing and realtime data augmentation:\r\n",
        "    datagen = ImageDataGenerator(\r\n",
        "        featurewise_center=False,  # set input mean to 0 over the dataset\r\n",
        "        samplewise_center=False,  # set each sample mean to 0\r\n",
        "        featurewise_std_normalization=False,  # divide inputs by std of the dataset\r\n",
        "        samplewise_std_normalization=False,  # divide each input by its std\r\n",
        "        zca_whitening=False,  # apply ZCA whitening\r\n",
        "        zca_epsilon=1e-06,  # epsilon for ZCA whitening\r\n",
        "        rotation_range=0,  # randomly rotate images in the range (degrees, 0 to 180)\r\n",
        "        # randomly shift images horizontally (fraction of total width)\r\n",
        "        width_shift_range=0.1,\r\n",
        "        # randomly shift images vertically (fraction of total height)\r\n",
        "        height_shift_range=0.1,\r\n",
        "        shear_range=0.,  # set range for random shear\r\n",
        "        zoom_range=0.,  # set range for random zoom\r\n",
        "        channel_shift_range=0.,  # set range for random channel shifts\r\n",
        "        # set mode for filling points outside the input boundaries\r\n",
        "        fill_mode='nearest',\r\n",
        "        cval=0.,  # value used for fill_mode = \"constant\"\r\n",
        "        horizontal_flip=True,  # randomly flip images\r\n",
        "        vertical_flip=False,  # randomly flip images\r\n",
        "        # set rescaling factor (applied before any other transformation)\r\n",
        "        rescale=None,\r\n",
        "        # set function that will be applied on each input\r\n",
        "        preprocessing_function=None,\r\n",
        "        # image data format, either \"channels_first\" or \"channels_last\"\r\n",
        "        data_format=None,\r\n",
        "        # fraction of images reserved for validation (strictly between 0 and 1)\r\n",
        "        validation_split=0.0)\r\n",
        "\r\n",
        "    # Compute quantities required for feature-wise normalization\r\n",
        "    # (std, mean, and principal components if ZCA whitening is applied).\r\n",
        "    datagen.fit(x_train)\r\n",
        "    history=model3.fit(x_train, y_train,\r\n",
        "              batch_size=batch_size,\r\n",
        "              epochs=epochs,\r\n",
        "              validation_data=(x_test, y_test),\r\n",
        "              shuffle=True)   \r\n",
        "\r\n",
        "'''\r\n",
        "   第四步：訓練\r\n",
        "   .fit的一些參數\r\n",
        "   batch_size：對總的樣本數進行分組，每組包含的樣本數量\r\n",
        "   epochs ：訓練次數\r\n",
        "   shuffle：是否把數據隨機打亂之後再進行訓練\r\n",
        "   validation_split：拿出百分之多少用來做交叉驗證\r\n",
        "   verbose：屏顯模式 - 0：不輸出, 1：輸出進度, 2：輸出每次的訓練結果\r\n",
        "''' "
      ],
      "execution_count": 19,
      "outputs": [
        {
          "output_type": "stream",
          "text": [
            "Using real-time data augmentation.\n",
            "\n",
            "Epoch 1/20\n",
            "782/782 [==============================] - 6s 7ms/step - loss: 1.8498 - accuracy: 0.3245 - val_loss: 1.1967 - val_accuracy: 0.5802\n",
            "Epoch 2/20\n",
            "782/782 [==============================] - 6s 7ms/step - loss: 1.2301 - accuracy: 0.5673 - val_loss: 1.0519 - val_accuracy: 0.6253\n",
            "Epoch 3/20\n",
            "782/782 [==============================] - 6s 7ms/step - loss: 1.0255 - accuracy: 0.6419 - val_loss: 0.9669 - val_accuracy: 0.6661\n",
            "Epoch 4/20\n",
            "782/782 [==============================] - 6s 7ms/step - loss: 0.9117 - accuracy: 0.6874 - val_loss: 0.8647 - val_accuracy: 0.7067\n",
            "Epoch 5/20\n",
            "782/782 [==============================] - 6s 7ms/step - loss: 0.8302 - accuracy: 0.7137 - val_loss: 0.8093 - val_accuracy: 0.7223\n",
            "Epoch 6/20\n",
            "782/782 [==============================] - 6s 7ms/step - loss: 0.8041 - accuracy: 0.7264 - val_loss: 0.7683 - val_accuracy: 0.7468\n",
            "Epoch 7/20\n",
            "782/782 [==============================] - 6s 7ms/step - loss: 0.7679 - accuracy: 0.7378 - val_loss: 0.7862 - val_accuracy: 0.7357\n",
            "Epoch 8/20\n",
            "782/782 [==============================] - 6s 7ms/step - loss: 0.7492 - accuracy: 0.7435 - val_loss: 0.8430 - val_accuracy: 0.7138\n",
            "Epoch 9/20\n",
            "782/782 [==============================] - 6s 7ms/step - loss: 0.7411 - accuracy: 0.7517 - val_loss: 0.8004 - val_accuracy: 0.7362\n",
            "Epoch 10/20\n",
            "782/782 [==============================] - 6s 7ms/step - loss: 0.7444 - accuracy: 0.7509 - val_loss: 0.7734 - val_accuracy: 0.7505\n",
            "Epoch 11/20\n",
            "782/782 [==============================] - 6s 7ms/step - loss: 0.7475 - accuracy: 0.7531 - val_loss: 0.8209 - val_accuracy: 0.7428\n",
            "Epoch 12/20\n",
            "782/782 [==============================] - 6s 7ms/step - loss: 0.7661 - accuracy: 0.7492 - val_loss: 0.8549 - val_accuracy: 0.7318\n",
            "Epoch 13/20\n",
            "782/782 [==============================] - 6s 7ms/step - loss: 0.7633 - accuracy: 0.7508 - val_loss: 0.9544 - val_accuracy: 0.7377\n",
            "Epoch 14/20\n",
            "782/782 [==============================] - 6s 7ms/step - loss: 0.7958 - accuracy: 0.7413 - val_loss: 0.8853 - val_accuracy: 0.7284\n",
            "Epoch 15/20\n",
            "782/782 [==============================] - 6s 7ms/step - loss: 0.7997 - accuracy: 0.7401 - val_loss: 0.8866 - val_accuracy: 0.7151\n",
            "Epoch 16/20\n",
            "782/782 [==============================] - 6s 7ms/step - loss: 0.7971 - accuracy: 0.7413 - val_loss: 0.8345 - val_accuracy: 0.7495\n",
            "Epoch 17/20\n",
            "782/782 [==============================] - 6s 7ms/step - loss: 0.8143 - accuracy: 0.7349 - val_loss: 0.7792 - val_accuracy: 0.7498\n",
            "Epoch 18/20\n",
            "782/782 [==============================] - 5s 7ms/step - loss: 0.8188 - accuracy: 0.7360 - val_loss: 0.8494 - val_accuracy: 0.7475\n",
            "Epoch 19/20\n",
            "782/782 [==============================] - 6s 7ms/step - loss: 0.8492 - accuracy: 0.7280 - val_loss: 0.9999 - val_accuracy: 0.7126\n",
            "Epoch 20/20\n",
            "782/782 [==============================] - 6s 7ms/step - loss: 0.8634 - accuracy: 0.7220 - val_loss: 0.8807 - val_accuracy: 0.7199\n"
          ],
          "name": "stdout"
        },
        {
          "output_type": "execute_result",
          "data": {
            "application/vnd.google.colaboratory.intrinsic+json": {
              "type": "string"
            },
            "text/plain": [
              "'\\n   第四步：訓練\\n   .fit的一些參數\\n   batch_size：對總的樣本數進行分組，每組包含的樣本數量\\n   epochs ：訓練次數\\n   shuffle：是否把數據隨機打亂之後再進行訓練\\n   validation_split：拿出百分之多少用來做交叉驗證\\n   verbose：屏顯模式 - 0：不輸出, 1：輸出進度, 2：輸出每次的訓練結果\\n'"
            ]
          },
          "metadata": {
            "tags": []
          },
          "execution_count": 19
        }
      ]
    },
    {
      "cell_type": "code",
      "metadata": {
        "colab": {
          "base_uri": "https://localhost:8080/",
          "height": 573
        },
        "id": "XPLdpWNFhQ4D",
        "outputId": "a5b47b79-9e54-4504-b65a-57bdc4b74339"
      },
      "source": [
        "import matplotlib.pyplot as plt\r\n",
        "%matplotlib inline\r\n",
        "\r\n",
        "# Plot training & validation accuracy values\r\n",
        "plt.plot(history.history['accuracy'])\r\n",
        "plt.plot(history.history['val_accuracy'])\r\n",
        "plt.title('Model accuracy')\r\n",
        "plt.ylabel('Accuracy')\r\n",
        "plt.xlabel('Epoch')\r\n",
        "plt.legend(['Train', 'Valiidation'], loc='upper left')\r\n",
        "plt.show()\r\n",
        "\r\n",
        "# Plot training & validation loss values\r\n",
        "plt.plot(history.history['loss'])\r\n",
        "plt.plot(history.history['val_loss'])\r\n",
        "plt.title('Model loss')\r\n",
        "plt.ylabel('Loss')\r\n",
        "plt.xlabel('Epoch')\r\n",
        "plt.legend(['Train', 'Valiidation'], loc='upper left')\r\n",
        "plt.show()"
      ],
      "execution_count": 20,
      "outputs": [
        {
          "output_type": "display_data",
          "data": {
            "image/png": "[encoded data removed]",
            "text/plain": [
              "<Figure size 432x288 with 1 Axes>"
            ]
          },
          "metadata": {
            "tags": [],
            "needs_background": "light"
          }
        },
        {
          "output_type": "display_data",
          "data": {
            "image/png": "[encoded data removed]",
            "text/plain": [
              "<Figure size 432x288 with 1 Axes>"
            ]
          },
          "metadata": {
            "tags": [],
            "needs_background": "light"
          }
        }
      ]
    },
    {
      "cell_type": "code",
      "metadata": {
        "id": "iyWZo6S8hQ6Q"
      },
      "source": [
        ""
      ],
      "execution_count": 20,
      "outputs": []
    },
    {
      "cell_type": "code",
      "metadata": {
        "id": "Xjl82w-7hQ8d"
      },
      "source": [
        ""
      ],
      "execution_count": 20,
      "outputs": []
    }
  ]
}